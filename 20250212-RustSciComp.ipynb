{
 "cells": [
  {
   "cell_type": "markdown",
   "metadata": {
    "cell_style": "center",
    "hideCode": false,
    "hidePrompt": false,
    "slideshow": {
     "slide_type": "slide"
    }
   },
   "source": [
    "# Rust and type safety for MPI and scientific computing\n",
    "\n",
    "## **Jed Brown**, CU Boulder\n",
    "\n",
    "\n",
    "## 2025-02-12"
   ]
  },
  {
   "cell_type": "markdown",
   "metadata": {
    "cell_style": "split",
    "slideshow": {
     "slide_type": "slide"
    }
   },
   "source": [
    "# What does this function do?\n",
    "\n",
    "```c\n",
    "int table[4];\n",
    "bool exists_in_table(int v) {\n",
    "    for (int i = 0; i <= 4; i++) {\n",
    "        if (table[i] == v) return true;\n",
    "    }\n",
    "    return false;\n",
    "}\n",
    "```\n",
    "Compiles and runs cleanly with `-Wall -Wextra -fstack-protector`\n",
    "\n",
    "---\n",
    "* https://godbolt.org/z/64Yxsr31f\n",
    "* https://devblogs.microsoft.com/oldnewthing/20140627-00/?p=633"
   ]
  },
  {
   "cell_type": "markdown",
   "metadata": {
    "cell_style": "split",
    "slideshow": {
     "slide_type": "fragment"
    }
   },
   "source": [
    "```asm\n",
    "exists_in_table:\n",
    "        mov     al, 1\n",
    "        ret\n",
    "```"
   ]
  },
  {
   "cell_type": "markdown",
   "metadata": {
    "cell_style": "center",
    "slideshow": {
     "slide_type": "slide"
    }
   },
   "source": [
    "# What does this program print?"
   ]
  },
  {
   "cell_type": "markdown",
   "metadata": {
    "cell_style": "split",
    "slideshow": {
     "slide_type": ""
    }
   },
   "source": [
    "```c++\n",
    "int main() {\n",
    "    std::vector<int> v {10, 11, 12};\n",
    "    v.pop_back();\n",
    "    int &vref = v[1];\n",
    "    v.push_back(13);\n",
    "    std::cout << vref << std::endl;\n",
    "    return 0;\n",
    "}\n",
    "```\n",
    "\n",
    "---\n",
    "* https://godbolt.org/z/aMs9fTKhG\n",
    "* https://cacm.acm.org/research/safe-systems-programming-in-rust/"
   ]
  },
  {
   "cell_type": "markdown",
   "metadata": {
    "cell_style": "split",
    "slideshow": {
     "slide_type": "fragment"
    }
   },
   "source": [
    "```\n",
    "11\n",
    "```"
   ]
  },
  {
   "cell_type": "markdown",
   "metadata": {
    "cell_style": "split"
   },
   "source": [
    "## Comment `v.pop_back()`\n",
    "\n",
    "```\n",
    "5\n",
    "```\n",
    "(or **anything**)"
   ]
  },
  {
   "cell_type": "markdown",
   "metadata": {
    "slideshow": {
     "slide_type": "slide"
    }
   },
   "source": [
    "# Undefined Behavior (UB) is painful and costly in parallel\n",
    "\n",
    "* UB is masked by abstraction\n",
    "  * You're never looking at the whole context\n",
    "* Reliably avoiding UB in code review and CI is intractible\n",
    "  * tools help with some forms, but lack of detection is not lack of UB\n",
    "* Debugging at scale is hard and HPC facilities do not accommodate that need well\n",
    "* Debugging your user's code via email when it fails nondeterministically at scale is worse yet"
   ]
  },
  {
   "cell_type": "markdown",
   "metadata": {
    "slideshow": {
     "slide_type": "slide"
    }
   },
   "source": [
    "# Cognitive load slows everything\n",
    "\n",
    "* Seasoned developers have been burned enough to have internalized paranoia\n",
    "* It's hard for new developers to \"learn\" that paranoia without being burned themselves\n",
    "  * Part of being burned is learning the arcane tools to debug\n",
    "  * Or wait helplessly until an overworked senior colleague can reproduce and figure it out\n",
    "* The cognitive load is a tax on your critical and creative thinking"
   ]
  },
  {
   "cell_type": "markdown",
   "metadata": {
    "slideshow": {
     "slide_type": "slide"
    }
   },
   "source": [
    "# Rust: a type-safe systems language"
   ]
  },
  {
   "cell_type": "markdown",
   "metadata": {
    "cell_style": "split"
   },
   "source": [
    "```rust\n",
    "fn main() {\n",
    "    let mut v = vec![10, 11, 12];\n",
    "    let vref = &v[1];\n",
    "    v.push(13);\n",
    "    println!(\"{}\", *vref);\n",
    "}\n",
    " ```"
   ]
  },
  {
   "cell_type": "markdown",
   "metadata": {
    "cell_style": "split"
   },
   "source": [
    "**Type-safe/memory-safe**\n",
    "\n",
    "**Near-zero cost**\n",
    "\n",
    "**Expressive, low-level control**"
   ]
  },
  {
   "cell_type": "markdown",
   "metadata": {
    "cell_style": "center",
    "slideshow": {
     "slide_type": "fragment"
    }
   },
   "source": [
    "<pre><font color=\"#F66151\"><b>error[E0502]</b></font><b>: cannot borrow `v` as mutable because it is also borrowed as immutable</b>\n",
    " <font color=\"#2A7BDE\"><b>--&gt; </b></font>src/main.rs:4:5\n",
    "  <font color=\"#2A7BDE\"><b>|</b></font>\n",
    "<font color=\"#2A7BDE\"><b>3</b></font> <font color=\"#2A7BDE\"><b>|</b></font>     let vref = &amp;v[1];\n",
    "  <font color=\"#2A7BDE\"><b>|</b></font>                 <font color=\"#2A7BDE\"><b>-</b></font> <font color=\"#2A7BDE\"><b>immutable borrow occurs here</b></font>\n",
    "<font color=\"#2A7BDE\"><b>4</b></font> <font color=\"#2A7BDE\"><b>|</b></font>     v.push(13);\n",
    "  <font color=\"#2A7BDE\"><b>|</b></font>     <font color=\"#F66151\"><b>^^^^^^^^^^</b></font> <font color=\"#F66151\"><b>mutable borrow occurs here</b></font>\n",
    "<font color=\"#2A7BDE\"><b>5</b></font> <font color=\"#2A7BDE\"><b>|</b></font>     println!(&quot;{}&quot;, *vref);\n",
    "  <font color=\"#2A7BDE\"><b>|</b></font>                    <font color=\"#2A7BDE\"><b>-----</b></font> <font color=\"#2A7BDE\"><b>immutable borrow later used here</b></font>\n",
    "\n",
    "<b>For more information about this error, try `rustc --explain E0502`.</b></pre>"
   ]
  },
  {
   "cell_type": "markdown",
   "metadata": {
    "slideshow": {
     "slide_type": "slide"
    }
   },
   "source": [
    "# MPI is error-prone"
   ]
  },
  {
   "cell_type": "markdown",
   "metadata": {
    "cell_style": "split"
   },
   "source": [
    "```c\n",
    "int x[] = {1, 2, 3, 4}, buf[4];\n",
    "MPI_Request reqs, reqr;\n",
    "MPI_Isend(x, 4, MPI_INT, right, tag, comm, &reqs);\n",
    "MPI_Irecv(buf, 4, MPI_INT, left, tag, comm, &reqr);\n",
    "buf[0]; // data race\n",
    "MPI_Wait(&reqs, MPI_STATUS_IGNORE);\n",
    "MPI_WAIT(&reqr, MPI_STATUS_IGNORE);\n",
    "```"
   ]
  },
  {
   "cell_type": "markdown",
   "metadata": {
    "cell_style": "split"
   },
   "source": [
    "* Caller is responsible for matching types (some special compiler support, but does not cover all cases)\n",
    "* Caller must not mutate `x` until send completes\n",
    "* Caller must not access `buf` until receive completes.\n",
    "* Caller must specify sizes correctly"
   ]
  },
  {
   "cell_type": "markdown",
   "metadata": {
    "cell_style": "center",
    "slideshow": {
     "slide_type": "fragment"
    }
   },
   "source": [
    "* Bugs will be benign for smaller sizes due to the eager threshold\n",
    "* Even worse in the presence of GPU-aware MPI\n",
    "* Tooling is not great at detecting issues"
   ]
  },
  {
   "cell_type": "markdown",
   "metadata": {
    "slideshow": {
     "slide_type": "slide"
    }
   },
   "source": [
    "# RSMPI: safe Rust bindings to MPI"
   ]
  },
  {
   "cell_type": "markdown",
   "metadata": {
    "cell_style": "split"
   },
   "source": [
    "```rs\n",
    "let mut buf = [0; 4];\n",
    "mpi::request::scope(|sc| {\n",
    "    let reqs = world.process_at_rank(right)\n",
    "        .immediate_send(sc, &x[0]);\n",
    "    let reqr = world.process_at_rank(left)\n",
    "        .immediate_receive_into(sc, &mut buf);\n",
    "    buf[0]; // data race\n",
    "    reqs.wait(); reqr.wait();\n",
    "});\n",
    "println!(\"{:?}\", buf);\n",
    "```"
   ]
  },
  {
   "cell_type": "markdown",
   "metadata": {
    "cell_style": "split"
   },
   "source": [
    "* Correct types guaranteed by type-checker\n",
    "* Lifetimes prevent data races\n",
    "  * Aliasing XOR Mutabality (AXM)\n",
    "  * Allows many immutable references `&x`\n",
    "  * If one `&mut x` exists, there can be no others\n",
    "* Bounds checking guaranteed\n",
    "* Clean and concise error messages"
   ]
  },
  {
   "cell_type": "markdown",
   "metadata": {},
   "source": [
    "<pre><font color=\"#F66151\"><b>error[E0503]</b></font><b>: cannot use `buf[_]` because it was mutably borrowed</b>\n",
    "  <font color=\"#2A7BDE\"><b>--&gt; </b></font>examples/immediate_multiple_test.rs:75:13\n",
    "   <font color=\"#2A7BDE\"><b>|</b></font>\n",
    "<font color=\"#2A7BDE\"><b>74</b></font> <font color=\"#2A7BDE\"><b>|</b></font>                 .immediate_receive_into(scope, &amp;mut buf);\n",
    "   <font color=\"#2A7BDE\"><b>|</b></font>                                                <font color=\"#2A7BDE\"><b>--------</b></font> <font color=\"#2A7BDE\"><b>`buf` is borrowed here</b></font>\n",
    "<font color=\"#2A7BDE\"><b>75</b></font> <font color=\"#2A7BDE\"><b>|</b></font>             buf[0]; // data race\n",
    "   <font color=\"#2A7BDE\"><b>|</b></font>             <font color=\"#F66151\"><b>^^^^^^</b></font> <font color=\"#F66151\"><b>use of borrowed `buf`</b></font>\n",
    "<font color=\"#2A7BDE\"><b>76</b></font> <font color=\"#2A7BDE\"><b>|</b></font>             reqs.wait(); reqr.wait();\n",
    "   <font color=\"#2A7BDE\"><b>|</b></font>                          <font color=\"#2A7BDE\"><b>----</b></font> <font color=\"#2A7BDE\"><b>borrow later used here</b></font>\n",
    "\n",
    "<b>For more information about this error, try `rustc --explain E0503`.</b></pre>"
   ]
  },
  {
   "cell_type": "markdown",
   "metadata": {
    "slideshow": {
     "slide_type": "slide"
    }
   },
   "source": [
    "# Collective type matching"
   ]
  },
  {
   "cell_type": "markdown",
   "metadata": {
    "cell_style": "split"
   },
   "source": [
    "```rs\n",
    "if comm.rank() == 0 {\n",
    "    let x = [1.0_f32, 2.0];\n",
    "    comm.process_at_rank(1).send(&x);\n",
    "} else if comm.rank() == 1 {\n",
    "    let mut y = [0.0_f32; 2];\n",
    "    comm.process_at_rank(0).receive_into(&mut y);\n",
    "    println!(\"Rank 1 received: {:?}\", y);\n",
    "}\n",
    "```\n",
    "Yields\n",
    "```\n",
    "Rank 1 received: [1.0, 2.0]\n",
    "```"
   ]
  },
  {
   "cell_type": "markdown",
   "metadata": {
    "cell_style": "split",
    "slideshow": {
     "slide_type": "fragment"
    }
   },
   "source": [
    "```rs\n",
    "if comm.rank() == 0 {\n",
    "    let x = [1.0_f32, 2.0];\n",
    "    comm.process_at_rank(1).send(&x);\n",
    "} else if comm.rank() == 1 {\n",
    "    let mut y = [0_u32; 2]; // <---- changed\n",
    "    comm.process_at_rank(0).receive_into(&mut y);\n",
    "    println!(\"Rank 1 received: {:?}\", y);\n",
    "}\n",
    "```\n",
    "Yields\n",
    "```\n",
    "Rank 1 received: [1065353216, 1073741824]\n",
    "```"
   ]
  },
  {
   "cell_type": "markdown",
   "metadata": {
    "cell_style": "center",
    "slideshow": {
     "slide_type": "fragment"
    }
   },
   "source": [
    "## Was that type-safe?"
   ]
  },
  {
   "cell_type": "markdown",
   "metadata": {
    "cell_style": "center",
    "slideshow": {
     "slide_type": "slide"
    }
   },
   "source": [
    "# Technically, yes"
   ]
  },
  {
   "cell_type": "markdown",
   "metadata": {
    "cell_style": "split",
    "slideshow": {
     "slide_type": ""
    }
   },
   "source": [
    "This is not `unsafe`\n",
    "\n",
    "```rs\n",
    "impl f32 {\n",
    "    pub const fn to_bits(self) -> u32;\n",
    "    pub const fn from_bits(v: u32) -> Self {\n",
    "        // SAFETY: `u32` is a plain old datatype so we can always transmute from it.\n",
    "        unsafe { mem::transmute(v) }\n",
    "    }\n",
    "}\n",
    "```\n",
    "https://doc.rust-lang.org/std/primitive.f32.html#method.to_bits\n",
    "\n",
    "* Every bit pattern is a valid `u32` and `f32` (even if NaN)"
   ]
  },
  {
   "cell_type": "markdown",
   "metadata": {
    "cell_style": "split"
   },
   "source": [
    "## Unsafe Rust\n",
    "\n",
    "* You can manipulate raw pointers in Rust (`*mut f32` vs `&mut f32`).\n",
    "* AXM does not apply to pointers\n",
    "* Most pointer operations are `unsafe`\n",
    "\n",
    "```rs\n",
    "unsafe {\n",
    "    // unsafe operations must be enclosed in an unsafe block\n",
    "    danger(ptr);\n",
    "}\n",
    "\n",
    "unsafe fn danger(x: *mut f32) {\n",
    "    *x.offset(1) += 1.0;\n",
    "}\n",
    "```"
   ]
  },
  {
   "cell_type": "markdown",
   "metadata": {
    "slideshow": {
     "slide_type": "slide"
    }
   },
   "source": [
    "# Was that really type-safe?"
   ]
  },
  {
   "cell_type": "markdown",
   "metadata": {
    "cell_style": "split"
   },
   "source": [
    "## What if instead of `f32` and `u32`, we had `bool` or an enum?\n",
    "\n",
    "A `bool` is the same storage as a `u8`, but only two bit patterns (of 256) are valid. A `bool` embodied with a different bit pattern is UB.\n",
    "\n",
    "Cannot allow receiving into a type in which all bit patterns are not valid (unless we check types)."
   ]
  },
  {
   "cell_type": "markdown",
   "metadata": {
    "cell_style": "split"
   },
   "source": [
    "## It's also just probably a bug if you inadvertently match an `f32` send to a `u32` receive.\n",
    "\n",
    "Type-safety doesn't eliminate bugs, but it provides powerful tools."
   ]
  },
  {
   "cell_type": "markdown",
   "metadata": {
    "slideshow": {
     "slide_type": "slide"
    }
   },
   "source": [
    "# Improving MPI safety for modern languages\n",
    "## Jake Tronge, Howard Pritchard, JB (2023) https://doi.org/10.1145/3615318.3615328"
   ]
  },
  {
   "cell_type": "markdown",
   "metadata": {
    "cell_style": "center"
   },
   "source": [
    "* Match types at run-time using Serde (`bincode`), `iovec`, or `flat` (in-place; implemented by modifying Open MPI)\n",
    "* Mismatches detected at run-time (hard to trace back to root cause, especially for nonblocking)\n",
    "\n",
    "<img src=\"figures/tronge2023/latency-simple-2023-08-15.1.svg\" width=\"90%\" />"
   ]
  },
  {
   "cell_type": "markdown",
   "metadata": {
    "slideshow": {
     "slide_type": "slide"
    }
   },
   "source": [
    "# An alternative: typed communicators (with Nafees Iqbal)"
   ]
  },
  {
   "cell_type": "markdown",
   "metadata": {
    "cell_style": "split",
    "slideshow": {
     "slide_type": ""
    }
   },
   "source": [
    "```rs\n",
    "let comm = TypedCommunicator::new(&world);\n",
    "if comm.rank() == 0 {\n",
    "    let x = [1.0_f32, 2.0];\n",
    "    comm.send_slice(&x, 1, tag);\n",
    "} else {\n",
    "    let mut y = [0_u32; 2];\n",
    "    comm.receive_slice(&mut y, 0, tag);\n",
    "    println!(\"Rank 1 received: {:?}\", y);\n",
    "}\n",
    "```"
   ]
  },
  {
   "cell_type": "markdown",
   "metadata": {
    "cell_style": "split"
   },
   "source": [
    "* Type of `comm` is inferred to be `TypedCommunicator<f32>`\n",
    "* The mismatch is caught at compile time"
   ]
  },
  {
   "cell_type": "markdown",
   "metadata": {},
   "source": [
    "<pre><font color=\"#F66151\"><b>error[E0271]</b></font><b>: type mismatch resolving `&lt;u32 as Equivalence&gt;::Base == f32`</b>\n",
    "  <font color=\"#2A7BDE\"><b>--&gt; </b></font>examples/typed_communicator_test.rs:43:28\n",
    "   <font color=\"#2A7BDE\"><b>|</b></font>\n",
    "<font color=\"#2A7BDE\"><b>43</b></font> <font color=\"#2A7BDE\"><b>|</b></font>         comm.receive_slice(&amp;mut y, 0, tag);\n",
    "   <font color=\"#2A7BDE\"><b>|</b></font>              <font color=\"#2A7BDE\"><b>-------------</b></font> <font color=\"#F66151\"><b>^^^^^^</b></font> <font color=\"#F66151\"><b>expected `f32`, found `u32`</b></font>\n",
    "   <font color=\"#2A7BDE\"><b>|</b></font>              <font color=\"#2A7BDE\"><b>|</b></font>\n",
    "   <font color=\"#2A7BDE\"><b>|</b></font>              <font color=\"#2A7BDE\"><b>required by a bound introduced by this call</b></font>\n",
    "   <font color=\"#2A7BDE\"><b>|</b></font>\n",
    "<font color=\"#33D17A\"><b>note</b></font>: required by a bound in `TypedCommunicator::&lt;&apos;a, T&gt;::receive_slice`\n",
    "  <font color=\"#2A7BDE\"><b>--&gt; </b></font>/home/jed/src/rsmpi/src/typed_communicator.rs:94:24\n",
    "   <font color=\"#2A7BDE\"><b>|</b></font>\n",
    "<font color=\"#2A7BDE\"><b>92</b></font> <font color=\"#2A7BDE\"><b>|</b></font>     pub fn receive_slice&lt;U&gt;(&amp;self, buffer: &amp;mut [U], source: i32, tag: i32)\n",
    "   <font color=\"#2A7BDE\"><b>|</b></font>            <font color=\"#2A7BDE\"><b>-------------</b></font> <font color=\"#2A7BDE\"><b>required by a bound in this associated function</b></font>\n",
    "<font color=\"#2A7BDE\"><b>93</b></font> <font color=\"#2A7BDE\"><b>|</b></font>     where\n",
    "<font color=\"#2A7BDE\"><b>94</b></font> <font color=\"#2A7BDE\"><b>|</b></font>         U: Equivalence&lt;Base = T&gt;,\n",
    "   <font color=\"#2A7BDE\"><b>|</b></font>                        <font color=\"#33D17A\"><b>^^^^^^^^</b></font> <font color=\"#33D17A\"><b>required by this bound in `TypedCommunicator::&lt;&apos;a, T&gt;::receive_slice`</b></font></pre>"
   ]
  },
  {
   "cell_type": "markdown",
   "metadata": {
    "cell_style": "center",
    "slideshow": {
     "slide_type": "slide"
    }
   },
   "source": [
    "# Not zero-cost: need to check at run-time"
   ]
  },
  {
   "cell_type": "markdown",
   "metadata": {
    "cell_style": "split",
    "slideshow": {
     "slide_type": ""
    }
   },
   "source": [
    "This mismatch type-checks if we move the constructor into each arm of the conditional.\n",
    "```rs\n",
    "if world.rank() == 0 {\n",
    "    let comm = TypedCommunicator::new(&world);\n",
    "    let x = [1.0_f32, 2.0];\n",
    "    comm.send_slice(&x, 1, tag);\n",
    "} else {\n",
    "    let comm = TypedCommunicator::new(&world);\n",
    "    let mut y = [0_u32; 2];\n",
    "    comm.receive_slice(&mut y, 0, tag);\n",
    "    println!(\"Rank 1 received: {:?}\", y);\n",
    "}\n",
    "```"
   ]
  },
  {
   "cell_type": "markdown",
   "metadata": {
    "cell_style": "split"
   },
   "source": [
    "* The constructor `TypedCommunicator::new` must have a run-time check for compatibility (cost of one reduction)\n",
    "  * Root cause of a mismatch is more explainable\n",
    "* Zero-cost after construction\n",
    "* Can send/receive congruent types (do not need to match exactly)\n",
    "* Is it expressive enough?\n",
    "  * Although PETSc uses derived types, all but one message type contains homogeneous \"base\" of integer or floating-point data.\n",
    "* Run-time checks don't prevent deadlock"
   ]
  },
  {
   "cell_type": "markdown",
   "metadata": {
    "slideshow": {
     "slide_type": "slide"
    }
   },
   "source": [
    "# Compile-time convergent/collective semantics?"
   ]
  },
  {
   "cell_type": "markdown",
   "metadata": {
    "cell_style": "split",
    "slideshow": {
     "slide_type": ""
    }
   },
   "source": [
    "## Choreographic programming\n",
    "\n",
    "Inspired by https://lsd-ucsc.github.io/ChoRus/\n",
    "\n",
    "```rs\n",
    "struct X {\n",
    "    local: Local<Part>,\n",
    "    global_param: f64,\n",
    "}\n",
    "\n",
    "comm.locally(|access| {\n",
    "    let mut loc = access(x.local);\n",
    "    loc[0] =+ 1.0;\n",
    "}\n",
    "// no access to divergent/local state\n",
    "comm.reduce(x.global_param);\n",
    "```\n",
    "\n",
    "* Fits collective intuition; enshrines best practices\n",
    "* Cannot prevent leaking divergent data out of `comm.locally` via interior mutability"
   ]
  },
  {
   "cell_type": "markdown",
   "metadata": {
    "cell_style": "split"
   },
   "source": [
    "## Session types\n",
    "\n",
    "* Inconvenient: write algorithm once in type and again to implement\n",
    "* Session type inference using generativity (\"branding\") and RPIT:\n",
    "\n",
    "```rs\n",
    "if tid == 0 {\n",
    "    let (unique_x, token) = sync(\n",
    "        data_x.with_policy(consteval!(UniqueAccess { owner: 2 })),\n",
    "        token,\n",
    "    );\n",
    "    token // one type\n",
    "} else {\n",
    "    let (unique_x, token) = sync(\n",
    "        data_x.with_policy(consteval!(UniqueAccess { owner: 0 })),\n",
    "        token,\n",
    "    );\n",
    "    token // different type\n",
    "}\n",
    "```\n",
    "\n",
    "* Awkward, high cognitive load\n",
    "* Poor error messages\n"
   ]
  },
  {
   "cell_type": "markdown",
   "metadata": {
    "cell_style": "center",
    "slideshow": {
     "slide_type": "slide"
    }
   },
   "source": [
    "# Effects systems"
   ]
  },
  {
   "cell_type": "markdown",
   "metadata": {
    "cell_style": "split"
   },
   "source": [
    "Rust has `const fn` and `async fn`, both of which limit what you can do.\n",
    "\n",
    "https://rust-lang.github.io/keyword-generics-initiative/updates/2024-02-09-extending-rusts-effect-system.html\n",
    "\n",
    "> * **no-panic**: guarantees a function will never produce a panic, causing the function to unwind.\n",
    "> * **parametricity**: guarantees that a function only operates on its arguments. That means no implicit access to statics, no global filesystem, no thread-locals."
   ]
  },
  {
   "cell_type": "markdown",
   "metadata": {
    "cell_style": "split"
   },
   "source": [
    "## `#t-lang/effects` (314 members) on effect generics initiative\n",
    "\n",
    "We could add `convergent fn`: similar to parametricity, ensuring that divergent data cannot be used (no `comm.rank()`, etc.), including in error code paths (via `Result` or panic)."
   ]
  },
  {
   "cell_type": "markdown",
   "metadata": {
    "slideshow": {
     "slide_type": "slide"
    }
   },
   "source": [
    "# RSMPI niceties\n",
    "\n",
    "Derive macro for `Equivalence` is all you need to send/receive structs\n",
    "\n",
    "```rs\n",
    "#[derive(Equivalence, Default, PartialEq, Debug)]\n",
    "struct MyDataRust {\n",
    "    b: bool,\n",
    "    f: f64,\n",
    "    i: u16,\n",
    "}\n",
    "```\n",
    "\n",
    "No need for `MPI_Type_create_struct`, etc."
   ]
  },
  {
   "cell_type": "markdown",
   "metadata": {
    "cell_style": "center",
    "slideshow": {
     "slide_type": "slide"
    }
   },
   "source": [
    "# On soundness\n",
    "\n",
    "Any function that is safe to call (i.e., not an `unsafe fn`) must have defined behavior for all well-typed inputs."
   ]
  },
  {
   "cell_type": "markdown",
   "metadata": {
    "cell_style": "split"
   },
   "source": [
    "* You cannot rely on a trait being correctly implemented by the user.\n",
    "* You can rely on correctness of concrete implementations that you use.\n",
    "\n",
    "## Preventing bugs beyond soundness\n",
    "\n",
    "Crichton, *Typed design patterns for the functional era* https://doi.org/10.1145/3609025.3609477"
   ]
  },
  {
   "cell_type": "markdown",
   "metadata": {
    "cell_style": "split"
   },
   "source": [
    "Numerical code often relies on invariants.\n",
    "```rs\n",
    "struct Permutation {\n",
    "    perm: Vec<usize>, // private\n",
    "}\n",
    "impl Permutation {\n",
    "    pub fn new(perm: Vec<usize>) -> Result<Self, PermError> {\n",
    "        if Self::is_perm(&perm) {\n",
    "            Ok(Self { perm })\n",
    "        } else {\n",
    "            Err(PermError)\n",
    "        }\n",
    "    }\n",
    "}\n",
    "```"
   ]
  },
  {
   "cell_type": "markdown",
   "metadata": {
    "cell_style": "center",
    "slideshow": {
     "slide_type": "slide"
    }
   },
   "source": [
    "# Rust ecosystem"
   ]
  },
  {
   "cell_type": "markdown",
   "metadata": {
    "cell_style": "split"
   },
   "source": [
    "## rustup\n",
    "Cross-platform toolchain management\n",
    "\n",
    "## Cargo\n",
    "\n",
    "* `cargo run` (and `build`, `test`, etc)\n",
    "* `Cargo.toml`\n",
    "```toml\n",
    "[dependencies]\n",
    "mpi = { version = \"0.8.0\", features = [\"derive\"] }\n",
    "```\n",
    "* Parallel across your dependency graph\n",
    "* `cargo publish` to [crates.io](https://crates.io)"
   ]
  },
  {
   "cell_type": "markdown",
   "metadata": {
    "cell_style": "split"
   },
   "source": [
    "## rust-analyzer\n",
    "\n",
    "IDE integration, works for any project without setup steps\n",
    "\n",
    "## rustdoc\n",
    "\n",
    "Cross-referenced documentation including doctests; [docs.rs](https://docs.rs) integrated with [crates.io](https://crates.io)\n",
    "\n",
    "## test\n",
    "\n",
    "Unit testing, doctests, integration tests, custom test harnesses, editor integration.\n",
    "\n",
    "## built-in cross-compilation"
   ]
  },
  {
   "cell_type": "markdown",
   "metadata": {
    "cell_style": "center",
    "slideshow": {
     "slide_type": "slide"
    }
   },
   "source": [
    "# Quality diagnostics"
   ]
  },
  {
   "cell_type": "markdown",
   "metadata": {
    "cell_style": "split"
   },
   "source": [
    "<img src=\"figures/rust/gankra-ekuber.jpg\" width=\"100%\" />"
   ]
  },
  {
   "cell_type": "markdown",
   "metadata": {
    "cell_style": "split"
   },
   "source": [
    "* This ethos permeates the ecosystem and is a central factor in language evolution\n",
    "\n",
    "## [Stability without stagnation](https://doc.rust-lang.org/book/appendix-07-nightly-rust.html)\n",
    "\n",
    "Experimental features are available only on `nightly`, not the `stable` release channel.\n",
    "\n",
    "## [MIRI](https://github.com/rust-lang/miri): An interpreter for Rust's mid-level intermediate representation\n",
    "\n",
    "* `cargo miri run`\n",
    "* Quality diagnostics explains when `unsafe` code leads to UB\n",
    "* Much more capable than valgrind, stack protector, address sanitizer"
   ]
  },
  {
   "cell_type": "markdown",
   "metadata": {
    "slideshow": {
     "slide_type": "slide"
    }
   },
   "source": [
    "# Scientific ecosystem"
   ]
  },
  {
   "cell_type": "markdown",
   "metadata": {
    "cell_style": "split"
   },
   "source": [
    "<img src=\"https://scientificcomputing.rs/img/ferris.png\" width=\"80%\" />\n",
    "\n",
    "## Scientific Computing in Rust\n",
    "* Virtual conference (since 2023): https://scientificcomputing.rs/\n",
    "* Zulip\n",
    "* See program for lots of exciting projects"
   ]
  },
  {
   "cell_type": "markdown",
   "metadata": {
    "cell_style": "split"
   },
   "source": [
    "## [Faer](https://faer-rs.github.io/)\n",
    "\n",
    "* Rust-native library covering most of BLAS/BLIS, Lapack, and SuiteSparse\n",
    "* Performance on par with best implementations\n",
    "\n",
    "## Rayon\n",
    "\n",
    "* Similar to OpenMP (CPU), but safe and integrated in the type system (not annotation).\n",
    "\n",
    "## ndarray/nalgebra\n",
    "## RSMPI\n",
    "## Bindings to many popular libraries\n",
    "* PETSc, Scotch, BLIS, BLAS/LAPACK"
   ]
  },
  {
   "cell_type": "markdown",
   "metadata": {
    "slideshow": {
     "slide_type": "slide"
    }
   },
   "source": [
    "# What properties must constitutive models have?\n",
    "\n",
    "* Dimensional consistency/invariance\n",
    "* Reference-frame invariance/equivariance\n",
    "\\begin{align}\n",
    "\\text{invariant} && \\psi(\\mathbf E) &= \\psi(Q \\mathbf E Q^T) & \\forall Q \\in O(3) \\\\\n",
    "\\text{equivariant} && Q \\mathbf S(\\mathbf E) Q^T &= \\mathbf S(Q \\mathbf E Q^T) & \\forall Q \\in O(3)\n",
    "\\end{align}\n",
    "\n",
    "## Integrity bases can represent all equivariant functions\n",
    "<img src=\"figures/wineman-pipkin.svg\" width=\"100%\" />"
   ]
  },
  {
   "cell_type": "markdown",
   "metadata": {
    "slideshow": {
     "slide_type": "slide"
    }
   },
   "source": [
    "# What is the state of practice?"
   ]
  },
  {
   "cell_type": "markdown",
   "metadata": {
    "cell_style": "split"
   },
   "source": [
    "* Materials scientists like to model in terms of:\n",
    "  * Free energy\n",
    "  * Dissipation potential\n",
    "* Derivatives are required for observable relations\n",
    "* Further derivatives for efficient solvers\n",
    "* Many publications per year:\n",
    "  * dedicate lots of space to representation of derivatives\n",
    "  * software interfaces are error-prone"
   ]
  },
  {
   "cell_type": "markdown",
   "metadata": {
    "cell_style": "split",
    "slideshow": {
     "slide_type": ""
    }
   },
   "source": [
    "* Heavy C++ hierarchies, hard to reuse\n",
    "* Tedious code in Fortran (e.g., for Abaqus `UMAT`/`UHYPER`)\n",
    "<img src=\"figures/ratel/abaqus-uhyper.png\" />"
   ]
  },
  {
   "cell_type": "markdown",
   "metadata": {
    "slideshow": {
     "slide_type": "slide"
    }
   },
   "source": [
    "# Enzyme `#[feature(autodiff)]` for Neo-Hookean model\n",
    "\n",
    "$$\\DeclareMathOperator{\\trace}{trace}\n",
    "\\psi(\\mathbf E) = \\frac{\\lambda}{4}(J^2 - 1 - 2\\ln J) + \\mu (\\trace \\mathbf E - \\ln J)$$\n",
    "where $\\mathbf E$ is Green-Lagrange strain and $J = \\sqrt{\\lvert \\mathbf I + 2\\mathbf E \\rvert}$.\n",
    "```rs\n",
    "#[autodiff(d_psi, Reverse, Duplicated, Const, Active)]\n",
    "fn psi(e: &KelvinMandel, nh: &NeoHookean) -> f64 {\n",
    "    let J = e.cauchy_green().det().sqrt();\n",
    "    let lnJ = J.ln();\n",
    "    0.25 * nh.lambda * (J * J - 1. - 2. * lnJ) + nh.mu * (e.trace() - lnJ)\n",
    "}\n",
    "```\n",
    "\n",
    "Compute stress $\\mathbf \\tau(\\mathbf e) = \\frac{\\partial \\psi}{\\partial \\mathbf e} \\mathbf b$ for current configuration, with its derivative for use by Newton solvers:\n",
    "```rs\n",
    "#[autodiff(d_stress, Forward, Dual, Const, Dual)]\n",
    "fn stress(e: &KelvinMandel, nh: &NeoHookean, tau: &mut KelvinMandel) {\n",
    "    let mut dpsi_de = KelvinMandel::zero();\n",
    "    d_psi(&e, &mut dpsi_de, &nh, 1.0);\n",
    "    let b = e.cauchy_green();\n",
    "    *tau = dpsi_de * b;\n",
    "}\n",
    "```"
   ]
  },
  {
   "cell_type": "markdown",
   "metadata": {
    "slideshow": {
     "slide_type": "slide"
    }
   },
   "source": [
    "# Diman: Zero-cost compile-time dimensional analysis (Toni Peter)"
   ]
  },
  {
   "cell_type": "markdown",
   "metadata": {
    "cell_style": "split",
    "slideshow": {
     "slide_type": ""
    }
   },
   "source": [
    "```rs\n",
    "struct Primitive {\n",
    "    pressure: Pressure<f64>,\n",
    "    velocity: [Velocity<f64>; 3],\n",
    "    temperature: Temperature<f64>,\n",
    "}\n",
    "struct Conservative {\n",
    "    density: MassDensity<f64>,\n",
    "    momentum: [MomentumDensity<f64>; 3],\n",
    "    energy: EnergyDensity<f64>,\n",
    "}\n",
    "```"
   ]
  },
  {
   "cell_type": "markdown",
   "metadata": {
    "cell_style": "split"
   },
   "source": [
    "In gas dynamics, one needs to convert between primitive and conservative variables. This depends on the equation of state (gas model), which is an active research area (e.g., [CoolProp](http://coolprop.org/fluid_properties/PurePseudoPure.html#introduction))."
   ]
  },
  {
   "cell_type": "markdown",
   "metadata": {
    "slideshow": {
     "slide_type": ""
    }
   },
   "source": [
    "```rs\n",
    "impl From<&Primitive> for Conservative {\n",
    "    fn from(s: &Primitive) -> Self {\n",
    "        let gas = IdealGas::air();\n",
    "        let density: MassDensity<f64> = s.pressure / (gas.r * s.temperature);\n",
    "        let energy_internal: SpecificEnergy<f64> = gas.cv * s.temperature;\n",
    "        let energy_kinetic =\n",
    "            0.5 * s.velocity.iter().map(|v| v * v).sum::<SpecificEnergy<f64>>();\n",
    "        let momentum = s.velocity.map(|v| density * v);\n",
    "        let energy = density * (energy_internal + energy_kinetic);\n",
    "        Self {density, momentum, energy}\n",
    "    }\n",
    "}\n",
    "\n",
    "#[autodiff(d_primitive_to_conservative, Forward, Dual, Dual)]\n",
    "fn primitive_to_conservative(p: &Primitive, c: &mut Conservative) {\n",
    "    *c = Conservative::from(p);\n",
    "}\n",
    "```"
   ]
  },
  {
   "cell_type": "markdown",
   "metadata": {
    "slideshow": {
     "slide_type": "slide"
    }
   },
   "source": [
    "# Diman prevents coding bugs\n",
    "\n",
    "<img src=\"figures/diman/diman-mismatch.png\" />\n",
    "\n",
    "## Diman works seamlessly with `#[feature(autodiff)]`\n",
    "\n",
    "<img src=\"figures/diman/primitive_to_conservative.png\" />"
   ]
  },
  {
   "cell_type": "markdown",
   "metadata": {
    "slideshow": {
     "slide_type": "slide"
    }
   },
   "source": [
    "# A day in the life"
   ]
  },
  {
   "cell_type": "markdown",
   "metadata": {
    "cell_style": "split",
    "slideshow": {
     "slide_type": "fragment"
    }
   },
   "source": [
    "## What I dream I do\n",
    "### cross-cutting methods and community software"
   ]
  },
  {
   "cell_type": "markdown",
   "metadata": {
    "cell_style": "split",
    "slideshow": {
     "slide_type": "fragment"
    }
   },
   "source": [
    "## What my students think I do\n",
    "### review pull requests"
   ]
  },
  {
   "cell_type": "markdown",
   "metadata": {
    "cell_style": "split",
    "slideshow": {
     "slide_type": "fragment"
    }
   },
   "source": [
    "## What my university thinks I do\n",
    "### teach classes"
   ]
  },
  {
   "cell_type": "markdown",
   "metadata": {
    "cell_style": "split",
    "slideshow": {
     "slide_type": "fragment"
    }
   },
   "source": [
    "## What I actually do\n",
    "\n",
    "### debug broken environments, linker errors, and memory errors via email during faculty meetings"
   ]
  },
  {
   "cell_type": "markdown",
   "metadata": {
    "cell_style": "center",
    "slideshow": {
     "slide_type": "slide"
    }
   },
   "source": [
    "# Outlook"
   ]
  },
  {
   "cell_type": "markdown",
   "metadata": {
    "cell_style": "split",
    "slideshow": {
     "slide_type": ""
    }
   },
   "source": [
    "## We need more libraries\n",
    "\n",
    "* Low-level bindings to mature C/C++ libraries\n",
    "* Safe/ergonomic/higher-level interfaces\n",
    "* Pure Rust implementations (portability for free)"
   ]
  },
  {
   "cell_type": "markdown",
   "metadata": {
    "cell_style": "split"
   },
   "source": [
    "## GPU support\n",
    "\n",
    "* Several initiatives, including \"reboot\" of Rust-CUDA\n",
    "* NVPTX (and nascent AMDGPU) provides low-level (unsafe) support, available on nightly\n",
    "* Research questions about safety (cf. convergent semantics)"
   ]
  }
 ],
 "metadata": {
  "@webio": {
   "lastCommId": null,
   "lastKernelId": null
  },
  "celltoolbar": "Slideshow",
  "hide_code_all_hidden": true,
  "kernelspec": {
   "display_name": "Python 3 (ipykernel)",
   "language": "python",
   "name": "python3"
  },
  "language_info": {
   "codemirror_mode": {
    "name": "ipython",
    "version": 3
   },
   "file_extension": ".py",
   "mimetype": "text/x-python",
   "name": "python",
   "nbconvert_exporter": "python",
   "pygments_lexer": "ipython3",
   "version": "3.13.1"
  },
  "rise": {
   "autolaunch": false,
   "controls": false,
   "enable_chalkboard": true,
   "progress": true,
   "slideNumber": false
  }
 },
 "nbformat": 4,
 "nbformat_minor": 4
}
