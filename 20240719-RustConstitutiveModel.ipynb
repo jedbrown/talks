{
 "cells": [
  {
   "cell_type": "markdown",
   "metadata": {
    "cell_style": "center",
    "hideCode": false,
    "hidePrompt": false,
    "slideshow": {
     "slide_type": "slide"
    }
   },
   "source": [
    "# Productive and Reliable Constitutive Modeling in Rust\n",
    "\n",
    "## **Jed Brown**, CU Boulder\n",
    "### Collaborators: Manuel Drehwald, Leila Ghaffari, Tobin Isaac, William Moses\n",
    "\n",
    "\n",
    "## Scientific Computing in Rust 2024-07-19"
   ]
  },
  {
   "cell_type": "code",
   "execution_count": 3,
   "metadata": {
    "hideCode": false,
    "slideshow": {
     "slide_type": "skip"
    }
   },
   "outputs": [],
   "source": [
    "from IPython.display import SVG, Video, HTML, IFrame\n",
    "import pandas as pd\n",
    "import altair as alt\n",
    "from io import StringIO\n",
    "import numpy as np\n"
   ]
  },
  {
   "cell_type": "markdown",
   "metadata": {
    "slideshow": {
     "slide_type": "slide"
    }
   },
   "source": [
    "# Nonlinear computational mechanics"
   ]
  },
  {
   "cell_type": "markdown",
   "metadata": {
    "cell_style": "split",
    "slideshow": {
     "slide_type": ""
    }
   },
   "source": [
    "<video src=\"figures/ratel/tire-platen.webm\" autoplay loop />\n",
    "<video src=\"figures/ratel/schwarz-q2-5x5x5-t20-l2-r2.webm\" width=\"85%\" autoplay controls loop />"
   ]
  },
  {
   "cell_type": "markdown",
   "metadata": {
    "cell_style": "split"
   },
   "source": [
    "## \"Write once\" infrastructure\n",
    "\n",
    "* Algebraic solvers, finite element primitives\n",
    "* Communication, IO\n",
    "## High-wear surfaces\n",
    "* Materials, equations of state\n",
    "* Parametrizations of subgrid processes\n",
    "* Boundary conditions\n",
    "\n",
    "<img src=\"figures/Boeing_A2_isoQspeed2_lowRes.png\" width=\"100%\" />"
   ]
  },
  {
   "cell_type": "markdown",
   "metadata": {
    "slideshow": {
     "slide_type": "slide"
    }
   },
   "source": [
    "# How are constitutive models used?\n",
    "\n",
    "<img src=\"figures/crikit-workflow.svg\" width=\"100%\" />\n",
    "\n",
    "* Every nonlinear iteration or time step of a simulation\n",
    "  * Every quadrature point in every element of a simulation (millions or billions of points)\n",
    "* Must run on a GPU if the solver is using GPUs"
   ]
  },
  {
   "cell_type": "markdown",
   "metadata": {
    "slideshow": {
     "slide_type": "slide"
    }
   },
   "source": [
    "# What properties must constitutive models have?\n",
    "\n",
    "* Dimensional consistency/invariance\n",
    "* Reference-frame invariance/equivariance\n",
    "\\begin{align}\n",
    "\\text{invariant} && \\psi(\\mathbf E) &= \\psi(Q \\mathbf E Q^T) & \\forall Q \\in O(3) \\\\\n",
    "\\text{equivariant} && Q \\mathbf S(\\mathbf E) Q^T &= \\mathbf S(Q \\mathbf E Q^T) & \\forall Q \\in O(3)\n",
    "\\end{align}\n",
    "\n",
    "## Integrity bases can represent all equivariant functions\n",
    "<img src=\"figures/wineman-pipkin.svg\" width=\"100%\" />"
   ]
  },
  {
   "cell_type": "markdown",
   "metadata": {
    "slideshow": {
     "slide_type": "slide"
    }
   },
   "source": [
    "# What is the state of practice?"
   ]
  },
  {
   "cell_type": "markdown",
   "metadata": {
    "cell_style": "split"
   },
   "source": [
    "* Materials scientists like to model in terms of:\n",
    "  * Free energy\n",
    "  * Dissipation potential\n",
    "* Derivatives are required for observable relations\n",
    "* Further derivatives for efficient solvers\n",
    "* Many publications per year:\n",
    "  * dedicate lots of space to representation of derivatives\n",
    "  * software interfaces are error-prone"
   ]
  },
  {
   "cell_type": "markdown",
   "metadata": {
    "cell_style": "split",
    "slideshow": {
     "slide_type": ""
    }
   },
   "source": [
    "* Heavy C++ hierarchies, hard to reuse\n",
    "* Tedious code in Fortran (e.g., for Abaqus `UMAT`/`UHYPER`)\n",
    "<img src=\"figures/ratel/abaqus-uhyper.png\" />"
   ]
  },
  {
   "cell_type": "markdown",
   "metadata": {
    "slideshow": {
     "slide_type": "slide"
    }
   },
   "source": [
    "# Enzyme `#[feature(autodiff)]` for Neo-Hookean model\n",
    "\n",
    "$$\\DeclareMathOperator{\\trace}{trace}\n",
    "\\psi(\\mathbf E) = \\frac{\\lambda}{4}(J^2 - 1 - 2\\ln J) + \\mu (\\trace \\mathbf E - \\ln J)$$\n",
    "where $\\mathbf E$ is Green-Lagrange strain and $J = \\sqrt{\\lvert \\mathbf I + 2\\mathbf E \\rvert}$.\n",
    "```rs\n",
    "#[autodiff(d_psi, Reverse, Duplicated, Const, Active)]\n",
    "fn psi(e: &KelvinMandel, nh: &NeoHookean) -> f64 {\n",
    "    let J = e.cauchy_green().det().sqrt();\n",
    "    let lnJ = J.ln();\n",
    "    0.25 * nh.lambda * (J * J - 1. - 2. * lnJ) + nh.mu * (e.trace() - lnJ)\n",
    "}\n",
    "```\n",
    "\n",
    "Compute stress $\\mathbf \\tau(\\mathbf e) = \\frac{\\partial \\psi}{\\partial \\mathbf e} \\mathbf b$ for current configuration, with its derivative for use by Newton solvers:\n",
    "```rs\n",
    "#[autodiff(d_stress, Forward, Dual, Const, Dual)]\n",
    "fn stress(e: &KelvinMandel, nh: &NeoHookean, tau: &mut KelvinMandel) {\n",
    "    let mut dpsi_de = KelvinMandel::zero();\n",
    "    d_psi(&e, &mut dpsi_de, &nh, 1.0);\n",
    "    let b = e.cauchy_green();\n",
    "    *tau = dpsi_de * b;\n",
    "}\n",
    "```"
   ]
  },
  {
   "cell_type": "markdown",
   "metadata": {
    "slideshow": {
     "slide_type": "slide"
    }
   },
   "source": [
    "# Diman: Zero-cost compile-time dimensional analysis (Toni Peter)"
   ]
  },
  {
   "cell_type": "markdown",
   "metadata": {
    "cell_style": "split",
    "slideshow": {
     "slide_type": ""
    }
   },
   "source": [
    "```rs\n",
    "struct Primitive {\n",
    "    pressure: Pressure<f64>,\n",
    "    velocity: [Velocity<f64>; 3],\n",
    "    temperature: Temperature<f64>,\n",
    "}\n",
    "struct Conservative {\n",
    "    density: MassDensity<f64>,\n",
    "    momentum: [MomentumDensity<f64>; 3],\n",
    "    energy: EnergyDensity<f64>,\n",
    "}\n",
    "```"
   ]
  },
  {
   "cell_type": "markdown",
   "metadata": {
    "cell_style": "split"
   },
   "source": [
    "In gas dynamics, one needs to convert between primitive and conservative variables. This depends on the equation of state (gas model), which is an active research area (e.g., [CoolProp](http://coolprop.org/fluid_properties/PurePseudoPure.html#introduction))."
   ]
  },
  {
   "cell_type": "markdown",
   "metadata": {
    "slideshow": {
     "slide_type": ""
    }
   },
   "source": [
    "```rs\n",
    "impl From<&Primitive> for Conservative {\n",
    "    fn from(s: &Primitive) -> Self {\n",
    "        let gas = IdealGas::air();\n",
    "        let density: MassDensity<f64> = s.pressure / (gas.r * s.temperature);\n",
    "        let energy_internal: SpecificEnergy<f64> = gas.cv * s.temperature;\n",
    "        let energy_kinetic =\n",
    "            0.5 * s.velocity.iter().map(|v| v * v).sum::<SpecificEnergy<f64>>();\n",
    "        let momentum = s.velocity.map(|v| density * v);\n",
    "        let energy = density * (energy_internal + energy_kinetic);\n",
    "        Self {density, momentum, energy}\n",
    "    }\n",
    "}\n",
    "\n",
    "#[autodiff(d_primitive_to_conservative, Forward, Dual, Dual)]\n",
    "fn primitive_to_conservative(p: &Primitive, c: &mut Conservative) {\n",
    "    *c = Conservative::from(p);\n",
    "}\n",
    "```"
   ]
  },
  {
   "cell_type": "markdown",
   "metadata": {
    "slideshow": {
     "slide_type": "slide"
    }
   },
   "source": [
    "# Diman prevents coding bugs\n",
    "\n",
    "<img src=\"figures/diman/diman-mismatch.png\" />\n",
    "\n",
    "## Diman works seamlessly with `#[feature(autodiff)]`\n",
    "\n",
    "<img src=\"figures/diman/primitive_to_conservative.png\" />"
   ]
  },
  {
   "cell_type": "markdown",
   "metadata": {
    "slideshow": {
     "slide_type": "slide"
    }
   },
   "source": [
    "# A day in the life"
   ]
  },
  {
   "cell_type": "markdown",
   "metadata": {
    "cell_style": "split",
    "slideshow": {
     "slide_type": "fragment"
    }
   },
   "source": [
    "## What I dream I do\n",
    "### cross-cutting methods and community software"
   ]
  },
  {
   "cell_type": "markdown",
   "metadata": {
    "cell_style": "split",
    "slideshow": {
     "slide_type": "fragment"
    }
   },
   "source": [
    "## What my students think I do\n",
    "### review pull requests"
   ]
  },
  {
   "cell_type": "markdown",
   "metadata": {
    "cell_style": "split",
    "slideshow": {
     "slide_type": "fragment"
    }
   },
   "source": [
    "## What my university thinks I do\n",
    "### teach classes"
   ]
  },
  {
   "cell_type": "markdown",
   "metadata": {
    "cell_style": "split",
    "slideshow": {
     "slide_type": "fragment"
    }
   },
   "source": [
    "## What I actually do\n",
    "\n",
    "### debug broken environments, linker errors, and memory errors via email during faculty meetings"
   ]
  },
  {
   "cell_type": "markdown",
   "metadata": {
    "slideshow": {
     "slide_type": "slide"
    }
   },
   "source": [
    "# What's next?"
   ]
  },
  {
   "cell_type": "markdown",
   "metadata": {
    "cell_style": "split",
    "slideshow": {
     "slide_type": ""
    }
   },
   "source": [
    "## Implicit materials\n",
    "* Instead of $y = f(x)$, we have $f(y; x) = 0$ (or a complimentarity problem).\n",
    "* Plasticity, some rheology\n",
    "* Needs rootfinder/optimizer to run at each quadrature point.\n",
    "* Often $6\\times 6$ matrices in solve, bigger for multiscale models.\n",
    "* Prior C++ art: [SNLS: Small Non-Linear Solver](https://github.com/LLNL/SNLS) (Robert Carson)\n",
    "* Solver should be dimensionally-aware (even if shed for linear algebra)\n",
    "* Need custom derivatives in `#[feature(autodiff)]`"
   ]
  },
  {
   "cell_type": "markdown",
   "metadata": {
    "cell_style": "split",
    "slideshow": {
     "slide_type": ""
    }
   },
   "source": [
    "## GPU support\n",
    "\n",
    "* libCEED performs run-time kernel fusion between library and user parts.\n",
    "* Prototyping mixed-source LTO using LLVM IR. Related to Rust's new bitcode linker.\n",
    "* `no_std` is nice for testing on CPU before moving to GPU.\n",
    "* Rootfinder/optimizer needs `no_std` support.\n",
    "\n",
    "## Releasing\n",
    "\n",
    "* How stand-alone for material libraries?\n",
    "* Smooth out build with Ratel"
   ]
  }
 ],
 "metadata": {
  "celltoolbar": "Slideshow",
  "hide_code_all_hidden": true,
  "kernelspec": {
   "display_name": "Python 3 (ipykernel)",
   "language": "python",
   "name": "python3"
  },
  "language_info": {
   "codemirror_mode": {
    "name": "ipython",
    "version": 3
   },
   "file_extension": ".py",
   "mimetype": "text/x-python",
   "name": "python",
   "nbconvert_exporter": "python",
   "pygments_lexer": "ipython3",
   "version": "3.12.4"
  },
  "rise": {
   "autolaunch": false,
   "controls": false,
   "enable_chalkboard": true,
   "progress": true,
   "slideNumber": false
  }
 },
 "nbformat": 4,
 "nbformat_minor": 4
}
