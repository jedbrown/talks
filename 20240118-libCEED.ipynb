{
 "cells": [
  {
   "cell_type": "markdown",
   "metadata": {
    "cell_style": "center",
    "hideCode": false,
    "hidePrompt": false,
    "slideshow": {
     "slide_type": "slide"
    }
   },
   "source": [
    "# Pragmatic performance-portable solids and fluids with Ratel, libCEED, and PETSc\n",
    "\n",
    "## **Jed Brown**, CU Boulder\n",
    "### Collaborators: Zach Atkins, Valeria Barra, Natalie Beams, Fabio Di Gioacchino, Leila Ghaffari, Ken Jansen, Matthew Knepley, William Moses, Rezgar Shakeri, Karen Stengel, Jeremy L. Thompson, James Wright III, Junchao Zhang\n",
    "\n",
    "\n",
    "## NUWEST 2024"
   ]
  },
  {
   "cell_type": "code",
   "execution_count": 1,
   "metadata": {
    "hideCode": false,
    "slideshow": {
     "slide_type": "skip"
    }
   },
   "outputs": [],
   "source": [
    "from IPython.display import SVG, Video, HTML, IFrame\n",
    "import pandas as pd\n",
    "import altair as alt\n",
    "from io import StringIO\n",
    "import numpy as np\n",
    "\n",
    "import base64\n",
    "from IPython.display import Image, display\n",
    "#import matplotlib.pyplot as plt\n",
    "\n",
    "def mm(graph):\n",
    "  graphbytes = graph.encode(\"ascii\")\n",
    "  base64_bytes = base64.b64encode(graphbytes)\n",
    "  base64_string = base64_bytes.decode(\"ascii\")\n",
    "  display(\n",
    "    Image(\n",
    "      url=\"https://mermaid.ink/img/\"\n",
    "      + base64_string\n",
    "    )\n",
    "  )"
   ]
  },
  {
   "cell_type": "markdown",
   "metadata": {
    "slideshow": {
     "slide_type": "slide"
    }
   },
   "source": [
    "# David Keyes, \"Petaflop/s, seriously\" (ca. 2007)\n",
    "\n",
    "<img src=\"figures/Keyes-PeanutButter-2008.png\" class=\"center\" width=\"70%\" />"
   ]
  },
  {
   "cell_type": "markdown",
   "metadata": {
    "slideshow": {
     "slide_type": "subslide"
    }
   },
   "source": [
    "# Constants matter"
   ]
  },
  {
   "cell_type": "markdown",
   "metadata": {
    "cell_style": "split",
    "slideshow": {
     "slide_type": ""
    }
   },
   "source": [
    "## Relative cost of compute versus memory access\n",
    "## Accuracy tolerances depend on application\n",
    "## GPU vs CPU latencies\n",
    "## Accuracy or conservation? Unbiased or biased error?"
   ]
  },
  {
   "cell_type": "markdown",
   "metadata": {
    "cell_style": "split"
   },
   "source": [
    "<img src=\"figures/app-perf-cartoon-2.png\" width=\"100%\" />"
   ]
  },
  {
   "cell_type": "markdown",
   "metadata": {
    "slideshow": {
     "slide_type": "slide"
    }
   },
   "source": [
    "# Nonlinear solid mechanics"
   ]
  },
  {
   "cell_type": "markdown",
   "metadata": {
    "cell_style": "split",
    "slideshow": {
     "slide_type": ""
    }
   },
   "source": [
    "\n",
    "<video src=\"figures/ratel/schwarz-q2-5x5x5-t20-l2-r2.webm\" width=\"90%\" autoplay controls loop />"
   ]
  },
  {
   "cell_type": "markdown",
   "metadata": {
    "cell_style": "split"
   },
   "source": [
    "## Industrial state of practice\n",
    "\n",
    "* Low order finite elements: $Q_1$ (trilinear) hexahedra, $P_2$ (quadratic) tetrahedra.\n",
    "* Assembled matrices, sparse direct and algebraic multigrid solvers\n",
    "\n",
    "## Myths\n",
    "\n",
    "* High order doesn't help because real problems have singularities.\n",
    "* Matrix-free is just for (very) high order"
   ]
  },
  {
   "cell_type": "markdown",
   "metadata": {
    "cell_style": "split"
   },
   "source": [
    "<video src=\"figures/ratel/tire-platen.webm\" autoplay loop width=\"100%\" />"
   ]
  },
  {
   "cell_type": "markdown",
   "metadata": {
    "slideshow": {
     "slide_type": "slide"
    }
   },
   "source": [
    "# Approximation constants are good for high order\n",
    "\n",
    "<img src=\"figures/ratel/accuracy_study_annotated.svg\" width=\"95%\" />"
   ]
  },
  {
   "cell_type": "markdown",
   "metadata": {
    "slideshow": {
     "slide_type": "slide"
    }
   },
   "source": [
    "# Bandwidth is scarce compared to flops"
   ]
  },
  {
   "cell_type": "markdown",
   "metadata": {
    "cell_style": "center"
   },
   "source": [
    "<img src=\"figures/karlrupp/flop-per-byte-dp-2022.svg\" width=\"90%\" class=\"center\" />"
   ]
  },
  {
   "cell_type": "markdown",
   "metadata": {
    "slideshow": {
     "slide_type": "subslide"
    }
   },
   "source": [
    "# Why matrix-free?\n",
    "* Assembled matrices need at least 4 bytes transferred per flop. Hardware does 10 flops/byte. Matrix-free methods store and move less data, compute faster.\n",
    "\n",
    "<img src=\"figures/TensorVsAssembly-qstore.svg\" width=\"90%\" class=\"center\" />"
   ]
  },
  {
   "cell_type": "markdown",
   "metadata": {
    "slideshow": {
     "slide_type": "slide"
    }
   },
   "source": [
    "# Matrix-free is already faster for $Q_1$ elements\n",
    "\n",
    "<img src=\"figures/ratel/schwarz-apply.svg\" width=\"90%\" />"
   ]
  },
  {
   "cell_type": "markdown",
   "metadata": {
    "slideshow": {
     "slide_type": "slide"
    }
   },
   "source": [
    "# $p$-multigrid algorithm and cost breakdown"
   ]
  },
  {
   "cell_type": "markdown",
   "metadata": {
    "cell_style": "split"
   },
   "source": [
    "<img src=\"figures/ratel/p-mg-cycle.png\" width=\"80%\" />"
   ]
  },
  {
   "cell_type": "markdown",
   "metadata": {
    "cell_style": "split"
   },
   "source": [
    "<img src=\"figures/ratel/op_schematic.svg\" width=\"80%\" />"
   ]
  },
  {
   "cell_type": "code",
   "execution_count": 7,
   "metadata": {
    "cell_style": "center",
    "hideCode": true,
    "scrolled": false,
    "slideshow": {
     "slide_type": ""
    }
   },
   "outputs": [
    {
     "data": {
      "text/html": [
       "\n",
       "        <iframe\n",
       "            width=\"1200\"\n",
       "            height=\"350\"\n",
       "            src=\"figures/ratel/schwarz-q2-flame.svg\"\n",
       "            frameborder=\"0\"\n",
       "            allowfullscreen\n",
       "            \n",
       "        ></iframe>\n",
       "        "
      ],
      "text/plain": [
       "<IPython.lib.display.IFrame at 0x7fa5574687d0>"
      ]
     },
     "execution_count": 7,
     "metadata": {},
     "output_type": "execute_result"
    }
   ],
   "source": [
    "IFrame(\"figures/ratel/schwarz-q2-flame.svg\", width=\"1200\", height=\"350\")"
   ]
  },
  {
   "cell_type": "markdown",
   "metadata": {
    "slideshow": {
     "slide_type": "slide"
    }
   },
   "source": [
    "# Nonlinear solve efficiency"
   ]
  },
  {
   "cell_type": "markdown",
   "metadata": {
    "cell_style": "split",
    "slideshow": {
     "slide_type": ""
    }
   },
   "source": [
    "## $Q_2$ elements\n",
    "<img src=\"figures/ratel/schwarz-q2-t20-r2-l2-SNESSolve.svg\" />"
   ]
  },
  {
   "cell_type": "markdown",
   "metadata": {
    "cell_style": "split"
   },
   "source": [
    "## $Q_3$ elements\n",
    "<img src=\"figures/ratel/schwarz-q3-t20-r2-l1-SNESSolve.svg\" />"
   ]
  },
  {
   "cell_type": "markdown",
   "metadata": {
    "slideshow": {
     "slide_type": "subslide"
    }
   },
   "source": [
    "# Linear solve efficiency"
   ]
  },
  {
   "cell_type": "markdown",
   "metadata": {
    "cell_style": "split",
    "slideshow": {
     "slide_type": ""
    }
   },
   "source": [
    "## $Q_2$ elements\n",
    "<img src=\"figures/ratel/schwarz-q2-t20-r2-l2-KSPSolve.svg\" />"
   ]
  },
  {
   "cell_type": "markdown",
   "metadata": {
    "cell_style": "split"
   },
   "source": [
    "## $Q_3$ elements\n",
    "<img src=\"figures/ratel/schwarz-q3-t20-r2-l1-KSPSolve.svg\" />"
   ]
  },
  {
   "cell_type": "markdown",
   "metadata": {},
   "source": [
    "* Coarse solver is hypre BoomerAMG tuned configured for elasticity; thanks Victor Paludetto\n",
    "Magri."
   ]
  },
  {
   "cell_type": "markdown",
   "metadata": {
    "slideshow": {
     "slide_type": "subslide"
    }
   },
   "source": [
    "# Preconditioner setup efficiency"
   ]
  },
  {
   "cell_type": "markdown",
   "metadata": {
    "cell_style": "split",
    "slideshow": {
     "slide_type": ""
    }
   },
   "source": [
    "## $Q_2$ elements\n",
    "<img src=\"figures/ratel/schwarz-q2-t20-r2-l2-PCSetUp.svg\" />"
   ]
  },
  {
   "cell_type": "markdown",
   "metadata": {
    "cell_style": "split"
   },
   "source": [
    "## $Q_3$ elements\n",
    "<img src=\"figures/ratel/schwarz-q3-t20-r2-l1-PCSetUp.svg\" />"
   ]
  },
  {
   "cell_type": "markdown",
   "metadata": {
    "slideshow": {
     "slide_type": "slide"
    }
   },
   "source": [
    "# Half-inch puck (F67), 50 MDoF, quadratic tets"
   ]
  },
  {
   "cell_type": "markdown",
   "metadata": {
    "cell_style": "split"
   },
   "source": [
    "<img src=\"figures/micromorph/f67-detail.png\" width=\"100%\" />"
   ]
  },
  {
   "cell_type": "markdown",
   "metadata": {
    "cell_style": "split"
   },
   "source": [
    "* 40k grains segmented from CT scans\n",
    "* 1% global strain, neo-Hookean model\n",
    "* 34 seconds per nonlinear solve (`rtol=1e-8`)\n",
    "  * 7 seconds per linear solve\n",
    "  * 45 CG iterations\n",
    "* `/gpu/hip/shared` backend since `hip/gen` does not yet support tensor product elements\n",
    "  * Will try `hip/magma`\n",
    "* BoomerAMG coarse solve (linear elements)\n",
    "* Pure-GPU assembly into hypre ParCSR"
   ]
  },
  {
   "cell_type": "code",
   "execution_count": 28,
   "metadata": {
    "hideCode": true
   },
   "outputs": [
    {
     "data": {
      "text/html": [
       "\n",
       "        <iframe\n",
       "            width=\"1400\"\n",
       "            height=\"200\"\n",
       "            src=\"figures/micromorph/flamegraph-tioga-f67-puck.svg\"\n",
       "            frameborder=\"0\"\n",
       "            allowfullscreen\n",
       "            \n",
       "        ></iframe>\n",
       "        "
      ],
      "text/plain": [
       "<IPython.lib.display.IFrame at 0x7f5d8fd9f110>"
      ]
     },
     "execution_count": 28,
     "metadata": {},
     "output_type": "execute_result"
    }
   ],
   "source": [
    "IFrame(\"figures/micromorph/flamegraph-tioga-f67-puck.svg\", width=\"1400\", height=\"200\")"
   ]
  },
  {
   "cell_type": "markdown",
   "metadata": {
    "slideshow": {
     "slide_type": "slide"
    }
   },
   "source": [
    "# Phase-field damage mechanics"
   ]
  },
  {
   "cell_type": "markdown",
   "metadata": {
    "cell_style": "split"
   },
   "source": [
    "$$\n",
    "\\begin{bmatrix}\n",
    "A & B \\\\\n",
    "C & D\n",
    "\\end{bmatrix}\n",
    "\\begin{bmatrix} \\mathbf u \\\\ \\phi \\end{bmatrix}\n",
    "=\n",
    "\\begin{bmatrix} \\mathbf b \\\\ \\mathbf 0 \\end{bmatrix}\n",
    "$$\n",
    "* $A$ is elasticity operator\n",
    "* $D$ is screened Laplacian for damage (Green's functions decay in a few elements)\n",
    "\n",
    "## p-MG setup\n",
    "\n",
    "* p-MG coarsen from quadratic to linear elements (tets in this example)\n",
    "* specify 6-dimensional rigid body modes as near null space\n",
    "* damage field $\\phi$ is not needed in AMG\n",
    "* optional: point-block Jacobi smoothing"
   ]
  },
  {
   "cell_type": "markdown",
   "metadata": {
    "cell_style": "split"
   },
   "source": [
    "<video src=\"figures/ratel/luke-damage-Gc-ratio-20.webm\" autoplay loop width=\"100%\" />"
   ]
  },
  {
   "cell_type": "markdown",
   "metadata": {
    "cell_style": "split"
   },
   "source": [
    "<video src=\"figures/ratel/luke-sigmaxx-Gc-ratio-20.webm\" autoplay loop width=\"100%\" />"
   ]
  },
  {
   "cell_type": "markdown",
   "metadata": {
    "slideshow": {
     "slide_type": "slide"
    }
   },
   "source": [
    "# One node of Crusher vs historical Gordon Bell\n",
    "* 184 MDoF $Q_2$ elements nonlinear analysis in seconds"
   ]
  },
  {
   "cell_type": "markdown",
   "metadata": {
    "cell_style": "split"
   },
   "source": [
    "### 2002 Gordon Bell (Bhardwaj et al)\n",
    "\n",
    "<img src=\"figures/ratel/gordon-bell-2002-mems.png\" width=\"70%\" />\n",
    "\n",
    "<img src=\"figures/ratel/gordon-bell-2002-mems-table.png\" width=\"100%\" />"
   ]
  },
  {
   "cell_type": "markdown",
   "metadata": {
    "cell_style": "split"
   },
   "source": [
    "### 2004 Gordon Bell (Adams et al)\n",
    "\n",
    "<img src=\"figures/ratel/gordon-bell-2004-bone.png\" width=\"70%\" />\n",
    "\n",
    "<img src=\"figures/ratel/gordon-bell-2004-bone-scaling.jpg\" width=\"100%\" />"
   ]
  },
  {
   "cell_type": "markdown",
   "metadata": {
    "slideshow": {
     "slide_type": "subslide"
    }
   },
   "source": [
    "# Comparison"
   ]
  },
  {
   "cell_type": "markdown",
   "metadata": {
    "cell_style": "split"
   },
   "source": [
    "<img src=\"figures/ratel/gordon-bell-2004-bone.png\" width=\"85%\" />"
   ]
  },
  {
   "cell_type": "markdown",
   "metadata": {
    "cell_style": "split"
   },
   "source": [
    "<img src=\"figures/ratel/schwarz-q2-8x8x8-t20-l2-r2.png\" width=\"70%\" class=\"center\" />"
   ]
  },
  {
   "cell_type": "markdown",
   "metadata": {},
   "source": [
    "| Metric | Adams et al 2004 | Ratel | Ratel |\n",
    "|---|---|---|---|\n",
    "| Discretization | linear | quadratic | cubic |\n",
    "| Machine | ASCI White 130 nodes | Crusher 1 node | Crusher 1 node |\n",
    "| Peak Bandwidth | 1.56 TB/s | 12 TB/s | 12 TB/s |\n",
    "| Degrees of freedom | 237 M | 184 M | 331 M |\n",
    "| kDoF/GB | 460 | 400 | 700 |\n",
    "| load step strain | 0.5% | 12% | 12% |\n",
    "| kDoF/s per load step | 600 | 6000 | 5500 |"
   ]
  },
  {
   "cell_type": "markdown",
   "metadata": {
    "slideshow": {
     "slide_type": "slide"
    }
   },
   "source": [
    "# Same story for compressible turbulence"
   ]
  },
  {
   "cell_type": "markdown",
   "metadata": {
    "cell_style": "split",
    "slideshow": {
     "slide_type": ""
    }
   },
   "source": [
    "<img src=\"figures/Boeing_A2_isoQspeed2_lowRes.png\" width=\"100%\" />\n",
    "\n",
    "<video src=\"figures/fluids/ROPI_OutView.webm\" autoplay loop />"
   ]
  },
  {
   "cell_type": "markdown",
   "metadata": {
    "cell_style": "split"
   },
   "source": [
    "## PHASTA (Fortran)\n",
    "\n",
    "* Extreme-scale unstructured CFD\n",
    "* SUPG, implicit (gen-$\\alpha$) Newton-Krylov\n",
    "* Aurora ESP: 2y on the \"Intel/ALCF plan\"\n",
    "  * GPU still slower than CPU\n",
    "\n",
    "## CEED-PHASTA\n",
    "\n",
    "* All-new code, using libCEED with PETSc\n",
    "* Matrix-free cuts setup/helps strong scaling\n",
    "* End-to-end GPU (NVIDIA, AMD, Intel)\n",
    "\n",
    "| Code | Arch | Element | second/step |\n",
    "|---|---|---|---|\n",
    "| PHASTA | Skylake | $Q_1$ | 6-12 |\n",
    "| CEED | A100 | $Q_1$ | 1.0 |\n",
    "| CEED | A100 | $Q_2$ | 0.7 |\n",
    "| CEED | A100 | $Q_3$ | 0.5 |"
   ]
  },
  {
   "cell_type": "markdown",
   "metadata": {
    "slideshow": {
     "slide_type": "subslide"
    }
   },
   "source": [
    "# Algorithmic framework"
   ]
  },
  {
   "cell_type": "markdown",
   "metadata": {
    "cell_style": "split"
   },
   "source": [
    "* SUPG/VMS for compressible NS in pressure-primitive variables\n",
    "* Implicit integration using gen-$\\alpha$\n",
    "* 3 Newton iterations per time step\n",
    "  * First two are very cheap (5-15 Krylov iterations), third is stiffer\n",
    "\n",
    "<img src=\"figures/fluids/libceed-stored-jacobian-james.png\" />\n",
    "\n",
    "* Benchmark\n",
    "  * flat plate $Re_\\theta \\approx 970$ STG inflow\n",
    "  * $Ma \\approx 0.1$\n",
    "  * 12-30 nominal span/steamline resolution (plus units)"
   ]
  },
  {
   "cell_type": "markdown",
   "metadata": {
    "cell_style": "split"
   },
   "source": [
    "<img src=\"figures/fluids/libceed-apply-polaris-james.png\" />\n",
    "\n",
    "* 10 nodes of Polaris (4x A100/node)\n",
    "* 250k nodes (1.25 MDoF) per GPU"
   ]
  },
  {
   "cell_type": "markdown",
   "metadata": {
    "slideshow": {
     "slide_type": "subslide"
    }
   },
   "source": [
    "# Boeing Speed Bump"
   ]
  },
  {
   "cell_type": "markdown",
   "metadata": {
    "cell_style": "split"
   },
   "source": [
    "<img src=\"figures/fluids/speed-bump-3d.png\" />"
   ]
  },
  {
   "cell_type": "markdown",
   "metadata": {
    "cell_style": "split"
   },
   "source": [
    "* \"Easy\" problem for which RANS prediction of separation is catastrophic.\n",
    "* Good experimental data available\n",
    "\n",
    "> Can a RANS model predict a high-lift flow for the right reasons?"
   ]
  },
  {
   "cell_type": "markdown",
   "metadata": {},
   "source": [
    "<img src=\"figures/fluids/speed-bump-Cp-Cf-rans-dns.png\" class=\"center\" />"
   ]
  },
  {
   "cell_type": "markdown",
   "metadata": {
    "slideshow": {
     "slide_type": "skip"
    }
   },
   "source": [
    "# Are structured grids dead?"
   ]
  },
  {
   "cell_type": "markdown",
   "metadata": {
    "cell_style": "split",
    "slideshow": {
     "slide_type": "skip"
    }
   },
   "source": [
    "## Uzun and Malik (2022)\n",
    "\n",
    "* Prefactored 4th order compact FD\n",
    "* up to 10th order compact filtering\n",
    "* Subcycled implicit time integration\n",
    "\n",
    "<img src=\"figures/fluids/UzunMalik-BumpVorticity-2022.png\" />"
   ]
  },
  {
   "cell_type": "markdown",
   "metadata": {
    "cell_style": "split",
    "slideshow": {
     "slide_type": "skip"
    }
   },
   "source": [
    "### A tale of two bumps, $\\mathrm{Re}_L = 2M, \\mathrm{Ma} = 0.1$\n",
    "\n",
    "| Property | Uzun & Malik | Balin & Jansen |\n",
    "|---|---|---|\n",
    "| Grid | overset FD | tet/prism FE |\n",
    "| Domain width | 0.04L | 0.08L |\n",
    "| # points | 10B | 4B |\n",
    "| steps needed | 1969k | 154k |\n",
    "| seconds/step | 1.4 | 12 |\n",
    "| cores (nodes) | 40k (1000) | 39k (972) |\n",
    "| days | 33 | 25 |\n",
    "| Wall normal spacing ($+$ units) | 0.6 | 0.3 |\n",
    "| Mach number | 0.2 | incompressible |\n",
    "\n",
    "* $\\Delta t$ incompressible $\\approx 2 \\Delta t$ compressible"
   ]
  },
  {
   "cell_type": "markdown",
   "metadata": {
    "slideshow": {
     "slide_type": "skip"
    }
   },
   "source": [
    "# Fluids outlook"
   ]
  },
  {
   "cell_type": "markdown",
   "metadata": {
    "cell_style": "split",
    "slideshow": {
     "slide_type": "skip"
    }
   },
   "source": [
    "<img src=\"figures/fluids/flat-plate-validation-1410.png\" />"
   ]
  },
  {
   "cell_type": "markdown",
   "metadata": {
    "cell_style": "split",
    "slideshow": {
     "slide_type": "skip"
    }
   },
   "source": [
    "* Data-driven subgrid stress model (Prakash, Jansen, Evans)\n",
    "  * Online training using SmartSim\n",
    "  * Reference frame and unit invariant\n",
    "\n",
    "* Speed Bump $Re_L = 2M$\n",
    "  * Determine DNS resolution for cubic elements\n",
    "  * Hex-dominant mixed topology meshing adapted to Kolmogorov scale\n",
    "  * Goal: reduce 30-40 days to 3 days on Aurora\n",
    "* DDES/Hybrid for real geometry (e.g., HLPW)\n",
    "* Fundamental numerics\n",
    "  * Optimized dispersion: stabilization and basis\n",
    "  * Low-Mach preconditioning, time integration"
   ]
  },
  {
   "cell_type": "markdown",
   "metadata": {
    "hideCode": true,
    "hidePrompt": true,
    "slideshow": {
     "slide_type": "slide"
    }
   },
   "source": [
    "## [libCEED](https://libceed.readthedocs.io): fast algebra for finite elements"
   ]
  },
  {
   "cell_type": "markdown",
   "metadata": {
    "cell_style": "split",
    "hideCode": true,
    "hidePrompt": true,
    "slideshow": {
     "slide_type": ""
    }
   },
   "source": [
    "* Backend plugins with run-time selection\n",
    "  * debug/memcheck, optimized\n",
    "  * libxsmm, CUDA, HIP, SYCL\n",
    "  * MAGMA to CUDA, HIP, SYCL*\n",
    "* Single source vanilla C for QFunctions\n",
    "  * Easy to debug, understand locally\n",
    "  * C++ available, but not necessary\n",
    "  * Target for DSLs, AD\n",
    "* Python, Julia, Rust\n",
    "* 2-clause BSD\n",
    "* Available via MFEM, PETSc, Nek5000"
   ]
  },
  {
   "cell_type": "markdown",
   "metadata": {
    "cell_style": "split",
    "hideCode": true,
    "hidePrompt": true,
    "slideshow": {
     "slide_type": ""
    }
   },
   "source": [
    "<img src=\"figures/ceed/libCEEDBackends.svg\" width=\"100%\" />"
   ]
  },
  {
   "cell_type": "markdown",
   "metadata": {
    "cell_style": "split",
    "hideCode": true,
    "hidePrompt": true,
    "slideshow": {
     "slide_type": ""
    }
   },
   "source": [
    "Thanks to many developers, including Jeremy Thompson, Yohann Dudouit, Valeria Barra, Natalie Beams,  Ahmad Abdelfattah, Leila Ghaffari, Will Pazner, Thilina Ratnayaka, Tzanio Kolev, Veselin Dobrev, David Medina"
   ]
  },
  {
   "cell_type": "markdown",
   "metadata": {
    "hideCode": true,
    "hidePrompt": true,
    "slideshow": {
     "slide_type": "subslide"
    }
   },
   "source": [
    "<img src=\"figures/ceed/libCEED-2.png\" width=100% />\n"
   ]
  },
  {
   "cell_type": "markdown",
   "metadata": {
    "hideCode": true,
    "hidePrompt": true,
    "slideshow": {
     "slide_type": "slide"
    }
   },
   "source": [
    "## Quadrature functions: the math\n",
    "\n",
    "\\begin{gather*}\n",
    "    v^T F(u) \\sim \\int_\\Omega v \\cdot \\color{olive}{f_0(u, \\nabla u)} + \\nabla v \\!:\\! \\color{olive}{f_1(u, \\nabla u)} \\quad\n",
    "    v^T J w \\sim \\int_\\Omega \\begin{bmatrix} v \\\\ \\nabla v \\end{bmatrix}^T \\color{teal}{\\begin{bmatrix} f_{0,0} & f_{0,1} \\\\ f_{1,0} & f_{1,1} \\end{bmatrix}}\n",
    "    \\begin{bmatrix} w \\\\ \\nabla w \\end{bmatrix} \\\\\n",
    "    u = B_I \\mathcal E_e u_L \\qquad \\nabla u = \\frac{\\partial X}{\\partial x} B_{\\nabla} \\mathcal E_e u_L \\\\\n",
    "    J w = \\sum_e \\mathcal E_e^T \\begin{bmatrix} B_I \\\\ B_{\\nabla} \\end{bmatrix}^T\n",
    "    \\underbrace{\\begin{bmatrix} I & \\\\ & \\left( \\frac{\\partial X}{\\partial x}\\right)^T \\end{bmatrix} W_q \\color{teal}{\\begin{bmatrix} f_{0,0} & f_{0,1} \\\\ f_{1,0} & f_{1,1} \\end{bmatrix}} \\begin{bmatrix} I & \\\\ & \\left( \\frac{\\partial X}{\\partial x}\\right) \\end{bmatrix}}_{\\text{coefficients at quadrature points}} \\begin{bmatrix} B_I \\\\ B_{\\nabla} \\end{bmatrix} \\mathcal E_e w_L\n",
    "\\end{gather*}\n",
    "  \n",
    "* $B_I$ and $B_\\nabla$ are tensor contractions -- independent of element geometry\n",
    "* Choice of how to order and represent gathers $\\mathcal E$ and scatters $\\mathcal E^T$\n",
    "* Similar for Neumann/Robin and nonlinear boundary conditions"
   ]
  },
  {
   "cell_type": "markdown",
   "metadata": {
    "hideCode": true,
    "hidePrompt": true,
    "slideshow": {
     "slide_type": "slide"
    }
   },
   "source": [
    "# QFunctions: debuggable, vectorizable, and JITable"
   ]
  },
  {
   "cell_type": "markdown",
   "metadata": {
    "cell_style": "split",
    "hideCode": true,
    "hidePrompt": true,
    "slideshow": {
     "slide_type": ""
    }
   },
   "source": [
    "* Independent operations at each of `Q` quadrature points, order unspecified\n",
    "\n",
    "```c\n",
    "int L2residual(void *ctx, CeedInt Q,\n",
    "    const CeedScalar *const in[],\n",
    "    CeedScalar *const out[]) {\n",
    "  const CeedScalar *u = in[0], *rho = in[1], *target = in[2];\n",
    "  CeedScalar *f = out[0];\n",
    "  for (CeedInt i=0; i<Q; i++)\n",
    "    // Weak form of the problem goes here\n",
    "    f[i] = rho[i] * (u[i] - target[i]);\n",
    "  return 0;\n",
    "}\n",
    "```\n",
    "\n",
    "$$\\int v \\, \\underbrace{\\rho (u - \\mathtt{target})}_{f} = 0, \\quad \\forall v$$"
   ]
  },
  {
   "cell_type": "markdown",
   "metadata": {
    "cell_style": "split"
   },
   "source": [
    "![](figures/ceed/solids-perf-disassembly.png)"
   ]
  },
  {
   "cell_type": "markdown",
   "metadata": {
    "cell_style": "split"
   },
   "source": [
    "## Example QFunctions\n",
    "* Riemann problems\n",
    "* Return mapping for plasticity\n",
    "* Nitsche contact\n",
    "* Synthetic turbuluence generation\n",
    "* Data-driven SGS model (small neural network)"
   ]
  },
  {
   "cell_type": "markdown",
   "metadata": {
    "slideshow": {
     "slide_type": "slide"
    }
   },
   "source": [
    "# Why not a domain-specific language (DSL)?"
   ]
  },
  {
   "cell_type": "markdown",
   "metadata": {
    "cell_style": "split"
   },
   "source": [
    "## Developer experience\n",
    "\n",
    "* Indexed, refactoring tools\n",
    "* Libraries of materials\n",
    "* Unit testing, property testing\n",
    "* Debugger integration\n",
    "  * Run in debugger with `-fp_trap`, see how your code computed a negative pressure.\n",
    "  * Attach debugger to running job, see why return-mapping algorithm is converging slowly.\n",
    "* Static analysis\n",
    "* Performance transparency\n",
    "  * Profiling tools, flamegraph reflects source"
   ]
  },
  {
   "cell_type": "markdown",
   "metadata": {
    "cell_style": "split"
   },
   "source": [
    "## Rust\n",
    "\n",
    "* Excellent error messages.\n",
    "* Guaranteed type- and memory-safety.\n",
    "* Excellent tooling and libraries\n",
    "* `no_std`: compiling for the host ensures no allocation/system access (that would fail on device)\n",
    "* Zero-cost FFI: JIT fuse kernels with CUDA-C parts and Rust parts; result is fully inlined.\n",
    "* Ergonomic and safe AD via Enzyme\n",
    "  * Working to merge upstream for `+nightly`"
   ]
  },
  {
   "cell_type": "markdown",
   "metadata": {
    "slideshow": {
     "slide_type": "subslide"
    }
   },
   "source": [
    "# Modeling principles for matrix-free methods"
   ]
  },
  {
   "cell_type": "markdown",
   "metadata": {
    "cell_style": "split"
   },
   "source": [
    "## Seek well-conditioned formulations\n",
    "\n",
    "* Nitsche contact vs Lagrange multipliers or penalties\n",
    "* Conforming discretizations vs XFEM and immersed boundary\n",
    "* Mixed FE vs displacement-only elasticity"
   ]
  },
  {
   "cell_type": "markdown",
   "metadata": {
    "cell_style": "split"
   },
   "source": [
    "## Smooth everything\n",
    "\n",
    "* Leave extra degrees of freedom in\n",
    "  * Skip static condensation\n",
    "* Approx Braess-Sarazin vs segregated MG vs Vanka vs vertex-star\n",
    "* \"optimal\" asymptotics must be weighted against implementation efficiency"
   ]
  },
  {
   "cell_type": "markdown",
   "metadata": {
    "cell_style": "center",
    "hideCode": true,
    "hidePrompt": true,
    "slideshow": {
     "slide_type": "slide"
    }
   },
   "source": [
    "# Outlook: [petsc.org](https://petsc.org) [libceed.org](https://libceed.org) [ratel.micromorph.org](https://ratel.micromorph.org)"
   ]
  },
  {
   "cell_type": "markdown",
   "metadata": {
    "cell_style": "split",
    "hideCode": true,
    "hidePrompt": true,
    "slideshow": {
     "slide_type": ""
    }
   },
   "source": [
    "* You can move from $Q_1$ to $Q_2$ elements for about 2x cost (despite 8x more DoFs); $p>2$ is free\n",
    "* Mesh to resolve geometry, $p$-refine to pragmatic accuracy (tools!)\n",
    "* libCEED already offers 2x speedup for $Q_1$\n",
    "* Gordon Bell scale from 20 years ago $\\mapsto$ interactive on a workstation (if you can buy MI250X 😊)\n",
    "\n",
    "## Come to the hands-on session\n",
    "* https://github.com/jedbrown/nuwest24\n",
    "* Run p-MG solvers for structural mechanics on Tioga\n",
    "* Explore QFunctions in real code\n",
    "* Discuss unstructured implicit discretization and solvers\n",
    "\n",
    "## Thanks: DOE PSAAP, DOE ECP, DOE ASCR, NSF CISE"
   ]
  },
  {
   "cell_type": "markdown",
   "metadata": {
    "cell_style": "split",
    "hideCode": true,
    "hidePrompt": true,
    "slideshow": {
     "slide_type": ""
    }
   },
   "source": [
    "<video src=\"figures/ratel/schwarz-pendulum.webm\" autoplay loop width=\"60%\" />"
   ]
  },
  {
   "cell_type": "markdown",
   "metadata": {
    "cell_style": "split",
    "hideCode": true,
    "hidePrompt": true,
    "slideshow": {
     "slide_type": ""
    }
   },
   "source": [
    "<video src=\"figures/fluids/ROPI_OutView.webm\" autoplay loop width=\"80%\" />"
   ]
  },
  {
   "cell_type": "markdown",
   "metadata": {
    "cell_style": "center",
    "slideshow": {
     "slide_type": "slide"
    }
   },
   "source": [
    "# Old performance model"
   ]
  },
  {
   "cell_type": "markdown",
   "metadata": {
    "cell_style": "center",
    "slideshow": {
     "slide_type": ""
    }
   },
   "source": [
    "## Iterative solvers: Bandwidth\n",
    "* SpMV arithmetic intensity of 1/6 flop/byte\n",
    "* Preconditioners also mostly bandwidth\n",
    "  * Architectural latency a big problem on GPUs, especially for sparse triangular solves.\n",
    "  * Sparse matrix-matrix products for AMG setup\n",
    "  \n",
    "## Direct solvers: Bandwidth and Dense compute\n",
    "* Leaf work in sparse direct solves\n",
    "* Dense factorization of supernodes\n",
    "  * Fundamentally nonscalable, granularity on GPUs is already too big to apply on subdomains\n",
    "* Research on H-matrix approximations (e.g., in STRUMPACK)"
   ]
  },
  {
   "cell_type": "markdown",
   "metadata": {
    "cell_style": "center",
    "slideshow": {
     "slide_type": "subslide"
    }
   },
   "source": [
    "# New performance model\n",
    "\n",
    "## Still mostly bandwidth\n",
    "\n",
    "* Reduce storage needed at quadrature points\n",
    "  * Half the cost of a sparse matrix already for linear elements\n",
    "  * Big efficiency gains for high order\n",
    "* Assembled coarse levels are much smaller.\n",
    "\n",
    "## Compute\n",
    "\n",
    "* Kernel fusion is necessary\n",
    "* Balance vectorization with cache/occupancy\n",
    "* $O(n)$, but benefits from BLIS-like abstractions\n",
    "| BLIS | libCEED |\n",
    "|------|---------|\n",
    "| packing | batched element restriction |\n",
    "| microkernel | basis action |\n",
    "| ? | user-provided qfunctions |\n"
   ]
  },
  {
   "cell_type": "markdown",
   "metadata": {
    "slideshow": {
     "slide_type": "slide"
    }
   },
   "source": [
    "# Ideas for hands-on: Structures in Ratel\n",
    "\n",
    "```console\n",
    "$ mpiexec -n 2 ratel-static -options_file examples/ex01-*.yml [-ceed /gpu/hip]\n",
    "$ ratel-quasistatic -options_file examples/ex02-*.yml\n",
    "$ ratel-dynamic -options_file examples/ex03-*.yml\n",
    "```"
   ]
  },
  {
   "cell_type": "markdown",
   "metadata": {
    "cell_style": "split"
   },
   "source": [
    "## AMG/pMG and the cost of assembly\n",
    "* `-pc_type gamg` or `-pc_type hypre` use assembled sparse matrices.\n",
    "  * Compute a coarse baseline with linear elements\n",
    "  * $h$-refine and solve (AMG)\n",
    "  * $p$-refine and solve (AMG)\n",
    "  * $p$-refine and solve (matrix-free pMG)\n",
    "## Accuracy $p$- vs $h$-refinement"
   ]
  },
  {
   "cell_type": "markdown",
   "metadata": {
    "cell_style": "split"
   },
   "source": [
    "## Robustness and direct solvers\n",
    "* `-pc_type cholesky` (e.g., MUMPS in parallel)\n",
    "* `-pc_type pmg -mg_coarse_pc_type cholesky`\n",
    "* `-pc_type gamg` (or `hypre`)\n",
    "## The cost of incompressibility\n",
    "* Poisson ratio: $-1 \\le \\nu \\le 0.5$\n",
    "* Mixed discretization, augmented Lagrangian (`-nu_primal 0.3`)\n",
    "* Compare to displacement-only solver at \"nice\" Poisson ratio."
   ]
  },
  {
   "cell_type": "markdown",
   "metadata": {
    "slideshow": {
     "slide_type": "slide"
    }
   },
   "source": [
    "# Ideas for hands-on: CEED Fluids\n",
    "\n",
    "```console\n",
    "$ fluids-navierstokes -options_file examples/fluids/*.yaml\n",
    "```"
   ]
  },
  {
   "cell_type": "markdown",
   "metadata": {
    "cell_style": "split"
   },
   "source": [
    "## BCs for compressible flow\n",
    "\n",
    "* Preventing recirculation can be hard in physical domains: Riemann conditions can automatically switch inflow <-> outflow\n",
    "* `vortexshedding.yaml`: How close can the exit be while predicting shedding frequency with 5% accuracy?\n",
    "* `gaussianwave.yaml`: What is the effect of HLL vs HLLC at the boundary?"
   ]
  },
  {
   "cell_type": "markdown",
   "metadata": {
    "cell_style": "split"
   },
   "source": [
    "## Primitive vs Conservative?\n",
    "\n",
    "<img src=\"figures/fluids/Temperature_p1.png\">\n",
    "\n",
    "<video src=\"figures/fluids/cyl-vorticity.webm\" autoplay loop />"
   ]
  }
 ],
 "metadata": {
  "celltoolbar": "Slideshow",
  "hide_code_all_hidden": true,
  "kernelspec": {
   "display_name": "Python 3 (ipykernel)",
   "language": "python",
   "name": "python3"
  },
  "language_info": {
   "codemirror_mode": {
    "name": "ipython",
    "version": 3
   },
   "file_extension": ".py",
   "mimetype": "text/x-python",
   "name": "python",
   "nbconvert_exporter": "python",
   "pygments_lexer": "ipython3",
   "version": "3.12.4"
  },
  "rise": {
   "autolaunch": false,
   "controls": false,
   "enable_chalkboard": true,
   "progress": true,
   "slideNumber": false
  }
 },
 "nbformat": 4,
 "nbformat_minor": 4
}
