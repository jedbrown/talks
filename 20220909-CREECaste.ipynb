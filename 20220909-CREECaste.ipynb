{
 "cells": [
  {
   "cell_type": "markdown",
   "metadata": {
    "cell_style": "center",
    "hideCode": false,
    "hidePrompt": false,
    "slideshow": {
     "slide_type": "subslide"
    }
   },
   "source": [
    "# Caste: a grammar for oppression (beyond South Asia + diaspora)"
   ]
  },
  {
   "cell_type": "markdown",
   "metadata": {
    "cell_style": "split"
   },
   "source": [
    "## [Wilkerson's \"pillars of caste\"](https://www.isabelwilkerson.com/)\n",
    "* **Divine/natural hierarchy**\n",
    "* **Heritability** (cf. \"one drop rule\")\n",
    "* **Endogamy** (arranged marriage)\n",
    "* **Purity** (cf. US segregation)\n",
    "* **Occupational segregation**\n",
    "* **Dehumanization** (cf. minstrel shows)\n",
    "* **Enforcement by violence**\n",
    "\n",
    "![](https://images.squarespace-cdn.com/content/v1/58347d04bebafbb1e66df84c/1521145767171-9HI3148UDACRB0XGCQZ3/caste+pryamid.jpeg?format=1000w)\n"
   ]
  },
  {
   "cell_type": "markdown",
   "metadata": {
    "cell_style": "split"
   },
   "source": [
    "![](https://images.squarespace-cdn.com/content/v1/58347d04bebafbb1e66df84c/1521524477487-QZZ8WT9O2WEVDSZ1814J/Screen+Shot+2018-03-19+at+22.40.04.png?format=1000w)\n",
    "[Equality Labs: Caste in the United States](https://www.equalitylabs.org/castesurvey)\n",
    "* Coded language and inferences\n",
    "* Surname, ancestral villages, religious and dietary practices"
   ]
  },
  {
   "cell_type": "markdown",
   "metadata": {
    "slideshow": {
     "slide_type": "slide"
    }
   },
   "source": [
    "# Precedents for action"
   ]
  },
  {
   "cell_type": "markdown",
   "metadata": {
    "cell_style": "split"
   },
   "source": [
    "* [Brandeis](https://www.brandeis.edu/human-resources/policies/discrimination/caste-statement.html): formal nondiscrimination policy, justified by legal interpretation of Civil Rights Act\n",
    "\n",
    "> Following the guidance of the U.S. Department of Justice, Civil Rights Division’s interpretation of Title VI of the Civil Rights Act to include a prohibition against religious discrimination, Brandeis University shall similarly **construe caste identity to be included within the university’s current bans on discrimination and harassment based on race, color, ancestry, religious creed, and national or ethnic origin**. The university believes that **caste identity is so inextricably intertwined with those legally recognized protected characteristics** that discrimination based on one’s caste is effectively discrimination based on an amalgamation of legally protected characteristics. \n",
    "* [Cal State](https://www.nbcnews.com/news/asian-america/cal-state-schools-add-caste-anti-discrimination-policy-rcna12602): system-wide\n",
    "* [Colby College](https://abcnews.go.com/US/wireStory/maines-colby-college-bans-discrimination-based-caste-80605592) formal nondiscrimination policy"
   ]
  },
  {
   "cell_type": "markdown",
   "metadata": {
    "cell_style": "split"
   },
   "source": [
    "* [U Minnesota](https://policy.umn.edu/hr/discrimination-faq07): FAQ clarification of formal policy\n",
    "* [Harvard](https://www.nbcnews.com/news/asian-america/harvard-adds-caste-bias-protections-graduate-student-workers-rcna7279): graduate student union negotiations\n",
    "* [UC Davis](https://abcnews.go.com/US/wireStory/uc-davis-adds-caste-anti-discrimination-policy-81266137) campus policy\n",
    "* **Industry**: Apple, IBM\n",
    "  * Ongoing petition at Google (over 1600 signatures); California suit claiming caste discrimination at Cisco"
   ]
  },
  {
   "cell_type": "markdown",
   "metadata": {
    "cell_style": "split"
   },
   "source": [
    "## [Regent Law 8A](https://www.cu.edu/regents/law/8)\n",
    "\n",
    "> The University of Colorado does not discriminate on the basis of race, color, national origin, sex, pregnancy, age, disability, creed, religion, sexual orientation, gender identity, gender expression, veteran status, political affiliation, or political philosophy in admission and access to, and treatment and employment in, its educational programs and activities."
   ]
  }
 ],
 "metadata": {
  "celltoolbar": "Slideshow",
  "hide_code_all_hidden": true,
  "kernelspec": {
   "display_name": "Python 3 (ipykernel)",
   "language": "python",
   "name": "python3"
  },
  "language_info": {
   "codemirror_mode": {
    "name": "ipython",
    "version": 3
   },
   "file_extension": ".py",
   "mimetype": "text/x-python",
   "name": "python",
   "nbconvert_exporter": "python",
   "pygments_lexer": "ipython3",
   "version": "3.10.6"
  },
  "rise": {
   "autolaunch": false,
   "controls": false,
   "enable_chalkboard": true,
   "progress": true,
   "slideNumber": false
  }
 },
 "nbformat": 4,
 "nbformat_minor": 4
}
