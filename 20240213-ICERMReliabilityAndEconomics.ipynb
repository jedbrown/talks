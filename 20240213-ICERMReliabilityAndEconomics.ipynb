{
 "cells": [
  {
   "cell_type": "markdown",
   "metadata": {
    "cell_style": "center",
    "hideCode": false,
    "hidePrompt": false,
    "slideshow": {
     "slide_type": "slide"
    }
   },
   "source": [
    "# On Reliability and Economics\n",
    "\n",
    "## **Jed Brown**, CU Boulder\n",
    "### Collaborators: Zach Atkins, Valeria Barra, Natalie Beams, Fabio Di Gioacchino, Leila Ghaffari, Ken Jansen, Matthew Knepley, William Moses, Rezgar Shakeri, Karen Stengel, Jeremy L. Thompson, James Wright III, Junchao Zhang\n",
    "\n",
    "\n",
    "## Numerical Analysis of Multiphysics Problems, ICERM, 2024-02-13"
   ]
  },
  {
   "cell_type": "code",
   "execution_count": 2,
   "metadata": {
    "hideCode": false,
    "slideshow": {
     "slide_type": "skip"
    }
   },
   "outputs": [],
   "source": [
    "from IPython.display import SVG, Video, HTML, IFrame\n",
    "import pandas as pd\n",
    "import altair as alt\n",
    "from io import StringIO\n",
    "import numpy as np\n",
    "\n",
    "import base64\n",
    "from IPython.display import Image, display\n",
    "#import matplotlib.pyplot as plt\n",
    "\n",
    "def mm(graph):\n",
    "  graphbytes = graph.encode(\"ascii\")\n",
    "  base64_bytes = base64.b64encode(graphbytes)\n",
    "  base64_string = base64_bytes.decode(\"ascii\")\n",
    "  display(\n",
    "    Image(\n",
    "      url=\"https://mermaid.ink/img/\"\n",
    "      + base64_string\n",
    "    )\n",
    "  )"
   ]
  },
  {
   "cell_type": "markdown",
   "metadata": {
    "slideshow": {
     "slide_type": "slide"
    }
   },
   "source": [
    "# Model selection is complicated"
   ]
  },
  {
   "cell_type": "code",
   "execution_count": 20,
   "metadata": {
    "cell_style": "split",
    "hideCode": true
   },
   "outputs": [
    {
     "data": {
      "text/html": [
       "<img src=\"https://mermaid.ink/img/Cm1pbmRtYXAKICByb290KChsaW5lYXIgZWxhc3RpY2l0eSkpCiAgICBTdFZlbmFudCBLaXJjaGhvZmYKICAgIHNtYWxsIHN0cmFpbiBuZW8gSG9va2VhbgogICAgbmVvIEhvb2tlYW4KICAgICAgTW9vbmV5IFJpdmxpbgogICAgICBPZ2RlbgogICAgYWRkaXRpdmUgcGxhc3RpY2l0eQogICAgICBsb2dhcml0aG1pYyBzdHJhaW4gYWRkaXRpdmUgcGxhc3RpY2l0eQogICAgICAgIG11bHRpcGxpY2F0aXZlIHBsYXN0aWNpdHkK\"/>"
      ],
      "text/plain": [
       "<IPython.core.display.Image object>"
      ]
     },
     "metadata": {},
     "output_type": "display_data"
    }
   ],
   "source": [
    "mm(\"\"\"\n",
    "mindmap\n",
    "  root((linear elasticity))\n",
    "    StVenant Kirchhoff\n",
    "    small strain neo Hookean\n",
    "    neo Hookean\n",
    "      Mooney Rivlin\n",
    "      Ogden\n",
    "    additive plasticity\n",
    "      logarithmic strain additive plasticity\n",
    "        multiplicative plasticity\n",
    "\"\"\")"
   ]
  },
  {
   "cell_type": "markdown",
   "metadata": {
    "cell_style": "split"
   },
   "source": [
    "* Post-hoc check that emergent structure stays in the simpler regime at the desired accuracy tolerance.\n",
    "* Snap-through can happen at very small strains.\n",
    "* Need to maintain a lot of drivers to optimize for each \"simpler\" model."
   ]
  },
  {
   "cell_type": "markdown",
   "metadata": {
    "slideshow": {
     "slide_type": "slide"
    }
   },
   "source": [
    "# What fluids model should we use?"
   ]
  },
  {
   "cell_type": "code",
   "execution_count": 22,
   "metadata": {
    "cell_style": "split",
    "hideCode": true
   },
   "outputs": [
    {
     "data": {
      "text/html": [
       "<img src=\"https://mermaid.ink/img/Cm1pbmRtYXAKICByb290KChpbmNvbXByZXNzaWJsZSBTdG9rZXMpKQogICAgaW5jb21wcmVzc2libGUgTlMKICAgICAgUkFOUwogICAgICBMRVMKICAgICAgQm91c3NpbmVzcQogICAgY29tcHJlc3NpYmxlIEV1bGVyCiAgICAgIGNvbXByZXNzaWJsZSBOUwogICAgICAgIFJBTlMKICAgICAgICBMRVMK\"/>"
      ],
      "text/plain": [
       "<IPython.core.display.Image object>"
      ]
     },
     "metadata": {},
     "output_type": "display_data"
    }
   ],
   "source": [
    "mm(\"\"\"\n",
    "mindmap\n",
    "  root((incompressible Stokes))\n",
    "    incompressible NS\n",
    "      RANS\n",
    "      LES\n",
    "      Boussinesq\n",
    "    compressible Euler\n",
    "      compressible NS\n",
    "        RANS\n",
    "        LES\n",
    "\"\"\")"
   ]
  },
  {
   "cell_type": "markdown",
   "metadata": {
    "cell_style": "split",
    "slideshow": {
     "slide_type": "fragment"
    }
   },
   "source": [
    "## Rule of thumb: incompressible and compressible are \"the same\" for $\\mathrm{Ma} \\lesssim 0.2$"
   ]
  },
  {
   "cell_type": "markdown",
   "metadata": {
    "slideshow": {
     "slide_type": "slide"
    }
   },
   "source": [
    "# A2e High Fidelity Modeling (2015)"
   ]
  },
  {
   "cell_type": "markdown",
   "metadata": {},
   "source": [
    "<img src=\"figures/fluids/A2e-decision-process-overview.png\" width=\"90%\" class=\"center\" />"
   ]
  },
  {
   "cell_type": "markdown",
   "metadata": {
    "slideshow": {
     "slide_type": "slide"
    }
   },
   "source": [
    "# Uzun and Malik (2022) artificially increase Ma=0.1 to Ma=0.2 to reduce stiffness"
   ]
  },
  {
   "cell_type": "markdown",
   "metadata": {},
   "source": [
    "<img src=\"figures/fluids/UzunMalik-BumpVorticity-2022.png\" width=\"90%\" class=\"center\" />"
   ]
  },
  {
   "cell_type": "markdown",
   "metadata": {
    "slideshow": {
     "slide_type": "slide"
    }
   },
   "source": [
    "# \"Structured grids are simpler\"\n",
    "\n",
    "* Uli Rüde claims 100x more efficient\n",
    "  * Performance models: 🤨\n",
    "\n",
    "## Engineering problems almost always need non-uniform resolution\n",
    "* Tree- or patch-based AMR\n",
    "* Overset grids"
   ]
  },
  {
   "cell_type": "markdown",
   "metadata": {
    "slideshow": {
     "slide_type": "slide"
    }
   },
   "source": [
    "# Why all the \"simpler\" models?"
   ]
  },
  {
   "cell_type": "markdown",
   "metadata": {
    "cell_style": "split",
    "slideshow": {
     "slide_type": ""
    }
   },
   "source": [
    "* Cost\n",
    "* Specification of boundary conditions, ...\n",
    "* Tradition?"
   ]
  },
  {
   "cell_type": "markdown",
   "metadata": {
    "cell_style": "split",
    "slideshow": {
     "slide_type": "fragment"
    }
   },
   "source": [
    "## Catch\n",
    "\n",
    "* You still need to implement the sophisticated models for all-deformation structures, all-speed flow, etc.\n",
    "* Multi-block/overset grid generation is poorly automated.\n",
    "* Sometimes simple is stiffer (e.g., infinite acoustic speed for incompressible flow)"
   ]
  },
  {
   "cell_type": "markdown",
   "metadata": {
    "slideshow": {
     "slide_type": "slide"
    }
   },
   "source": [
    "# What if \"simple\" is actually more complicated and no faster?"
   ]
  },
  {
   "cell_type": "markdown",
   "metadata": {
    "cell_style": "split",
    "slideshow": {
     "slide_type": "fragment"
    }
   },
   "source": [
    "## Conjecture: Hyperelasticity at small strain is same efficiency as linear elasticity.\n",
    "* Newton converges in 1 iteration if you were correct that the linear regime is valid.\n",
    "* Exact reference frame invariance"
   ]
  },
  {
   "cell_type": "markdown",
   "metadata": {
    "cell_style": "split",
    "slideshow": {
     "slide_type": "fragment"
    }
   },
   "source": [
    "## Conjecture: Low-Mach compressible flow is same efficiency as incompressible flow.\n",
    "\n",
    "* Finite $\\mathrm{Ma}$ makes pressure more local; allow looser tolerance in implicit integration.\n",
    "* Boundary conditions admittedly more subtle."
   ]
  },
  {
   "cell_type": "markdown",
   "metadata": {
    "cell_style": "split",
    "slideshow": {
     "slide_type": "fragment"
    }
   },
   "source": [
    "## Conjecture: Structured grids are dead\n",
    "\n",
    "* unstructured is faster, even for box-like domains\n",
    "* quadratic/cubic elements are enough to amortize cost of unstructured connectivity"
   ]
  },
  {
   "cell_type": "markdown",
   "metadata": {
    "cell_style": "split",
    "slideshow": {
     "slide_type": "skip"
    }
   },
   "source": [
    "## Conjecture: Explicit time integration is over\n",
    "\n",
    "* even \"non-stiff\" wave propagation rarely matches CFL globally for heterogeneous materials (e.g., seismic waves in the Earth; mesh design is hard)\n",
    "* implicit admits discretizations with better dispersion properties"
   ]
  },
  {
   "cell_type": "markdown",
   "metadata": {
    "cell_style": "split",
    "slideshow": {
     "slide_type": "fragment"
    }
   },
   "source": [
    "<img src=\"figures/portlandia-explicit-time-integration-over.jpg\" />"
   ]
  },
  {
   "cell_type": "markdown",
   "metadata": {
    "slideshow": {
     "slide_type": "slide"
    }
   },
   "source": [
    "# David Keyes, \"Petaflop/s, seriously\" (ca. 2007)\n",
    "\n",
    "<img src=\"figures/Keyes-PeanutButter-2008.png\" class=\"center\" />"
   ]
  },
  {
   "cell_type": "markdown",
   "metadata": {
    "slideshow": {
     "slide_type": "subslide"
    }
   },
   "source": [
    "# Constants matter"
   ]
  },
  {
   "cell_type": "markdown",
   "metadata": {
    "cell_style": "split",
    "slideshow": {
     "slide_type": ""
    }
   },
   "source": [
    "## Relative cost of compute versus memory access\n",
    "## Accuracy tolerances depend on application\n",
    "## GPU vs CPU latencies\n",
    "## Accuracy or conservation? Unbiased or biased error?"
   ]
  },
  {
   "cell_type": "markdown",
   "metadata": {
    "cell_style": "split"
   },
   "source": [
    "<img src=\"figures/app-perf-cartoon-2.png\" width=\"100%\" />"
   ]
  },
  {
   "cell_type": "markdown",
   "metadata": {
    "slideshow": {
     "slide_type": "slide"
    }
   },
   "source": [
    "# Nonlinear solid mechanics"
   ]
  },
  {
   "cell_type": "markdown",
   "metadata": {
    "cell_style": "split",
    "slideshow": {
     "slide_type": ""
    }
   },
   "source": [
    "\n",
    "<video src=\"figures/ratel/schwarz-q2-5x5x5-t20-l2-r2.webm\" width=\"90%\" autoplay controls loop />"
   ]
  },
  {
   "cell_type": "markdown",
   "metadata": {
    "cell_style": "split"
   },
   "source": [
    "## Industrial state of practice\n",
    "\n",
    "* Low order finite elements: $Q_1$ (trilinear) hexahedra, $P_2$ (quadratic) tetrahedra.\n",
    "* Assembled matrices, sparse direct and algebraic multigrid solvers\n",
    "\n",
    "## Myths\n",
    "\n",
    "* High order doesn't help because real problems have singularities.\n",
    "* Matrix-free methods are just for high order problems"
   ]
  },
  {
   "cell_type": "markdown",
   "metadata": {
    "cell_style": "split"
   },
   "source": [
    "<video src=\"figures/ratel/tire-platen.webm\" autoplay loop width=\"100%\" />"
   ]
  },
  {
   "cell_type": "markdown",
   "metadata": {
    "slideshow": {
     "slide_type": "slide"
    }
   },
   "source": [
    "# Industrial models are riddled with singularities"
   ]
  },
  {
   "cell_type": "markdown",
   "metadata": {
    "cell_style": "split"
   },
   "source": [
    "<img src=\"figures/Bhardwaj-2002-assembly.png\" width=\"80%\" />"
   ]
  },
  {
   "cell_type": "markdown",
   "metadata": {
    "cell_style": "split"
   },
   "source": [
    "* Every reentrant corner\n",
    "* Every Dirichlet (fixed/clamped) to Neumann boundary transitien\n",
    "\n",
    "\n",
    "(From Bhardwaj et al, 2002.)"
   ]
  },
  {
   "cell_type": "markdown",
   "metadata": {
    "slideshow": {
     "slide_type": "slide"
    }
   },
   "source": [
    "# The mathematician's way: $hp$ adaptive finite elements\n",
    "\n",
    "Elliptic PDE always have singularities at reentrant corners (and Dirichlet to Neumann boundary transitions)."
   ]
  },
  {
   "cell_type": "markdown",
   "metadata": {
    "cell_style": "split"
   },
   "source": [
    "<img src=\"https://www.dealii.org/images/steps/developer/step-27-solution.png\" width=\"80%\" />"
   ]
  },
  {
   "cell_type": "markdown",
   "metadata": {
    "cell_style": "split"
   },
   "source": [
    "<img src=\"figures/DemkowiczRachowiczDevloo-hp-2002.png\" />\n",
    "\n",
    "Demkowicz, Rachowicz, Devloo (2002)"
   ]
  },
  {
   "attachments": {
    "image.png": {
     "image/png": "[encoded data removed]"
    }
   },
   "cell_type": "markdown",
   "metadata": {
    "slideshow": {
     "slide_type": "slide"
    }
   },
   "source": [
    "# How does it work?\n",
    "\n",
    "High order to resolve when solution is smooth, tiny low-order elements near singularities.\n",
    "\n",
    "![image.png](attachment:image.png)\n",
    "\n",
    "([source: Deal.II step 27](https://dealii.org/developer/doxygen/deal.II/step_27.html))"
   ]
  },
  {
   "cell_type": "markdown",
   "metadata": {
    "slideshow": {
     "slide_type": "slide"
    }
   },
   "source": [
    "# What meshes do engineers use?"
   ]
  },
  {
   "cell_type": "markdown",
   "metadata": {
    "cell_style": "split",
    "slideshow": {
     "slide_type": ""
    }
   },
   "source": [
    "<img src=\"https://images.ansys.com/is/image/ansys/fundamentals-of-fea-meshing-cages-motorcycle-pump?&wid=866&op_usm=0.9,1.0,20,0&fit=constrain,0\" width=\"100%\" />\n",
    "\n",
    "[source: Ansys blog](https://www.ansys.com/blog/fundamentals-of-fea-meshing-for-structural-analysis)"
   ]
  },
  {
   "cell_type": "markdown",
   "metadata": {
    "cell_style": "split"
   },
   "source": [
    "## Test problem\n",
    "\n",
    "<video src=\"figures/ratel/one-hole-traction-20220222.webm\" autoplay controls loop />"
   ]
  },
  {
   "cell_type": "markdown",
   "metadata": {
    "slideshow": {
     "slide_type": "slide"
    }
   },
   "source": [
    "# Approximation constants are good for high order\n",
    "\n",
    "<img src=\"figures/ratel/accuracy_study_annotated.svg\" width=\"90%\" />"
   ]
  },
  {
   "cell_type": "markdown",
   "metadata": {
    "slideshow": {
     "slide_type": "slide"
    }
   },
   "source": [
    "# Bandwidth is scarce compared to flops"
   ]
  },
  {
   "cell_type": "markdown",
   "metadata": {
    "cell_style": "center"
   },
   "source": [
    "<img src=\"figures/karlrupp/flop-per-byte-dp-2022.svg\" width=\"90%\" class=\"center\" />"
   ]
  },
  {
   "cell_type": "markdown",
   "metadata": {
    "slideshow": {
     "slide_type": "subslide"
    }
   },
   "source": [
    "# Why matrix-free?\n",
    "* Assembled matrices need at least 4 bytes transferred per flop. Hardware does 10 flops/byte. Matrix-free methods store and move less data, compute faster.\n",
    "\n",
    "<img src=\"figures/TensorVsAssembly-qstore.svg\" width=\"90%\" class=\"center\" />"
   ]
  },
  {
   "cell_type": "markdown",
   "metadata": {
    "slideshow": {
     "slide_type": "slide"
    }
   },
   "source": [
    "# Matrix-free is already faster for $Q_1$ elements\n",
    "\n",
    "<img src=\"figures/ratel/schwarz-apply.svg\" width=\"90%\" />"
   ]
  },
  {
   "cell_type": "markdown",
   "metadata": {
    "slideshow": {
     "slide_type": "slide"
    }
   },
   "source": [
    "# $p$-multigrid algorithm and cost breakdown"
   ]
  },
  {
   "cell_type": "markdown",
   "metadata": {
    "cell_style": "split"
   },
   "source": [
    "<img src=\"figures/ratel/p-mg-cycle.png\" width=\"80%\" />"
   ]
  },
  {
   "cell_type": "markdown",
   "metadata": {
    "cell_style": "split"
   },
   "source": [
    "<img src=\"figures/ratel/op_schematic.svg\" width=\"80%\" />"
   ]
  },
  {
   "cell_type": "code",
   "execution_count": 30,
   "metadata": {
    "cell_style": "center",
    "hideCode": true,
    "scrolled": true,
    "slideshow": {
     "slide_type": ""
    }
   },
   "outputs": [
    {
     "data": {
      "text/html": [
       "\n",
       "        <iframe\n",
       "            width=\"2000\"\n",
       "            height=\"350\"\n",
       "            src=\"figures/ratel/schwarz-q2-flame.svg\"\n",
       "            frameborder=\"0\"\n",
       "            allowfullscreen\n",
       "            \n",
       "        ></iframe>\n",
       "        "
      ],
      "text/plain": [
       "<IPython.lib.display.IFrame at 0x7f5d8fd9d550>"
      ]
     },
     "execution_count": 30,
     "metadata": {},
     "output_type": "execute_result"
    }
   ],
   "source": [
    "IFrame(\"figures/ratel/schwarz-q2-flame.svg\", width=\"2000\", height=\"350\")"
   ]
  },
  {
   "cell_type": "markdown",
   "metadata": {
    "slideshow": {
     "slide_type": "slide"
    }
   },
   "source": [
    "# Nonlinear solve efficiency"
   ]
  },
  {
   "cell_type": "markdown",
   "metadata": {
    "cell_style": "split",
    "slideshow": {
     "slide_type": ""
    }
   },
   "source": [
    "## $Q_2$ elements\n",
    "<img src=\"figures/ratel/schwarz-q2-t20-r2-l2-SNESSolve.svg\" />"
   ]
  },
  {
   "cell_type": "markdown",
   "metadata": {
    "cell_style": "split"
   },
   "source": [
    "## $Q_3$ elements\n",
    "<img src=\"figures/ratel/schwarz-q3-t20-r2-l1-SNESSolve.svg\" />"
   ]
  },
  {
   "cell_type": "markdown",
   "metadata": {
    "slideshow": {
     "slide_type": "subslide"
    }
   },
   "source": [
    "# Linear solve efficiency"
   ]
  },
  {
   "cell_type": "markdown",
   "metadata": {
    "cell_style": "split",
    "slideshow": {
     "slide_type": ""
    }
   },
   "source": [
    "## $Q_2$ elements\n",
    "<img src=\"figures/ratel/schwarz-q2-t20-r2-l2-KSPSolve.svg\" />"
   ]
  },
  {
   "cell_type": "markdown",
   "metadata": {
    "cell_style": "split"
   },
   "source": [
    "## $Q_3$ elements\n",
    "<img src=\"figures/ratel/schwarz-q3-t20-r2-l1-KSPSolve.svg\" />"
   ]
  },
  {
   "cell_type": "markdown",
   "metadata": {},
   "source": [
    "* Coarse solver is hypre BoomerAMG tuned configured for elasticity; thanks Victor Paludetto\n",
    "Magri."
   ]
  },
  {
   "cell_type": "markdown",
   "metadata": {
    "slideshow": {
     "slide_type": "subslide"
    }
   },
   "source": [
    "# Preconditioner setup efficiency"
   ]
  },
  {
   "cell_type": "markdown",
   "metadata": {
    "cell_style": "split",
    "slideshow": {
     "slide_type": ""
    }
   },
   "source": [
    "## $Q_2$ elements\n",
    "<img src=\"figures/ratel/schwarz-q2-t20-r2-l2-PCSetUp.svg\" />"
   ]
  },
  {
   "cell_type": "markdown",
   "metadata": {
    "cell_style": "split"
   },
   "source": [
    "## $Q_3$ elements\n",
    "<img src=\"figures/ratel/schwarz-q3-t20-r2-l1-PCSetUp.svg\" />"
   ]
  },
  {
   "cell_type": "markdown",
   "metadata": {
    "slideshow": {
     "slide_type": "slide"
    }
   },
   "source": [
    "# Half-inch puck (F67), 50 MDoF, quadratic tets"
   ]
  },
  {
   "cell_type": "markdown",
   "metadata": {
    "cell_style": "split"
   },
   "source": [
    "<img src=\"figures/micromorph/f67-detail.png\" width=\"100%\" />"
   ]
  },
  {
   "cell_type": "markdown",
   "metadata": {
    "cell_style": "split"
   },
   "source": [
    "* 40k grains segmented from CT scans\n",
    "* 1% global strain, neo-Hookean model\n",
    "* 34 seconds per nonlinear solve (`rtol=1e-8`)\n",
    "  * 7 seconds per linear solve\n",
    "  * 45 CG iterations\n",
    "* `/gpu/hip/shared` backend since `hip/gen` does not yet support tensor product elements\n",
    "  * Will try `hip/magma`\n",
    "* BoomerAMG coarse solve (linear elements)\n",
    "* Pure-GPU assembly into hypre ParCSR"
   ]
  },
  {
   "cell_type": "code",
   "execution_count": 28,
   "metadata": {
    "hideCode": true
   },
   "outputs": [
    {
     "data": {
      "text/html": [
       "\n",
       "        <iframe\n",
       "            width=\"1400\"\n",
       "            height=\"200\"\n",
       "            src=\"figures/micromorph/flamegraph-tioga-f67-puck.svg\"\n",
       "            frameborder=\"0\"\n",
       "            allowfullscreen\n",
       "            \n",
       "        ></iframe>\n",
       "        "
      ],
      "text/plain": [
       "<IPython.lib.display.IFrame at 0x7f5d8fd9f110>"
      ]
     },
     "execution_count": 28,
     "metadata": {},
     "output_type": "execute_result"
    }
   ],
   "source": [
    "IFrame(\"figures/micromorph/flamegraph-tioga-f67-puck.svg\", width=\"1400\", height=\"200\")"
   ]
  },
  {
   "cell_type": "markdown",
   "metadata": {
    "slideshow": {
     "slide_type": "slide"
    }
   },
   "source": [
    "# Phase-field damage mechanics"
   ]
  },
  {
   "cell_type": "markdown",
   "metadata": {
    "cell_style": "split"
   },
   "source": [
    "$$\n",
    "\\begin{bmatrix}\n",
    "A & B \\\\\n",
    "C & D\n",
    "\\end{bmatrix}\n",
    "\\begin{bmatrix} \\mathbf u \\\\ \\phi \\end{bmatrix}\n",
    "=\n",
    "\\begin{bmatrix} \\mathbf b \\\\ \\mathbf 0 \\end{bmatrix}\n",
    "$$\n",
    "* $A$ is elasticity operator\n",
    "* $D$ is screened Laplacian for damage (Green's functions decay in a few elements)\n",
    "\n",
    "## p-MG setup\n",
    "\n",
    "* p-MG coarsen from quadratic to linear elements (tets in this example)\n",
    "* specify 6-dimensional rigid body modes as near null space\n",
    "* damage field $\\phi$ is not needed in AMG\n",
    "* optional: point-block Jacobi smoothing"
   ]
  },
  {
   "cell_type": "markdown",
   "metadata": {
    "cell_style": "split"
   },
   "source": [
    "<video src=\"figures/ratel/luke-damage-Gc-ratio-20.webm\" autoplay loop width=\"100%\" />"
   ]
  },
  {
   "cell_type": "markdown",
   "metadata": {
    "cell_style": "split"
   },
   "source": [
    "<video src=\"figures/ratel/luke-sigmaxx-Gc-ratio-20.webm\" autoplay loop width=\"100%\" />"
   ]
  },
  {
   "cell_type": "markdown",
   "metadata": {
    "slideshow": {
     "slide_type": "slide"
    }
   },
   "source": [
    "# One node of Crusher vs historical Gordon Bell\n",
    "* 184 MDoF $Q_2$ elements nonlinear analysis in seconds"
   ]
  },
  {
   "cell_type": "markdown",
   "metadata": {
    "cell_style": "split"
   },
   "source": [
    "### 2002 Gordon Bell (Bhardwaj et al)\n",
    "\n",
    "<img src=\"figures/ratel/gordon-bell-2002-mems.png\" width=\"70%\" />\n",
    "\n",
    "<img src=\"figures/ratel/gordon-bell-2002-mems-table.png\" width=\"100%\" />"
   ]
  },
  {
   "cell_type": "markdown",
   "metadata": {
    "cell_style": "split"
   },
   "source": [
    "### 2004 Gordon Bell (Adams et al)\n",
    "\n",
    "<img src=\"figures/ratel/gordon-bell-2004-bone.png\" width=\"70%\" />\n",
    "\n",
    "<img src=\"figures/ratel/gordon-bell-2004-bone-scaling.jpg\" width=\"100%\" />"
   ]
  },
  {
   "cell_type": "markdown",
   "metadata": {
    "slideshow": {
     "slide_type": "subslide"
    }
   },
   "source": [
    "# Comparison"
   ]
  },
  {
   "cell_type": "markdown",
   "metadata": {
    "cell_style": "split"
   },
   "source": [
    "<img src=\"figures/ratel/gordon-bell-2004-bone.png\" width=\"70%\" />"
   ]
  },
  {
   "cell_type": "markdown",
   "metadata": {
    "cell_style": "split"
   },
   "source": [
    "<img src=\"figures/ratel/schwarz-q2-8x8x8-t20-l2-r2.png\" width=\"50%\" class=\"center\" />"
   ]
  },
  {
   "cell_type": "markdown",
   "metadata": {},
   "source": [
    "| Metric | Adams et al 2004 | Ratel | Ratel |\n",
    "|---|---|---|---|\n",
    "| Discretization | linear | quadratic | cubic |\n",
    "| Machine | ASCI White 130 nodes | Crusher 1 node | Crusher 1 node |\n",
    "| Peak Bandwidth | 1.56 TB/s | 12 TB/s | 12 TB/s |\n",
    "| Degrees of freedom | 237 M | 184 M | 331 M |\n",
    "| kDoF/GB | 460 | 400 | 700 |\n",
    "| load step strain | 0.5% | 12% | 12% |\n",
    "| kDoF/s per load step | 600 | 6000 | 5500 |"
   ]
  },
  {
   "cell_type": "markdown",
   "metadata": {
    "slideshow": {
     "slide_type": "slide"
    }
   },
   "source": [
    "# Same story for compressible turbulence"
   ]
  },
  {
   "cell_type": "markdown",
   "metadata": {
    "cell_style": "split",
    "slideshow": {
     "slide_type": ""
    }
   },
   "source": [
    "<img src=\"figures/Boeing_A2_isoQspeed2_lowRes.png\" width=\"100%\" />\n",
    "\n",
    "<video src=\"figures/fluids/ROPI_OutView.webm\" autoplay loop />"
   ]
  },
  {
   "cell_type": "markdown",
   "metadata": {
    "cell_style": "split"
   },
   "source": [
    "## PHASTA\n",
    "\n",
    "* Extreme-scale unstructured CFD, Fortran\n",
    "* SUPG, implicit (gen-$\\alpha$) Newton-Krylov\n",
    "* Aurora ESP: 2y on the \"Intel/ALCF plan\"\n",
    "  * GPU still slower than CPU\n",
    "\n",
    "## CEED-PHASTA\n",
    "\n",
    "* New implementation in libCEED with PETSc\n",
    "* Matrix-free cuts setup/helps strong scaling\n",
    "* End-to-end GPU\n",
    "\n",
    "| Code | Arch | Element | second/step |\n",
    "|---|---|---|---|\n",
    "| PHASTA | Skylake | $Q_1$ | 6-12 |\n",
    "| CEED | A100 | $Q_1$ | 1.0 |\n",
    "| CEED | A100 | $Q_2$ | 0.7 |\n",
    "| CEED | A100 | $Q_3$ | 0.5 |"
   ]
  },
  {
   "cell_type": "markdown",
   "metadata": {
    "slideshow": {
     "slide_type": "subslide"
    }
   },
   "source": [
    "# Algorithmic framework"
   ]
  },
  {
   "cell_type": "markdown",
   "metadata": {
    "cell_style": "split"
   },
   "source": [
    "* SUPG/VMS for compressible NS in pressure-primitive variables\n",
    "* Implicit integration using gen-$\\alpha$\n",
    "* 3 Newton iterations per time step\n",
    "  * First two are very cheap (5-15 Krylov iterations), third is stiffer\n",
    "\n",
    "<img src=\"figures/fluids/libceed-stored-jacobian-james.png\" />\n",
    "\n",
    "* Benchmark\n",
    "  * flat plate $Re_\\theta \\approx 970$ STG inflow\n",
    "  * $Ma \\approx 0.1$\n",
    "  * 12-30 nominal span/steamline resolution (plus units)"
   ]
  },
  {
   "cell_type": "markdown",
   "metadata": {
    "cell_style": "split"
   },
   "source": [
    "<img src=\"figures/fluids/libceed-apply-polaris-james.png\" />\n",
    "\n",
    "* 10 nodes of Polaris (4x A100/node)\n",
    "* 250k nodes (1.25 MDoF) per GPU"
   ]
  },
  {
   "cell_type": "markdown",
   "metadata": {
    "slideshow": {
     "slide_type": "slide"
    }
   },
   "source": [
    "# Boeing Speed Bump"
   ]
  },
  {
   "cell_type": "markdown",
   "metadata": {
    "cell_style": "split"
   },
   "source": [
    "<img src=\"figures/fluids/speed-bump-3d.png\" />"
   ]
  },
  {
   "cell_type": "markdown",
   "metadata": {
    "cell_style": "split"
   },
   "source": [
    "* \"Easy\" problem for which RANS prediction of separation is catastrophic.\n",
    "* Good experimental data available\n",
    "* What is missing/needed in new RANS models:\n",
    "\n",
    "> Can a RANS model predict a high-lift flow for the right reasons?"
   ]
  },
  {
   "cell_type": "markdown",
   "metadata": {},
   "source": [
    "<img src=\"figures/fluids/speed-bump-Cp-Cf-rans-dns.png\" class=\"center\" />"
   ]
  },
  {
   "cell_type": "markdown",
   "metadata": {
    "slideshow": {
     "slide_type": "subslide"
    }
   },
   "source": [
    "# Are structured grids dead?"
   ]
  },
  {
   "cell_type": "markdown",
   "metadata": {
    "cell_style": "split"
   },
   "source": [
    "## Uzun and Malik (2022)\n",
    "\n",
    "* Prefactored 4th order compact FD\n",
    "* up to 10th order compact filtering\n",
    "* Subcycled implicit time integration\n",
    "\n",
    "<img src=\"figures/fluids/UzunMalik-BumpVorticity-2022.png\" />"
   ]
  },
  {
   "cell_type": "markdown",
   "metadata": {
    "cell_style": "split"
   },
   "source": [
    "### A tale of two bumps, $\\mathrm{Re}_L = 2M, \\mathrm{Ma} = 0.1$\n",
    "\n",
    "| Property | Uzun & Malik | Balin & Jansen |\n",
    "|---|---|---|\n",
    "| Grid | overset FD | tet/prism FE |\n",
    "| Domain width | 0.04L | 0.08L |\n",
    "| # points | 10B | 4B |\n",
    "| steps needed | 1969k | 154k |\n",
    "| seconds/step | 1.4 | 12 |\n",
    "| cores (nodes) | 40k (1000) | 39k (972) |\n",
    "| days | 33 | 25 |\n",
    "| Wall normal spacing ($+$ units) | 0.6 | 0.3 |\n",
    "| Mach number | 0.2 | incompressible |\n",
    "\n",
    "* $\\Delta t$ incompressible $\\approx 2 \\Delta t$ compressible"
   ]
  },
  {
   "cell_type": "markdown",
   "metadata": {
    "slideshow": {
     "slide_type": "slide"
    }
   },
   "source": [
    "# Fluids outlook"
   ]
  },
  {
   "cell_type": "markdown",
   "metadata": {
    "cell_style": "split"
   },
   "source": [
    "<img src=\"figures/fluids/flat-plate-validation-1410.png\" />"
   ]
  },
  {
   "cell_type": "markdown",
   "metadata": {
    "cell_style": "split"
   },
   "source": [
    "* Data-driven subgrid stress model (Prakash, Jansen, Evans)\n",
    "  * Online training using SmartSim\n",
    "  * Reference frame and unit invariant\n",
    "\n",
    "* Speed Bump $Re_L = 2M$\n",
    "  * Determine DNS resolution for cubic elements\n",
    "  * Hex-dominant mixed topology meshing adapted to Kolmogorov scale\n",
    "  * Goal: reduce 30-40 days to 3 days on Aurora\n",
    "* DDES/Hybrid for real geometry (e.g., HLPW)\n",
    "* Fundamental numerics\n",
    "  * Optimized dispersion: stabilization and basis\n",
    "  * Low-Mach preconditioning, time integration"
   ]
  },
  {
   "cell_type": "markdown",
   "metadata": {
    "hideCode": true,
    "hidePrompt": true,
    "slideshow": {
     "slide_type": "slide"
    }
   },
   "source": [
    "## [libCEED](https://libceed.readthedocs.io): fast algebra for finite elements"
   ]
  },
  {
   "cell_type": "markdown",
   "metadata": {
    "cell_style": "split",
    "hideCode": true,
    "hidePrompt": true,
    "slideshow": {
     "slide_type": ""
    }
   },
   "source": [
    "* Backend plugins with run-time selection\n",
    "  * debug/memcheck, optimized\n",
    "  * libxsmm, CUDA, HIP\n",
    "  * MAGMA to CUDA and HIP\n",
    "  * OCCA to OpenMP, OpenCL, CUDA, and HIP\n",
    "* Single source vanilla C for QFunctions\n",
    "  * Easy to debug, understand locally, C++ optional\n",
    "  * Target for DSLs, AD\n",
    "* Python, Julia, Rust\n",
    "* 2-clause BSD\n",
    "* Available via MFEM, PETSc, Nek5000"
   ]
  },
  {
   "cell_type": "markdown",
   "metadata": {
    "cell_style": "split",
    "hideCode": true,
    "hidePrompt": true,
    "slideshow": {
     "slide_type": ""
    }
   },
   "source": [
    "<img src=\"figures/ceed/libCEEDBackends.svg\" width=\"100%\" />"
   ]
  },
  {
   "cell_type": "markdown",
   "metadata": {
    "cell_style": "split",
    "hideCode": true,
    "hidePrompt": true,
    "slideshow": {
     "slide_type": ""
    }
   },
   "source": [
    "Thanks to many developers, including Jeremy Thompson, Yohann Dudouit, Valeria Barra, Natalie Beams,  Ahmad Abdelfattah, Leila Ghaffari, Will Pazner, Thilina Ratnayaka, Tzanio Kolev, Veselin Dobrev, David Medina"
   ]
  },
  {
   "cell_type": "markdown",
   "metadata": {
    "hideCode": true,
    "hidePrompt": true,
    "slideshow": {
     "slide_type": "subslide"
    }
   },
   "source": [
    "<img src=\"figures/ceed/libCEED-2.png\" width=100% />\n"
   ]
  },
  {
   "cell_type": "markdown",
   "metadata": {
    "cell_style": "center",
    "slideshow": {
     "slide_type": "slide"
    }
   },
   "source": [
    "# Old vs new performance models"
   ]
  },
  {
   "cell_type": "markdown",
   "metadata": {
    "cell_style": "split",
    "slideshow": {
     "slide_type": ""
    }
   },
   "source": [
    "## Iterative solvers: Bandwidth\n",
    "* SpMV arithmetic intensity of 1/6 flop/byte\n",
    "* Preconditioners also mostly bandwidth\n",
    "  * Architectural latency a big problem on GPUs, especially for sparse triangular solves.\n",
    "  * Sparse matrix-matrix products for AMG setup\n",
    "  \n",
    "## Direct solvers: Bandwidth and Dense compute\n",
    "* Leaf work in sparse direct solves\n",
    "* Dense factorization of supernodes\n",
    "  * Fundamentally nonscalable, granularity on GPUs is already too big to apply on subdomains\n",
    "* Research on H-matrix approximations (e.g., in STRUMPACK)"
   ]
  },
  {
   "cell_type": "markdown",
   "metadata": {
    "cell_style": "split",
    "slideshow": {
     "slide_type": "fragment"
    }
   },
   "source": [
    "## New model: Still mostly bandwidth\n",
    "\n",
    "* Reduce storage needed at quadrature points\n",
    "  * Half the cost of a sparse matrix already for linear elements\n",
    "  * Big efficiency gains for high order\n",
    "* Assembled coarse levels are much smaller.\n",
    "\n",
    "## Compute\n",
    "\n",
    "* Kernel fusion is necessary\n",
    "* Balance vectorization with cache/occupancy\n",
    "* $O(n)$, but benefits from BLIS-like abstractions\n",
    "| BLIS | libCEED |\n",
    "|------|---------|\n",
    "| packing | batched element restriction |\n",
    "| microkernel | basis action |\n",
    "| ? | user-provided qfunctions |\n"
   ]
  },
  {
   "cell_type": "markdown",
   "metadata": {
    "slideshow": {
     "slide_type": "subslide"
    }
   },
   "source": [
    "# Modeling principles for matrix-free methods"
   ]
  },
  {
   "cell_type": "markdown",
   "metadata": {
    "cell_style": "split"
   },
   "source": [
    "## Seek well-conditioned formulations\n",
    "\n",
    "* Nitsche contact vs Lagrange multipliers or penalties\n",
    "* Conforming discretizations vs XFEM and immersed boundary\n",
    "* Mixed FE vs displacement-only elasticity"
   ]
  },
  {
   "cell_type": "markdown",
   "metadata": {
    "cell_style": "split"
   },
   "source": [
    "## Smooth everything\n",
    "\n",
    "* Leave extra degrees of freedom in\n",
    "  * Skip static condensation\n",
    "* Approx Braess-Sarazin vs segregated MG vs Vanka vs vertex-star vs BDDC\n",
    "* \"optimal\" asymptotics must be weighted against implementation efficiency"
   ]
  },
  {
   "cell_type": "markdown",
   "metadata": {
    "cell_style": "center",
    "hideCode": true,
    "hidePrompt": true,
    "slideshow": {
     "slide_type": "slide"
    }
   },
   "source": [
    "# Outlook: [petsc.org](https://petsc.org) [libceed.org](https://libceed.org) [ratel.micromorph.org](https://ratel.micromorph.org)"
   ]
  },
  {
   "cell_type": "markdown",
   "metadata": {
    "cell_style": "split",
    "hideCode": true,
    "hidePrompt": true,
    "slideshow": {
     "slide_type": ""
    }
   },
   "source": [
    "* You can move from $Q_1$ to $Q_2$ elements for about 2x cost (despite 8x more DoFs); $p>2$ is free\n",
    "* Mesh to resolve geometry, $p$-refine to pragmatic accuracy (tools!)\n",
    "* libCEED already offers 2x speedup for $Q_1$\n",
    "* Gordon Bell scale from 20 years ago $\\mapsto$ interactive on a workstation (if you can buy MI250X 😊)\n",
    "\n",
    "## Simplifying philosophy\n",
    "* Embrace nonlinearity (hyperelastic, compressible NS, ...) and let the solver converge fast when a simpler model is valid.\n",
    "  * Caveat: when nonlinearity resolves more scales (e.g., RANS vs scale-resolving)\n",
    "* Just embrace unstructured meshes.\n",
    "\n",
    "## Thanks: DOE ECP, DOE ASCR, DOE PSAAP, NSF CISE"
   ]
  },
  {
   "cell_type": "markdown",
   "metadata": {
    "cell_style": "split",
    "hideCode": true,
    "hidePrompt": true,
    "slideshow": {
     "slide_type": ""
    }
   },
   "source": [
    "<video src=\"figures/ratel/schwarz-pendulum.webm\" autoplay loop width=\"60%\" />"
   ]
  },
  {
   "cell_type": "markdown",
   "metadata": {
    "cell_style": "split",
    "hideCode": true,
    "hidePrompt": true,
    "slideshow": {
     "slide_type": ""
    }
   },
   "source": [
    "<video src=\"figures/fluids/ROPI_OutView.webm\" autoplay loop width=\"80%\" />"
   ]
  }
 ],
 "metadata": {
  "celltoolbar": "Slideshow",
  "hide_code_all_hidden": true,
  "kernelspec": {
   "display_name": "Python 3 (ipykernel)",
   "language": "python",
   "name": "python3"
  },
  "language_info": {
   "codemirror_mode": {
    "name": "ipython",
    "version": 3
   },
   "file_extension": ".py",
   "mimetype": "text/x-python",
   "name": "python",
   "nbconvert_exporter": "python",
   "pygments_lexer": "ipython3",
   "version": "3.12.3"
  },
  "rise": {
   "autolaunch": false,
   "controls": false,
   "enable_chalkboard": true,
   "progress": true,
   "slideNumber": false
  }
 },
 "nbformat": 4,
 "nbformat_minor": 4
}
