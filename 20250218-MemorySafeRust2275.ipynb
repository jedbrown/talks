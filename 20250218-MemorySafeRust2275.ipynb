{
 "cells": [
  {
   "cell_type": "markdown",
   "metadata": {
    "cell_style": "center",
    "hideCode": false,
    "hidePrompt": false,
    "slideshow": {
     "slide_type": "slide"
    }
   },
   "source": [
    "# Type and memory safety for 2275\n",
    "\n",
    "## **Jed Brown**, CU Boulder\n",
    "\n",
    "\n",
    "## 2025-02-18"
   ]
  },
  {
   "cell_type": "markdown",
   "metadata": {
    "cell_style": "split",
    "slideshow": {
     "slide_type": "slide"
    }
   },
   "source": [
    "# What does this function do?\n",
    "\n",
    "```c\n",
    "int table[4];\n",
    "bool exists_in_table(int v) {\n",
    "    for (int i = 0; i <= 4; i++) {\n",
    "        if (table[i] == v) return true;\n",
    "    }\n",
    "    return false;\n",
    "}\n",
    "```\n",
    "Compiles and runs cleanly with `-Wall -Wextra -fstack-protector`\n",
    "\n",
    "---\n",
    "* https://godbolt.org/z/64Yxsr31f\n",
    "* https://devblogs.microsoft.com/oldnewthing/20140627-00/?p=633"
   ]
  },
  {
   "cell_type": "markdown",
   "metadata": {
    "cell_style": "split",
    "slideshow": {
     "slide_type": "fragment"
    }
   },
   "source": [
    "```asm\n",
    "exists_in_table:\n",
    "        mov     al, 1\n",
    "        ret\n",
    "```"
   ]
  },
  {
   "cell_type": "markdown",
   "metadata": {
    "cell_style": "center",
    "slideshow": {
     "slide_type": "slide"
    }
   },
   "source": [
    "# What does this program print?"
   ]
  },
  {
   "cell_type": "markdown",
   "metadata": {
    "cell_style": "split",
    "slideshow": {
     "slide_type": ""
    }
   },
   "source": [
    "```c++\n",
    "int main() {\n",
    "    std::vector<int> v {10, 11, 12};\n",
    "    v.pop_back();\n",
    "    int &vref = v[1];\n",
    "    v.push_back(13);\n",
    "    std::cout << vref << std::endl;\n",
    "    return 0;\n",
    "}\n",
    "```\n",
    "\n",
    "---\n",
    "* https://godbolt.org/z/aMs9fTKhG\n",
    "* https://cacm.acm.org/research/safe-systems-programming-in-rust/"
   ]
  },
  {
   "cell_type": "markdown",
   "metadata": {
    "cell_style": "split",
    "slideshow": {
     "slide_type": "fragment"
    }
   },
   "source": [
    "```\n",
    "11\n",
    "```"
   ]
  },
  {
   "cell_type": "markdown",
   "metadata": {
    "cell_style": "split"
   },
   "source": [
    "## Comment `v.pop_back()`\n",
    "\n",
    "```\n",
    "5\n",
    "```\n",
    "(or **anything**)"
   ]
  },
  {
   "cell_type": "markdown",
   "metadata": {
    "slideshow": {
     "slide_type": "slide"
    }
   },
   "source": [
    "# Undefined Behavior (UB) is painful and costly"
   ]
  },
  {
   "cell_type": "markdown",
   "metadata": {
    "cell_style": "split",
    "slideshow": {
     "slide_type": ""
    }
   },
   "source": [
    "* UB is masked by abstraction\n",
    "  * You're never looking at the whole context\n",
    "* Debug/print statements can mask UB\n",
    "* Reliably avoiding UB in code review and CI is intractible\n",
    "  * tools help with some forms, but lack of detection is not lack of UB\n",
    "* It's hard for new developers to \"learn\" the paranoia that seasoned developers have\n",
    "  * Part of being burned is learning the arcane tools to debug\n",
    "  * Even experts make these mistakes\n",
    "* The cognitive load is a tax on your critical and creative thinking"
   ]
  },
  {
   "cell_type": "markdown",
   "metadata": {
    "cell_style": "split"
   },
   "source": [
    "<img src=\"https://blogger.googleusercontent.com/img/b/R29vZ2xl/AVvXsEhQt1XoSwUrAiUmN6tbntYLZ-IsBBV-e2aAKIKJJcavncM9t6IwD4LVlse0OSiA5ecs52_wkiaUml_9MoncUNOU8wxajv3dPonrtVlV31TJW6bKBs6mPNec7jb12rX18VRI0VwhETljd2QEp0kQ4oFQZBNq0pwoH-EedxhThqfwD73s0dqZALf_nGPkPMdK/s1600/graph.png\" width=\"90%\" />\n",
    "\n",
    "[Google Project Zero](https://security.googleblog.com/2024/11/retrofitting-spatial-safety-to-hundreds.html) analysis of CVE exploits, attributed by class of memory safety bug:\n",
    "* **spatial**: out-of-bounds indexing\n",
    "* **temporal**: use-after-free\n",
    "* **type**: invalid conversion (e.g., `bool` or `enum`)\n",
    "* **initialization**: uninitialized variables/memory\n",
    "* **data-race**: threads, devices, signal handler"
   ]
  },
  {
   "cell_type": "markdown",
   "metadata": {
    "cell_style": "split",
    "slideshow": {
     "slide_type": "slide"
    }
   },
   "source": [
    "<a href=\"https://media.defense.gov/2023/Dec/06/2003352724/-1/-1/0/THE-CASE-FOR-MEMORY-SAFE-ROADMAPS-TLP-CLEAR.PDF\"><img src=\"figures/rust/case-for-memory-safe-roadmaps.png\" width=\"90%\" /></a>"
   ]
  },
  {
   "cell_type": "markdown",
   "metadata": {
    "cell_style": "split",
    "slideshow": {
     "slide_type": ""
    }
   },
   "source": [
    "## CISA: [Product Security Bad Practices](https://www.cisa.gov/resources-tools/resources/product-security-bad-practices)\n",
    "\n",
    "> The development of new product lines for use in service of critical infrastructure or NCFs **in a memory-unsafe language (e.g., C or C++)** where readily available alternative memory-safe languages could be used **is dangerous and significantly elevates risk to national security, national economic security, and national public health and safety**.\n",
    "\n",
    "### CISA: [Secure by Design](https://www.cisa.gov/securebydesign)\n",
    "\n",
    "> **Prioritize the use of memory safe languages wherever possible.** [...] Some examples of modern memory safe languages include C#, Rust, Ruby, Java, Go, and Swift.\n"
   ]
  },
  {
   "cell_type": "markdown",
   "metadata": {
    "slideshow": {
     "slide_type": "slide"
    }
   },
   "source": [
    "# Google"
   ]
  },
  {
   "cell_type": "markdown",
   "metadata": {
    "cell_style": "split",
    "slideshow": {
     "slide_type": ""
    }
   },
   "source": [
    "## [Secure by Design: Google's Perspective on Memory Safety](https://research.google/pubs/secure-by-design-googles-perspective-on-memory-safety/) (2024)\n",
    "> We see no realistic path for an evolution of C++ into a language with rigorous memory safety guarantees that include temporal safety. As a consequence, we are considering a gradual transition of C++ code at Google towards other languages that are memory safe.\n",
    "\n",
    "> Rust is the only mature, production-ready language that provides temporal safety without run-time mechanisms such as garbage collection or universally-applied refcounting, for large\n",
    "classes of code."
   ]
  },
  {
   "cell_type": "markdown",
   "metadata": {
    "cell_style": "split"
   },
   "source": [
    "## [Safer with Google: Advancing Memory Safety](https://security.googleblog.com/2024/10/safer-with-google-advancing-memory.html) (2024)\n",
    "\n",
    "<img src=\"https://blogger.googleusercontent.com/img/b/R29vZ2xl/AVvXsEiSRbsz3UFa32nAEek2cEOIN-IM5XN6df3vibnuP7nmzJoYLMAfkHgjlAcbCbjGmV0THU_CMtP9vgs3EHHe7zwRqeuXbQoxA_EGrqDMLDRJShnakXuMxesVqDJaq2xPWcpyqCcRpvW3-ZWJiZu2LXtyEs23CvI4jOBkw89T1iSVWHl-j4OYMsC0EN0E4dFh/s600/memory%20safety%20graphic.png\" width=\"100%\" />"
   ]
  },
  {
   "cell_type": "markdown",
   "metadata": {
    "slideshow": {
     "slide_type": "slide"
    }
   },
   "source": [
    "# Microsoft"
   ]
  },
  {
   "cell_type": "markdown",
   "metadata": {
    "cell_style": "split"
   },
   "source": [
    "## [Microsoft Azure CTO](https://www.theregister.com/2022/09/20/rust_microsoft_c/) (2022)\n",
    "\n",
    "> Speaking of languages, it's time to **halt starting any new projects in C/C++ and use Rust** for those scenarios where a non-garbage collected language is required. [...] For the sake of security and reliability, the industry should declare those languages as deprecated."
   ]
  },
  {
   "cell_type": "markdown",
   "metadata": {
    "cell_style": "split"
   },
   "source": [
    "* Rust [is used](https://www.theregister.com/2024/11/04/windows_11_market_share/) in the Windows kernel 24H2\n",
    "* DWriteCore (text analysis, layout, rendering) is [mostly Rust](https://www.theregister.com/2023/04/27/microsoft_windows_rust/); similar for Windows graphics device interface (GDI)\n",
    "* [Rust for Windows](https://learn.microsoft.com/en-us/windows/dev-environment/rust/rust-for-windows) is officially supported by Microsoft\n",
    "* [Several](https://github.com/omarabid/rust-companies) Azure services"
   ]
  },
  {
   "cell_type": "markdown",
   "metadata": {
    "cell_style": "split",
    "slideshow": {
     "slide_type": "slide"
    }
   },
   "source": [
    "# Broad industry use\n",
    "\n",
    "## Amazon/AWS\n",
    "* Core language activities and leadership\n",
    "* [Formal verification](https://aws.amazon.com/blogs/opensource/verify-the-safety-of-the-rust-standard-library/) of the Rust Standard Library\n",
    "* Core products substantially or entirely [written in Rust](https://aws.amazon.com/blogs/devops/why-aws-is-the-best-place-to-run-rust/): S3, CloudFront, EC2, Nitro System, Lambda\n",
    "  \n",
    "## [Safety-critical systems](https://ferrocene.dev/en/)\n",
    "\n",
    "<img src=\"https://ferrocene.dev/media/images/logo.svg\" width=\"60%\" />\n",
    "\n",
    "* ISO26262 (ASIL D), IEC 61508 (SIL 4) and IEC 62304\n",
    "* [Volvo](https://corrode.dev/podcast/s03e08-volvo/) and other automotive"
   ]
  },
  {
   "cell_type": "markdown",
   "metadata": {
    "cell_style": "split"
   },
   "source": [
    "<img src=\"figures/rust/rust-foundation-members.png\" width=\"100%\" />\n",
    "\n",
    "* Cloudflare, Hugging Face, Linux kernel, Discord, Mozilla"
   ]
  },
  {
   "cell_type": "markdown",
   "metadata": {
    "slideshow": {
     "slide_type": "slide"
    }
   },
   "source": [
    "# Rust: a type-safe systems language"
   ]
  },
  {
   "cell_type": "markdown",
   "metadata": {
    "cell_style": "split"
   },
   "source": [
    "```rust\n",
    "fn main() {\n",
    "    let mut v = vec![10, 11, 12];\n",
    "    let vref = &v[1];\n",
    "    v.push(13);\n",
    "    println!(\"{}\", *vref);\n",
    "}\n",
    " ```"
   ]
  },
  {
   "cell_type": "markdown",
   "metadata": {
    "cell_style": "split"
   },
   "source": [
    "**Type-safe/memory-safe**: cannot create undefined behavior without using the `unsafe` keyword\n",
    "\n",
    "**Near-zero cost**: most safety enforced at compile-time; some dynamic checks (often optimized out)\n",
    "\n",
    "**Expressive, low-level control**: unboxed, space-efficient, ergonomic"
   ]
  },
  {
   "cell_type": "markdown",
   "metadata": {
    "cell_style": "center",
    "slideshow": {
     "slide_type": "fragment"
    }
   },
   "source": [
    "<pre><font color=\"#F66151\"><b>error[E0502]</b></font><b>: cannot borrow `v` as mutable because it is also borrowed as immutable</b>\n",
    " <font color=\"#2A7BDE\"><b>--&gt; </b></font>src/main.rs:4:5\n",
    "  <font color=\"#2A7BDE\"><b>|</b></font>\n",
    "<font color=\"#2A7BDE\"><b>3</b></font> <font color=\"#2A7BDE\"><b>|</b></font>     let vref = &amp;v[1];\n",
    "  <font color=\"#2A7BDE\"><b>|</b></font>                 <font color=\"#2A7BDE\"><b>-</b></font> <font color=\"#2A7BDE\"><b>immutable borrow occurs here</b></font>\n",
    "<font color=\"#2A7BDE\"><b>4</b></font> <font color=\"#2A7BDE\"><b>|</b></font>     v.push(13);\n",
    "  <font color=\"#2A7BDE\"><b>|</b></font>     <font color=\"#F66151\"><b>^^^^^^^^^^</b></font> <font color=\"#F66151\"><b>mutable borrow occurs here</b></font>\n",
    "<font color=\"#2A7BDE\"><b>5</b></font> <font color=\"#2A7BDE\"><b>|</b></font>     println!(&quot;{}&quot;, *vref);\n",
    "  <font color=\"#2A7BDE\"><b>|</b></font>                    <font color=\"#2A7BDE\"><b>-----</b></font> <font color=\"#2A7BDE\"><b>immutable borrow later used here</b></font>\n",
    "\n",
    "<b>For more information about this error, try `rustc --explain E0502`.</b></pre>"
   ]
  },
  {
   "cell_type": "markdown",
   "metadata": {
    "cell_style": "center",
    "slideshow": {
     "slide_type": "slide"
    }
   },
   "source": [
    "# Rust ecosystem"
   ]
  },
  {
   "cell_type": "markdown",
   "metadata": {
    "cell_style": "split"
   },
   "source": [
    "## rustup\n",
    "Cross-platform toolchain management\n",
    "\n",
    "## Cargo\n",
    "\n",
    "* `cargo run` (and `build`, `test`, etc)\n",
    "* `Cargo.toml`\n",
    "```toml\n",
    "[dependencies]\n",
    "mpi = { version = \"0.8.0\", features = [\"derive\"] }\n",
    "```\n",
    "* Parallel across your dependency graph\n",
    "* `cargo publish` to [crates.io](https://crates.io)"
   ]
  },
  {
   "cell_type": "markdown",
   "metadata": {
    "cell_style": "split"
   },
   "source": [
    "## rust-analyzer\n",
    "\n",
    "IDE integration, works for any project without setup steps\n",
    "\n",
    "## rustdoc\n",
    "\n",
    "Cross-referenced documentation including doctests; [docs.rs](https://docs.rs) integrated with [crates.io](https://crates.io)\n",
    "\n",
    "## test\n",
    "\n",
    "Unit testing, doctests, integration tests, custom test harnesses, editor integration.\n",
    "\n",
    "## built-in cross-compilation"
   ]
  },
  {
   "cell_type": "markdown",
   "metadata": {
    "cell_style": "center",
    "slideshow": {
     "slide_type": "slide"
    }
   },
   "source": [
    "# Quality diagnostics"
   ]
  },
  {
   "cell_type": "markdown",
   "metadata": {
    "cell_style": "split"
   },
   "source": [
    "<img src=\"figures/rust/gankra-ekuber.jpg\" width=\"100%\" />"
   ]
  },
  {
   "cell_type": "markdown",
   "metadata": {
    "cell_style": "split"
   },
   "source": [
    "* This ethos permeates the ecosystem and is a central factor in language evolution\n",
    "\n",
    "<!-- ## [Stability without stagnation](https://doc.rust-lang.org/book/appendix-07-nightly-rust.html)\n",
    "\n",
    "Experimental features are available only on `nightly`, not the `stable` release channel. -->\n",
    "\n",
    "## [MIRI](https://github.com/rust-lang/miri): An interpreter for Rust's mid-level intermediate representation\n",
    "\n",
    "* `cargo miri run`\n",
    "* Detects and explains when `unsafe` code leads to UB\n",
    "* Much more capable than valgrind, stack protector, address sanitizer"
   ]
  }
 ],
 "metadata": {
  "@webio": {
   "lastCommId": null,
   "lastKernelId": null
  },
  "celltoolbar": "Slideshow",
  "hide_code_all_hidden": true,
  "kernelspec": {
   "display_name": "Python 3 (ipykernel)",
   "language": "python",
   "name": "python3"
  },
  "language_info": {
   "codemirror_mode": {
    "name": "ipython",
    "version": 3
   },
   "file_extension": ".py",
   "mimetype": "text/x-python",
   "name": "python",
   "nbconvert_exporter": "python",
   "pygments_lexer": "ipython3",
   "version": "3.13.1"
  },
  "rise": {
   "autolaunch": false,
   "controls": false,
   "enable_chalkboard": true,
   "progress": true,
   "slideNumber": false
  }
 },
 "nbformat": 4,
 "nbformat_minor": 4
}
