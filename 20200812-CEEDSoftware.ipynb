{
 "cells": [
  {
   "cell_type": "markdown",
   "metadata": {
    "cell_style": "center",
    "hideCode": true,
    "hidePrompt": true,
    "slideshow": {
     "slide_type": ""
    }
   },
   "source": [
    "# CEED Software Thrust and libCEED\n",
    "## Jed Brown (CU Boulder)\n",
    "* CU Boulder: Jeremy Thompson, Valeria Barra, Leila Ghaffari\n",
    "* LLNL: Yohann Dudouit, Jean-Sylvain Camier, Veselin Dobrev, Tzanio Kolev, David Medina\n",
    "* UTK: Natalie Beams, Ahmad Abdelfattah, Stan Tomov\n",
    "* ANL: Misun Min, Oana Marin\n",
    "* UIUC: Thilina Rathnayake, Paul Fischer\n",
    "\n",
    "## CEED Annual Meeting, 2020-08-12"
   ]
  },
  {
   "cell_type": "markdown",
   "metadata": {
    "hideCode": true,
    "hidePrompt": true,
    "slideshow": {
     "slide_type": "slide"
    }
   },
   "source": [
    "# [CEED-3.0 Release](https://ceed.exascaleproject.org/ceed-3.0/) (March)\n",
    "\n",
    "```bash\n",
    "$ spack install ceed\n",
    "$ docker run -it --rm jedbrown/ceed\n",
    "$ singularity run docker://jedbrown/ceed\n",
    "```"
   ]
  },
  {
   "cell_type": "markdown",
   "metadata": {
    "cell_style": "split",
    "hideCode": true,
    "hidePrompt": true,
    "slideshow": {
     "slide_type": "-"
    }
   },
   "source": [
    "* GSLIB-1.0.6\n",
    "* libCEED-0.6\n",
    "* MAGMA-2.5.3\n",
    "* MFEM-4.1\n",
    "  * Laghos-3.0\n",
    "  * Remhos-1.0\n",
    "* OCCA-1.0.9"
   ]
  },
  {
   "cell_type": "markdown",
   "metadata": {
    "cell_style": "split",
    "hideCode": true,
    "hidePrompt": true
   },
   "source": [
    "* Nek\n",
    "  * Nek5000-19.0\n",
    "  * Nekbone-17.0\n",
    "  * NekCEM-c8db04b\n",
    "* PETSc-3.13\n",
    "* PUMI-2.2.2\n"
   ]
  },
  {
   "cell_type": "markdown",
   "metadata": {
    "hideCode": true,
    "hidePrompt": true,
    "slideshow": {
     "slide_type": "slide"
    }
   },
   "source": [
    "## [libCEED](https://libceed.readthedocs.io): A FEM library with no FEM (purely algebraic)"
   ]
  },
  {
   "cell_type": "markdown",
   "metadata": {
    "cell_style": "split",
    "hideCode": true,
    "hidePrompt": true,
    "slideshow": {
     "slide_type": ""
    }
   },
   "source": [
    "* Backend plugins with run-time selection\n",
    "  * debug/memcheck, optimized\n",
    "  * libxsmm, CUDA, HIP\n",
    "  * MAGMA to CUDA and HIP\n",
    "  * OCCA to OpenMP, OpenCL, CUDA, and HIP\n",
    "* Single source vanilla C for QFunctions\n",
    "  * Easy to debug, understand locally, C++ optional\n",
    "  * Target for DSLs, AD\n",
    "* 2-clause BSD, Python interface\n",
    "* Available via MFEM, PETSc, Nek5000"
   ]
  },
  {
   "cell_type": "markdown",
   "metadata": {
    "cell_style": "split",
    "hideCode": true,
    "hidePrompt": true,
    "slideshow": {
     "slide_type": ""
    }
   },
   "source": [
    "<img src=\"figures/ceed/libceed-backends.svg\" />"
   ]
  },
  {
   "cell_type": "markdown",
   "metadata": {
    "cell_style": "split",
    "hideCode": true,
    "hidePrompt": true,
    "slideshow": {
     "slide_type": ""
    }
   },
   "source": [
    "Thanks to many developers, including Jeremy Thompson, Yohann Dudouit, Valeria Barra, Natalie Beams,  Ahmad Abdelfattah, Leila Ghaffari, Tzanio Kolev, Veselin Dobrev, David Medina"
   ]
  },
  {
   "cell_type": "markdown",
   "metadata": {
    "hideCode": true,
    "hidePrompt": true,
    "slideshow": {
     "slide_type": "slide"
    }
   },
   "source": [
    "## libCEED development\n",
    "\n",
    "![](figures/ceed/libceed-badges.png)"
   ]
  },
  {
   "cell_type": "markdown",
   "metadata": {
    "cell_style": "split",
    "hideCode": true,
    "hidePrompt": true
   },
   "source": [
    "* [v0.6 (March)](https://libceed.readthedocs.io/en/latest/releasenotes/#v0-6-mar-29-2020)\n",
    "  * <a href=\"https://doi.org/10.25080/Majora-342d178e-00c\">Python interface (SciPy 2020)</a>\n",
    "  * Diagonal assembly and FDM solvers\n",
    "  * MAGMA performance improvement\n",
    "  * Many examples: BPs on the sphere, $p$-MG for BPs, compressible fluids solver, $p$-MG for hyperelasticity\n",
    "  \n"
   ]
  },
  {
   "cell_type": "markdown",
   "metadata": {
    "cell_style": "split",
    "hideCode": true,
    "hidePrompt": true,
    "slideshow": {
     "slide_type": ""
    }
   },
   "source": [
    "<img src=\"figures/ceed/libceed-sunburst.svg\" width=\"40%\" />\n",
    "CI: OSX, Linux (x86-64, POWER, ARM64, HIP)\n",
    "\n",
    "* [v0.7 (soon)](https://libceed.readthedocs.io/en/latest/releasenotes/#current-main)\n",
    "  * Point-block diagonal and GPU\n",
    "  * HIP backend, OCCA refactor\n",
    "  * Examples"
   ]
  },
  {
   "cell_type": "markdown",
   "metadata": {
    "hideCode": true,
    "hidePrompt": true,
    "slideshow": {
     "slide_type": "slide"
    }
   },
   "source": [
    "<img src=\"figures/ceed/libCEED-2.png\" width=100% />\n"
   ]
  },
  {
   "cell_type": "markdown",
   "metadata": {
    "hideCode": true,
    "hidePrompt": true,
    "slideshow": {
     "slide_type": "slide"
    }
   },
   "source": [
    "## Quadrature functions: the math\n",
    "\n",
    "\\begin{gather*}\n",
    "    v^T F(u) \\sim \\int_\\Omega v \\cdot \\color{olive}{f_0(u, \\nabla u)} + \\nabla v \\!:\\! \\color{olive}{f_1(u, \\nabla u)} \\quad\n",
    "    v^T J w \\sim \\int_\\Omega \\begin{bmatrix} v \\\\ \\nabla v \\end{bmatrix}^T \\color{teal}{\\begin{bmatrix} f_{0,0} & f_{0,1} \\\\ f_{1,0} & f_{1,1} \\end{bmatrix}}\n",
    "    \\begin{bmatrix} w \\\\ \\nabla w \\end{bmatrix} \\\\\n",
    "    u = B_I \\mathcal E_e u_L \\qquad \\nabla u = \\frac{\\partial X}{\\partial x} B_{\\nabla} \\mathcal E_e u_L \\\\\n",
    "    J w = \\sum_e \\mathcal E_e^T \\begin{bmatrix} B_I \\\\ B_{\\nabla} \\end{bmatrix}^T\n",
    "    \\underbrace{\\begin{bmatrix} I & \\\\ & \\left( \\frac{\\partial X}{\\partial x}\\right)^T \\end{bmatrix} W_q \\color{teal}{\\begin{bmatrix} f_{0,0} & f_{0,1} \\\\ f_{1,0} & f_{1,1} \\end{bmatrix}} \\begin{bmatrix} I & \\\\ & \\left( \\frac{\\partial X}{\\partial x}\\right) \\end{bmatrix}}_{\\text{coefficients at quadrature points}} \\begin{bmatrix} B_I \\\\ B_{\\nabla} \\end{bmatrix} \\mathcal E_e w_L\n",
    "\\end{gather*}\n",
    "  \n",
    "* $B_I$ and $B_\\nabla$ are tensor contractions -- independent of element geometry\n",
    "* Choice of how to order and represent gathers $\\mathcal E$ and scatters $\\mathcal E^T$\n",
    "* Similar for Neumann/Robin and nonlinear boundary conditions"
   ]
  },
  {
   "cell_type": "markdown",
   "metadata": {
    "hideCode": true,
    "hidePrompt": true,
    "slideshow": {
     "slide_type": "slide"
    }
   },
   "source": [
    "## Quadrature functions: debuggable, vectorizable, and JITable\n",
    "\n",
    "* Independent operations at each of `Q` quadrature points, order unspecified\n",
    "\n",
    "```c\n",
    "int L2residual(void *ctx, CeedInt Q,\n",
    "    const CeedScalar *const in[], CeedScalar *const out[]) {\n",
    "  const CeedScalar *u = in[0], *rho = in[1], *target = in[2];\n",
    "  CeedScalar *v = out[0];\n",
    "  for (CeedInt i=0; i<Q; i++)\n",
    "    v[i] = rho[i] * (u[i] - target[i]);\n",
    "  return 0;\n",
    "}\n",
    "```\n",
    "```c\n",
    "CeedQFunctionAddInput(qf, \"u\", 1, CEED_EVAL_INTERP);\n",
    "CeedQFunctionAddInput(qf, \"rho\", 1, CEED_EVAL_INTERP);\n",
    "CeedQFunctionAddInput(qf, \"target\", 1, CEED_EVAL_INTERP);\n",
    "CeedQFunctionAddOutput(qf, \"v\", 1, CEED_EVAL_INTERP);\n",
    "```"
   ]
  },
  {
   "cell_type": "markdown",
   "metadata": {
    "hideCode": true,
    "hidePrompt": true,
    "slideshow": {
     "slide_type": "slide"
    }
   },
   "source": [
    "## Building Operators from QFunctions\n",
    "\n",
    "* `Operator` $A_{\\text{local}} = \\mathcal E^T B^T D B \\mathcal E$\n",
    "  * `ElemRestriction` $\\mathcal E$\n",
    "  * `Basis` $B$\n",
    "  * `QFunction` $D$\n",
    "* `CeedCompositeOperatorCreate` sums multiple operators\n",
    "  * Different polynomial degree, element topology, physical process\n",
    "* Distributed parallelism handled external to libCEED (MFEM, PETSc, etc.)\n",
    "  * $A = \\mathcal P^T A_{\\text{local}} \\mathcal P$\n",
    "  * Flexible for mixed CPU/GPU programming, load balancing"
   ]
  },
  {
   "cell_type": "markdown",
   "metadata": {
    "hideCode": true,
    "hidePrompt": true,
    "slideshow": {
     "slide_type": "slide"
    }
   },
   "source": [
    "## GPU support\n",
    "\n",
    "* Resources: `/gpu/cuda/{ref,reg,shared,gen}` `/gpu/hip/ref`\n",
    "`/gpu/occa/{cuda,opencl,hip}` `/gpu/magma`\n",
    "* Fastest implementations use atomics; some backends are [deterministic](https://libceed.readthedocs.io/en/latest/gettingstarted/#backends)\n",
    "\n",
    "### Using host memory\n",
    "```c\n",
    "PetscScalar *y;\n",
    "VecGetArray(Ypetsc, &y); // writable host pointer\n",
    "CeedVectorSetArray(Yceed, CEED_MEM_HOST, CEED_USE_POINTER, y);\n",
    "CeedOperatorApply(op, Xceed, Yceed, CEED_REQUEST_IMMEDIATE);\n",
    "```\n",
    "### Without device transfers\n",
    "```c\n",
    "VecGetArrayInPlace(Ypetsc, &y); // host, CUDA, HIP\n",
    "CeedVectorSetArray(Yceed, memtype, CEED_USE_POINTER, y);\n",
    "```"
   ]
  },
  {
   "cell_type": "markdown",
   "metadata": {
    "hideCode": true,
    "hidePrompt": true,
    "slideshow": {
     "slide_type": "slide"
    }
   },
   "source": [
    "## libCEED mini-apps"
   ]
  },
  {
   "cell_type": "markdown",
   "metadata": {
    "cell_style": "split",
    "hideCode": true,
    "hidePrompt": true
   },
   "source": [
    "### [Compressible fluids](https://libceed.readthedocs.io/en/latest/examples/fluids/)\n",
    "\n",
    "* SUPG, implicit/IMEX time integration\n",
    "* Working on CFD challenge\n",
    "\n",
    "<img src=\"figures/ceed/CFDChallenge-WindTunnel.png\" />"
   ]
  },
  {
   "cell_type": "markdown",
   "metadata": {
    "cell_style": "split",
    "hideCode": true,
    "hidePrompt": true
   },
   "source": [
    "### [Hyperelastic solids](https://libceed.readthedocs.io/en/latest/examples/solids/)\n",
    "\n",
    "* $p$-multigrid, low-memory repr of matrix-free Jacobian\n",
    "\n",
    "<img src=\"figures/ceed/libceed-solids-twist.gif\" />"
   ]
  },
  {
   "cell_type": "markdown",
   "metadata": {
    "cell_style": "center",
    "hideCode": true,
    "hidePrompt": true,
    "slideshow": {
     "slide_type": "slide"
    }
   },
   "source": [
    "## Apps beyond ECP: PyLith\n",
    "\n",
    "* Quasi-static and dynamic rupture\n",
    "* Rate and state fault models; extensible using Python, large user community (CIG)"
   ]
  },
  {
   "cell_type": "code",
   "execution_count": 1,
   "metadata": {
    "hideCode": true,
    "hidePrompt": true
   },
   "outputs": [
    {
     "data": {
      "text/html": [
       "<video src=\"figures/pylith-sf1906plan_hd.mp4\" controls  >\n",
       "      Your browser does not support the <code>video</code> element.\n",
       "    </video>"
      ],
      "text/plain": [
       "<IPython.core.display.Video object>"
      ]
     },
     "execution_count": 1,
     "metadata": {},
     "output_type": "execute_result"
    }
   ],
   "source": [
    "from IPython.display import Video\n",
    "\n",
    "Video(\"figures/pylith-sf1906plan_hd.mp4\")"
   ]
  },
  {
   "cell_type": "markdown",
   "metadata": {
    "cell_style": "center",
    "hideCode": true,
    "hidePrompt": true,
    "slideshow": {
     "slide_type": "slide"
    }
   },
   "source": [
    "## Apps beyond ECP: PHASTA\n",
    "\n",
    "* Highly scalable unstructured DDES (flow control, cardiovascular flow); in-situ visualization\n",
    "\n",
    "<img src=\"figures/Boeing_A2_isoQspeed2_lowRes.png\" width=\"90%\" />"
   ]
  },
  {
   "cell_type": "markdown",
   "metadata": {
    "hideCode": true,
    "hidePrompt": true,
    "slideshow": {
     "slide_type": "slide"
    }
   },
   "source": [
    "## PSAAP: Micromorphic and grain-resolving composite inelasticity\n",
    "\n",
    "<img src=\"figures/micromorph/workflow.png\" />"
   ]
  },
  {
   "cell_type": "markdown",
   "metadata": {
    "cell_style": "center",
    "hideCode": true,
    "hidePrompt": true,
    "slideshow": {
     "slide_type": "slide"
    }
   },
   "source": [
    "# The future is all GPU, they said"
   ]
  },
  {
   "cell_type": "markdown",
   "metadata": {
    "cell_style": "split",
    "hideCode": true,
    "hidePrompt": true,
    "slideshow": {
     "slide_type": ""
    }
   },
   "source": [
    "<blockquote class=\"twitter-tweet\"><p lang=\"en\" dir=\"ltr\"><a href=\"https://twitter.com/hashtag/Fugaku?src=hash&amp;ref_src=twsrc%5Etfw\">#Fugaku</a> has become No.1 in all the supercomputer performance benchmarks, <a href=\"https://twitter.com/hashtag/Top500?src=hash&amp;ref_src=twsrc%5Etfw\">#Top500</a>, <a href=\"https://twitter.com/hashtag/HPCG?src=hash&amp;ref_src=twsrc%5Etfw\">#HPCG</a>, HPL-AI, and the <a href=\"https://twitter.com/hashtag/Graph500?src=hash&amp;ref_src=twsrc%5Etfw\">#Graph500</a> for the first time in history as a single machine simultaneously. Thanks for putting up the list! <a href=\"https://t.co/iM1o0gjrtZ\">https://t.co/iM1o0gjrtZ</a></p>&mdash; Satoshi Matsuoka (@ProfMatsuoka) <a href=\"https://twitter.com/ProfMatsuoka/status/1275085055354974210?ref_src=twsrc%5Etfw\">June 22, 2020</a></blockquote> <script async src=\"https://platform.twitter.com/widgets.js\" charset=\"utf-8\"></script> \n",
    "\n",
    "* #1 in Green500 in Nov 2019, now #4."
   ]
  },
  {
   "cell_type": "markdown",
   "metadata": {
    "cell_style": "split",
    "hideCode": true,
    "hidePrompt": true,
    "slideshow": {
     "slide_type": ""
    }
   },
   "source": [
    "![](figures/hardware/fugaku.png)"
   ]
  },
  {
   "cell_type": "markdown",
   "metadata": {
    "hideCode": true,
    "hidePrompt": true,
    "slideshow": {
     "slide_type": "slide"
    }
   },
   "source": [
    "![](figures/acme/acme-sypd-2014.png)"
   ]
  },
  {
   "cell_type": "markdown",
   "metadata": {
    "hideCode": true,
    "hidePrompt": true,
    "slideshow": {
     "slide_type": "slide"
    }
   },
   "source": [
    "### \"No DOE facility through 2020 will run ACME faster than Edison\" -- 2013\n",
    "\n",
    "![Bertagna et al (2019)](figures/acme/Bertagna2019-HOMME.png)\n",
    "Bertagna et al (2019)"
   ]
  },
  {
   "cell_type": "markdown",
   "metadata": {
    "hideCode": true,
    "hidePrompt": true,
    "slideshow": {
     "slide_type": "slide"
    }
   },
   "source": [
    "# Latency and throughput are different\n",
    "\n",
    "<img src=\"figures/Kronbichler-fig4-crop.png\" width=\"60%\" />\n",
    "Adapted from Kronbichler and Ljungkvist (2019)"
   ]
  },
  {
   "cell_type": "markdown",
   "metadata": {
    "hideCode": true,
    "hidePrompt": true,
    "slideshow": {
     "slide_type": "slide"
    }
   },
   "source": [
    "## Fuhrer at al (2018): Near-global climate simulation at 1 km\n",
    "\n",
    "<img src=\"figures/fuhrer2018-scaling-nodes.png\" width=\"75%\" />"
   ]
  },
  {
   "cell_type": "markdown",
   "metadata": {
    "hideCode": true,
    "hidePrompt": true,
    "slideshow": {
     "slide_type": "slide"
    }
   },
   "source": [
    "## Fuhrer at al (2018): Near-global climate simulation at 1 km\n",
    "\n",
    "<img src=\"figures/fuhrer2018-scaling-time-ann1.png\" width=\"75%\" />"
   ]
  },
  {
   "cell_type": "markdown",
   "metadata": {
    "hideCode": true,
    "hidePrompt": true,
    "slideshow": {
     "slide_type": "slide"
    }
   },
   "source": [
    "## Fuhrer at al (2018): Near-global climate simulation at 1 km\n",
    "\n",
    "<img src=\"figures/fuhrer2018-scaling-time-ann4.png\" width=\"75%\" />"
   ]
  },
  {
   "cell_type": "markdown",
   "metadata": {
    "hideCode": true,
    "hidePrompt": true,
    "slideshow": {
     "slide_type": "slide"
    }
   },
   "source": [
    "# A pareto approach to capability"
   ]
  },
  {
   "cell_type": "markdown",
   "metadata": {
    "cell_style": "split",
    "hideCode": true,
    "hidePrompt": true,
    "slideshow": {
     "slide_type": ""
    }
   },
   "source": [
    "* Model complexity (physical scales, stochasticity)\n",
    "* Accuracy/fidelity (V\\&V, reliability, decisions)\n",
    "* Time (execution time, total workflow time)\n",
    "* Execution cost (node hours, joules, $, £)\n",
    "* Human cost (training, cognitive load, community)"
   ]
  },
  {
   "cell_type": "markdown",
   "metadata": {
    "cell_style": "split",
    "hideCode": true,
    "hidePrompt": true
   },
   "source": [
    "![](https://upload.wikimedia.org/wikipedia/commons/thumb/b/b7/Front_pareto.svg/2560px-Front_pareto.svg.png)"
   ]
  },
  {
   "cell_type": "markdown",
   "metadata": {
    "hideCode": true,
    "hidePrompt": true,
    "slideshow": {
     "slide_type": "slide"
    }
   },
   "source": [
    "# Better plotting: $E(n)$ versus $t(n)$"
   ]
  },
  {
   "cell_type": "code",
   "execution_count": 2,
   "metadata": {
    "hideCode": true,
    "hideOutput": false,
    "hidePrompt": true,
    "slideshow": {
     "slide_type": ""
    }
   },
   "outputs": [
    {
     "data": {
      "text/html": [
       "\n",
       "<div id=\"altair-viz-1\"></div>\n",
       "<script type=\"text/javascript\">\n",
       "  (function(spec, embedOpt){\n",
       "    const outputDiv = document.getElementById(\"altair-viz-1\");\n",
       "    const paths = {\n",
       "      \"vega\": \"https://cdn.jsdelivr.net/npm//vega@5?noext\",\n",
       "      \"vega-lib\": \"https://cdn.jsdelivr.net/npm//vega-lib?noext\",\n",
       "      \"vega-lite\": \"https://cdn.jsdelivr.net/npm//vega-lite@4.0.0?noext\",\n",
       "      \"vega-embed\": \"https://cdn.jsdelivr.net/npm//vega-embed@6?noext\",\n",
       "    };\n",
       "\n",
       "    function loadScript(lib) {\n",
       "      return new Promise(function(resolve, reject) {\n",
       "        var s = document.createElement('script');\n",
       "        s.src = paths[lib];\n",
       "        s.async = true;\n",
       "        s.onload = () => resolve(paths[lib]);\n",
       "        s.onerror = () => reject(`Error loading script: ${paths[lib]}`);\n",
       "        document.getElementsByTagName(\"head\")[0].appendChild(s);\n",
       "      });\n",
       "    }\n",
       "\n",
       "    function showError(err) {\n",
       "      outputDiv.innerHTML = `<div class=\"error\" style=\"color:red;\">${err}</div>`;\n",
       "      throw err;\n",
       "    }\n",
       "\n",
       "    function displayChart(vegaEmbed) {\n",
       "      vegaEmbed(outputDiv, spec, embedOpt)\n",
       "        .catch(err => showError(`Javascript Error: ${err.message}<br>This usually means there's a typo in your chart specification. See the javascript console for the full traceback.`));\n",
       "    }\n",
       "\n",
       "    if(typeof define === \"function\" && define.amd) {\n",
       "      requirejs.config({paths});\n",
       "      require([\"vega-embed\"], displayChart, err => showError(`Error loading script: ${err.message}`));\n",
       "    } else if (typeof vegaEmbed === \"function\") {\n",
       "      displayChart(vegaEmbed);\n",
       "    } else {\n",
       "      loadScript(\"vega\")\n",
       "        .then(() => loadScript(\"vega-lite\"))\n",
       "        .then(() => loadScript(\"vega-embed\"))\n",
       "        .catch(showError)\n",
       "        .then(() => displayChart(vegaEmbed));\n",
       "    }\n",
       "  })({\"config\": {\"view\": {\"continuousWidth\": 400, \"continuousHeight\": 300}}, \"hconcat\": [{\"mark\": \"point\", \"encoding\": {\"shape\": {\"type\": \"nominal\", \"field\": \"bp\"}, \"y\": {\"type\": \"nominal\", \"field\": \"bp\", \"title\": \"BP\"}}, \"selection\": {\"selector002\": {\"type\": \"single\", \"fields\": [\"bp\"]}}, \"title\": \"Selection\"}, {\"hconcat\": [{\"layer\": [{\"mark\": \"point\", \"encoding\": {\"color\": {\"type\": \"nominal\", \"field\": \"degree\"}, \"opacity\": {\"condition\": {\"value\": 1, \"selection\": \"selector001\"}, \"value\": 0.5}, \"shape\": {\"type\": \"nominal\", \"field\": \"bp\"}, \"size\": {\"type\": \"quantitative\", \"field\": \"num_unknowns\", \"scale\": {\"domain\": [1000.0, 1000000.0], \"type\": \"log\"}}, \"tooltip\": [{\"type\": \"nominal\", \"field\": \"bp\"}, {\"type\": \"quantitative\", \"field\": \"num_procs\"}, {\"type\": \"nominal\", \"field\": \"backend\"}, {\"type\": \"quantitative\", \"field\": \"num_elem\"}, {\"type\": \"quantitative\", \"field\": \"degree\"}, {\"type\": \"quantitative\", \"field\": \"num_unknowns\"}, {\"type\": \"nominal\", \"field\": \"file\"}], \"y\": {\"type\": \"quantitative\", \"field\": \"mdofs\", \"title\": \"MDoF/s per CG iteration\"}}, \"selection\": {\"selector001\": {\"type\": \"single\", \"on\": \"mouseover\", \"fields\": [\"degree\", \"time_per_it\", \"backend\"], \"nearest\": true, \"empty\": \"none\"}}, \"transform\": [{\"filter\": {\"selection\": \"selector002\"}}, {\"calculate\": \"datum.cg_iteration_dps/1e6\", \"as\": \"mdofs\"}]}, {\"mark\": \"line\", \"encoding\": {\"color\": {\"type\": \"nominal\", \"field\": \"degree\"}, \"shape\": {\"type\": \"nominal\", \"field\": \"bp\"}, \"size\": {\"condition\": {\"value\": 2, \"test\": \"((datum.degree - selector001.degree) === 0)\"}, \"value\": 1}, \"tooltip\": [{\"type\": \"nominal\", \"field\": \"bp\"}, {\"type\": \"quantitative\", \"field\": \"num_procs\"}, {\"type\": \"nominal\", \"field\": \"backend\"}, {\"type\": \"quantitative\", \"field\": \"num_elem\"}, {\"type\": \"quantitative\", \"field\": \"degree\"}, {\"type\": \"quantitative\", \"field\": \"num_unknowns\"}, {\"type\": \"nominal\", \"field\": \"file\"}], \"y\": {\"type\": \"quantitative\", \"field\": \"mdofs\", \"title\": \"MDoF/s per CG iteration\"}}, \"transform\": [{\"filter\": {\"selection\": \"selector002\"}}, {\"calculate\": \"datum.cg_iteration_dps/1e6\", \"as\": \"mdofs\"}]}], \"encoding\": {\"x\": {\"type\": \"quantitative\", \"field\": \"time_per_it\", \"scale\": {\"type\": \"log\"}}}}, {\"layer\": [{\"mark\": \"point\", \"encoding\": {\"color\": {\"type\": \"nominal\", \"field\": \"degree\"}, \"opacity\": {\"condition\": {\"value\": 1, \"selection\": \"selector001\"}, \"value\": 0.5}, \"shape\": {\"type\": \"nominal\", \"field\": \"bp\"}, \"size\": {\"type\": \"quantitative\", \"field\": \"num_unknowns\", \"scale\": {\"domain\": [1000.0, 1000000.0], \"type\": \"log\"}}, \"tooltip\": [{\"type\": \"nominal\", \"field\": \"bp\"}, {\"type\": \"quantitative\", \"field\": \"num_procs\"}, {\"type\": \"nominal\", \"field\": \"backend\"}, {\"type\": \"quantitative\", \"field\": \"num_elem\"}, {\"type\": \"quantitative\", \"field\": \"degree\"}, {\"type\": \"quantitative\", \"field\": \"num_unknowns\"}, {\"type\": \"nominal\", \"field\": \"file\"}], \"y\": {\"type\": \"quantitative\", \"field\": \"mdofs\", \"title\": \"MDoF/s per CG iteration\"}}, \"selection\": {\"selector001\": {\"type\": \"single\", \"on\": \"mouseover\", \"fields\": [\"degree\", \"time_per_it\", \"backend\"], \"nearest\": true, \"empty\": \"none\"}}, \"transform\": [{\"filter\": {\"selection\": \"selector002\"}}, {\"calculate\": \"datum.cg_iteration_dps/1e6\", \"as\": \"mdofs\"}]}, {\"mark\": \"line\", \"encoding\": {\"color\": {\"type\": \"nominal\", \"field\": \"degree\"}, \"shape\": {\"type\": \"nominal\", \"field\": \"bp\"}, \"size\": {\"condition\": {\"value\": 2, \"test\": \"((datum.degree - selector001.degree) === 0)\"}, \"value\": 1}, \"tooltip\": [{\"type\": \"nominal\", \"field\": \"bp\"}, {\"type\": \"quantitative\", \"field\": \"num_procs\"}, {\"type\": \"nominal\", \"field\": \"backend\"}, {\"type\": \"quantitative\", \"field\": \"num_elem\"}, {\"type\": \"quantitative\", \"field\": \"degree\"}, {\"type\": \"quantitative\", \"field\": \"num_unknowns\"}, {\"type\": \"nominal\", \"field\": \"file\"}], \"y\": {\"type\": \"quantitative\", \"field\": \"mdofs\", \"title\": \"MDoF/s per CG iteration\"}}, \"transform\": [{\"filter\": {\"selection\": \"selector002\"}}, {\"calculate\": \"datum.cg_iteration_dps/1e6\", \"as\": \"mdofs\"}]}], \"encoding\": {\"x\": {\"type\": \"quantitative\", \"field\": \"FE_nodes_per_compute_node\", \"scale\": {\"clamp\": true, \"domain\": [30000.0, 10000000.0], \"type\": \"log\"}}}}], \"title\": \"Noether (2x EPYC 7452), gcc-10\"}], \"data\": {\"name\": \"data-04275a7ccc744098f1a7e66e4992e39a\"}, \"$schema\": \"https://vega.github.io/schema/vega-lite/v4.0.0.json\", \"datasets\": {\"data-04275a7ccc744098f1a7e66e4992e39a\": [{\"file\": \"data/ceed/noether/petsc-bps-2020-07-01.0.txt\", \"backend\": \"/cpu/self/xsmm/blocked\", \"backend_memtype\": \"host\", \"hostname\": \"noether\", \"test\": \"PETSc CEED Benchmark Problem 1 \", \"num_procs\": 64, \"num_procs_node\": 64, \"degree\": 1, \"quadrature_pts\": 3, \"code\": \"libCEED\", \"bp\": \"1\", \"case\": \"scalar\", \"num_unknowns\": 55473, \"num_elem\": 51712, \"dof_per_node\": 1, \"ksp_its\": 20, \"time_per_it\": 0.0001588585, \"cg_iteration_dps\": 349198000.0, \"FE_nodes_per_compute_node\": 55473.0}, {\"file\": \"data/ceed/noether/petsc-bps-2020-07-01.0.txt\", \"backend\": \"/cpu/self/xsmm/blocked\", \"backend_memtype\": \"host\", \"hostname\": \"noether\", \"test\": \"PETSc CEED Benchmark Problem 2 \", \"num_procs\": 64, \"num_procs_node\": 64, \"degree\": 1, \"quadrature_pts\": 3, \"code\": \"libCEED\", \"bp\": \"2\", \"case\": \"vector\", \"num_unknowns\": 166419, \"num_elem\": 51712, \"dof_per_node\": 3, \"ksp_its\": 20, \"time_per_it\": 0.000251603, \"cg_iteration_dps\": 661435000.0, \"FE_nodes_per_compute_node\": 55473.0}, {\"file\": \"data/ceed/noether/petsc-bps-2020-07-01.0.txt\", \"backend\": \"/cpu/self/xsmm/blocked\", \"backend_memtype\": \"host\", \"hostname\": \"noether\", \"test\": \"PETSc CEED Benchmark Problem 3 \", \"num_procs\": 64, \"num_procs_node\": 64, \"degree\": 1, \"quadrature_pts\": 3, \"code\": \"libCEED\", \"bp\": \"3\", \"case\": \"scalar\", \"num_unknowns\": 47151, \"num_elem\": 51712, \"dof_per_node\": 1, \"ksp_its\": 1, \"time_per_it\": 0.000272989, \"cg_iteration_dps\": 172721000.0, \"FE_nodes_per_compute_node\": 47151.0}, {\"file\": \"data/ceed/noether/petsc-bps-2020-07-01.0.txt\", \"backend\": \"/cpu/self/xsmm/blocked\", \"backend_memtype\": \"host\", \"hostname\": \"noether\", \"test\": \"PETSc CEED Benchmark Problem 4 \", \"num_procs\": 64, \"num_procs_node\": 64, \"degree\": 1, \"quadrature_pts\": 3, \"code\": \"libCEED\", \"bp\": \"4\", \"case\": \"vector\", \"num_unknowns\": 141453, \"num_elem\": 51712, \"dof_per_node\": 3, \"ksp_its\": 1, \"time_per_it\": 0.000436783, \"cg_iteration_dps\": 323852000.0, \"FE_nodes_per_compute_node\": 47151.0}, {\"file\": \"data/ceed/noether/petsc-bps-2020-07-01.0.txt\", \"backend\": \"/cpu/self/xsmm/blocked\", \"backend_memtype\": \"host\", \"hostname\": \"noether\", \"test\": \"PETSc CEED Benchmark Problem 1 \", \"num_procs\": 64, \"num_procs_node\": 64, \"degree\": 1, \"quadrature_pts\": 3, \"code\": \"libCEED\", \"bp\": \"1\", \"case\": \"scalar\", \"num_unknowns\": 109395, \"num_elem\": 100800, \"dof_per_node\": 1, \"ksp_its\": 20, \"time_per_it\": 0.0002838375, \"cg_iteration_dps\": 385414000.0, \"FE_nodes_per_compute_node\": 109395.0}, {\"file\": \"data/ceed/noether/petsc-bps-2020-07-01.0.txt\", \"backend\": \"/cpu/self/xsmm/blocked\", \"backend_memtype\": \"host\", \"hostname\": \"noether\", \"test\": \"PETSc CEED Benchmark Problem 2 \", \"num_procs\": 64, \"num_procs_node\": 64, \"degree\": 1, \"quadrature_pts\": 3, \"code\": \"libCEED\", \"bp\": \"2\", \"case\": \"vector\", \"num_unknowns\": 328185, \"num_elem\": 100800, \"dof_per_node\": 3, \"ksp_its\": 20, \"time_per_it\": 0.00048698200000000006, \"cg_iteration_dps\": 673916000.0, \"FE_nodes_per_compute_node\": 109395.0}, {\"file\": \"data/ceed/noether/petsc-bps-2020-07-01.0.txt\", \"backend\": \"/cpu/self/xsmm/blocked\", \"backend_memtype\": \"host\", \"hostname\": \"noether\", \"test\": \"PETSc CEED Benchmark Problem 3 \", \"num_procs\": 64, \"num_procs_node\": 64, \"degree\": 1, \"quadrature_pts\": 3, \"code\": \"libCEED\", \"bp\": \"3\", \"case\": \"scalar\", \"num_unknowns\": 95697, \"num_elem\": 100800, \"dof_per_node\": 1, \"ksp_its\": 1, \"time_per_it\": 0.00046134, \"cg_iteration_dps\": 207433000.0, \"FE_nodes_per_compute_node\": 95697.0}, {\"file\": \"data/ceed/noether/petsc-bps-2020-07-01.0.txt\", \"backend\": \"/cpu/self/xsmm/blocked\", \"backend_memtype\": \"host\", \"hostname\": \"noether\", \"test\": \"PETSc CEED Benchmark Problem 4 \", \"num_procs\": 64, \"num_procs_node\": 64, \"degree\": 1, \"quadrature_pts\": 3, \"code\": \"libCEED\", \"bp\": \"4\", \"case\": \"vector\", \"num_unknowns\": 287091, \"num_elem\": 100800, \"dof_per_node\": 3, \"ksp_its\": 1, \"time_per_it\": 0.000880241, \"cg_iteration_dps\": 326150000.0, \"FE_nodes_per_compute_node\": 95697.0}, {\"file\": \"data/ceed/noether/petsc-bps-2020-07-01.0.txt\", \"backend\": \"/cpu/self/xsmm/blocked\", \"backend_memtype\": \"host\", \"hostname\": \"noether\", \"test\": \"PETSc CEED Benchmark Problem 1 \", \"num_procs\": 64, \"num_procs_node\": 64, \"degree\": 1, \"quadrature_pts\": 3, \"code\": \"libCEED\", \"bp\": \"1\", \"case\": \"scalar\", \"num_unknowns\": 215475, \"num_elem\": 204800, \"dof_per_node\": 1, \"ksp_its\": 20, \"time_per_it\": 0.000544095, \"cg_iteration_dps\": 396025000.0, \"FE_nodes_per_compute_node\": 215475.0}, {\"file\": \"data/ceed/noether/petsc-bps-2020-07-01.0.txt\", \"backend\": \"/cpu/self/xsmm/blocked\", \"backend_memtype\": \"host\", \"hostname\": \"noether\", \"test\": \"PETSc CEED Benchmark Problem 2 \", \"num_procs\": 64, \"num_procs_node\": 64, \"degree\": 1, \"quadrature_pts\": 3, \"code\": \"libCEED\", \"bp\": \"2\", \"case\": \"vector\", \"num_unknowns\": 646425, \"num_elem\": 204800, \"dof_per_node\": 3, \"ksp_its\": 20, \"time_per_it\": 0.000919865, \"cg_iteration_dps\": 702738000.0, \"FE_nodes_per_compute_node\": 215475.0}, {\"file\": \"data/ceed/noether/petsc-bps-2020-07-01.0.txt\", \"backend\": \"/cpu/self/xsmm/blocked\", \"backend_memtype\": \"host\", \"hostname\": \"noether\", \"test\": \"PETSc CEED Benchmark Problem 3 \", \"num_procs\": 64, \"num_procs_node\": 64, \"degree\": 1, \"quadrature_pts\": 3, \"code\": \"libCEED\", \"bp\": \"3\", \"case\": \"scalar\", \"num_unknowns\": 194481, \"num_elem\": 204800, \"dof_per_node\": 1, \"ksp_its\": 1, \"time_per_it\": 0.00118279, \"cg_iteration_dps\": 164425000.0, \"FE_nodes_per_compute_node\": 194481.0}, {\"file\": \"data/ceed/noether/petsc-bps-2020-07-01.0.txt\", \"backend\": \"/cpu/self/xsmm/blocked\", \"backend_memtype\": \"host\", \"hostname\": \"noether\", \"test\": \"PETSc CEED Benchmark Problem 4 \", \"num_procs\": 64, \"num_procs_node\": 64, \"degree\": 1, \"quadrature_pts\": 3, \"code\": \"libCEED\", \"bp\": \"4\", \"case\": \"vector\", \"num_unknowns\": 583443, \"num_elem\": 204800, \"dof_per_node\": 3, \"ksp_its\": 1, \"time_per_it\": 0.00199556, \"cg_iteration_dps\": 292370000.0, \"FE_nodes_per_compute_node\": 194481.0}, {\"file\": \"data/ceed/noether/petsc-bps-2020-07-01.0.txt\", \"backend\": \"/cpu/self/xsmm/blocked\", \"backend_memtype\": \"host\", \"hostname\": \"noether\", \"test\": \"PETSc CEED Benchmark Problem 1 \", \"num_procs\": 64, \"num_procs_node\": 64, \"degree\": 1, \"quadrature_pts\": 3, \"code\": \"libCEED\", \"bp\": \"1\", \"case\": \"scalar\", \"num_unknowns\": 426465, \"num_elem\": 409088, \"dof_per_node\": 1, \"ksp_its\": 20, \"time_per_it\": 0.0010379299999999998, \"cg_iteration_dps\": 410880000.0, \"FE_nodes_per_compute_node\": 426465.0}, {\"file\": \"data/ceed/noether/petsc-bps-2020-07-01.0.txt\", \"backend\": \"/cpu/self/xsmm/blocked\", \"backend_memtype\": \"host\", \"hostname\": \"noether\", \"test\": \"PETSc CEED Benchmark Problem 2 \", \"num_procs\": 64, \"num_procs_node\": 64, \"degree\": 1, \"quadrature_pts\": 3, \"code\": \"libCEED\", \"bp\": \"2\", \"case\": \"vector\", \"num_unknowns\": 1279395, \"num_elem\": 409088, \"dof_per_node\": 3, \"ksp_its\": 20, \"time_per_it\": 0.0018666149999999999, \"cg_iteration_dps\": 685409000.0, \"FE_nodes_per_compute_node\": 426465.0}, {\"file\": \"data/ceed/noether/petsc-bps-2020-07-01.0.txt\", \"backend\": \"/cpu/self/xsmm/blocked\", \"backend_memtype\": \"host\", \"hostname\": \"noether\", \"test\": \"PETSc CEED Benchmark Problem 3 \", \"num_procs\": 64, \"num_procs_node\": 64, \"degree\": 1, \"quadrature_pts\": 3, \"code\": \"libCEED\", \"bp\": \"3\", \"case\": \"scalar\", \"num_unknowns\": 393183, \"num_elem\": 409088, \"dof_per_node\": 1, \"ksp_its\": 1, \"time_per_it\": 0.00261807, \"cg_iteration_dps\": 150180000.0, \"FE_nodes_per_compute_node\": 393183.0}, {\"file\": \"data/ceed/noether/petsc-bps-2020-07-01.0.txt\", \"backend\": \"/cpu/self/xsmm/blocked\", \"backend_memtype\": \"host\", \"hostname\": \"noether\", \"test\": \"PETSc CEED Benchmark Problem 4 \", \"num_procs\": 64, \"num_procs_node\": 64, \"degree\": 1, \"quadrature_pts\": 3, \"code\": \"libCEED\", \"bp\": \"4\", \"case\": \"vector\", \"num_unknowns\": 1179549, \"num_elem\": 409088, \"dof_per_node\": 3, \"ksp_its\": 1, \"time_per_it\": 0.00423312, \"cg_iteration_dps\": 278648000.0, \"FE_nodes_per_compute_node\": 393183.0}, {\"file\": \"data/ceed/noether/petsc-bps-2020-07-01.0.txt\", \"backend\": \"/cpu/self/xsmm/blocked\", \"backend_memtype\": \"host\", \"hostname\": \"noether\", \"test\": \"PETSc CEED Benchmark Problem 1 \", \"num_procs\": 64, \"num_procs_node\": 64, \"degree\": 1, \"quadrature_pts\": 3, \"code\": \"libCEED\", \"bp\": \"1\", \"case\": \"scalar\", \"num_unknowns\": 846885, \"num_elem\": 819008, \"dof_per_node\": 1, \"ksp_its\": 20, \"time_per_it\": 0.00217724, \"cg_iteration_dps\": 388972000.0, \"FE_nodes_per_compute_node\": 846885.0}, {\"file\": \"data/ceed/noether/petsc-bps-2020-07-01.0.txt\", \"backend\": \"/cpu/self/xsmm/blocked\", \"backend_memtype\": \"host\", \"hostname\": \"noether\", \"test\": \"PETSc CEED Benchmark Problem 2 \", \"num_procs\": 64, \"num_procs_node\": 64, \"degree\": 1, \"quadrature_pts\": 3, \"code\": \"libCEED\", \"bp\": \"2\", \"case\": \"vector\", \"num_unknowns\": 2540655, \"num_elem\": 819008, \"dof_per_node\": 3, \"ksp_its\": 20, \"time_per_it\": 0.004093625, \"cg_iteration_dps\": 620637000.0, \"FE_nodes_per_compute_node\": 846885.0}, {\"file\": \"data/ceed/noether/petsc-bps-2020-07-01.0.txt\", \"backend\": \"/cpu/self/xsmm/blocked\", \"backend_memtype\": \"host\", \"hostname\": \"noether\", \"test\": \"PETSc CEED Benchmark Problem 3 \", \"num_procs\": 64, \"num_procs_node\": 64, \"degree\": 1, \"quadrature_pts\": 3, \"code\": \"libCEED\", \"bp\": \"3\", \"case\": \"scalar\", \"num_unknowns\": 792099, \"num_elem\": 819008, \"dof_per_node\": 1, \"ksp_its\": 1, \"time_per_it\": 0.00520134, \"cg_iteration_dps\": 152287000.0, \"FE_nodes_per_compute_node\": 792099.0}, {\"file\": \"data/ceed/noether/petsc-bps-2020-07-01.0.txt\", \"backend\": \"/cpu/self/xsmm/blocked\", \"backend_memtype\": \"host\", \"hostname\": \"noether\", \"test\": \"PETSc CEED Benchmark Problem 4 \", \"num_procs\": 64, \"num_procs_node\": 64, \"degree\": 1, \"quadrature_pts\": 3, \"code\": \"libCEED\", \"bp\": \"4\", \"case\": \"vector\", \"num_unknowns\": 2376297, \"num_elem\": 819008, \"dof_per_node\": 3, \"ksp_its\": 1, \"time_per_it\": 0.0086205, \"cg_iteration_dps\": 275656000.0, \"FE_nodes_per_compute_node\": 792099.0}, {\"file\": \"data/ceed/noether/petsc-bps-2020-07-01.0.txt\", \"backend\": \"/cpu/self/xsmm/blocked\", \"backend_memtype\": \"host\", \"hostname\": \"noether\", \"test\": \"PETSc CEED Benchmark Problem 1 \", \"num_procs\": 64, \"num_procs_node\": 64, \"degree\": 1, \"quadrature_pts\": 3, \"code\": \"libCEED\", \"bp\": \"1\", \"case\": \"scalar\", \"num_unknowns\": 1680741, \"num_elem\": 1638400, \"dof_per_node\": 1, \"ksp_its\": 20, \"time_per_it\": 0.0045512799999999996, \"cg_iteration_dps\": 369290000.0, \"FE_nodes_per_compute_node\": 1680741.0}, {\"file\": \"data/ceed/noether/petsc-bps-2020-07-01.0.txt\", \"backend\": \"/cpu/self/xsmm/blocked\", \"backend_memtype\": \"host\", \"hostname\": \"noether\", \"test\": \"PETSc CEED Benchmark Problem 2 \", \"num_procs\": 64, \"num_procs_node\": 64, \"degree\": 1, \"quadrature_pts\": 3, \"code\": \"libCEED\", \"bp\": \"2\", \"case\": \"vector\", \"num_unknowns\": 5042223, \"num_elem\": 1638400, \"dof_per_node\": 3, \"ksp_its\": 5, \"time_per_it\": 0.0085918, \"cg_iteration_dps\": 586865000.0, \"FE_nodes_per_compute_node\": 1680741.0}, {\"file\": \"data/ceed/noether/petsc-bps-2020-07-01.0.txt\", \"backend\": \"/cpu/self/xsmm/blocked\", \"backend_memtype\": \"host\", \"hostname\": \"noether\", \"test\": \"PETSc CEED Benchmark Problem 3 \", \"num_procs\": 64, \"num_procs_node\": 64, \"degree\": 1, \"quadrature_pts\": 3, \"code\": \"libCEED\", \"bp\": \"3\", \"case\": \"scalar\", \"num_unknowns\": 1596771, \"num_elem\": 1638400, \"dof_per_node\": 1, \"ksp_its\": 1, \"time_per_it\": 0.0103836, \"cg_iteration_dps\": 153778000.0, \"FE_nodes_per_compute_node\": 1596771.0}, {\"file\": \"data/ceed/noether/petsc-bps-2020-07-01.0.txt\", \"backend\": \"/cpu/self/xsmm/blocked\", \"backend_memtype\": \"host\", \"hostname\": \"noether\", \"test\": \"PETSc CEED Benchmark Problem 4 \", \"num_procs\": 64, \"num_procs_node\": 64, \"degree\": 1, \"quadrature_pts\": 3, \"code\": \"libCEED\", \"bp\": \"4\", \"case\": \"vector\", \"num_unknowns\": 4790313, \"num_elem\": 1638400, \"dof_per_node\": 3, \"ksp_its\": 1, \"time_per_it\": 0.0173399, \"cg_iteration_dps\": 276259000.0, \"FE_nodes_per_compute_node\": 1596771.0}, {\"file\": \"data/ceed/noether/petsc-bps-2020-07-01.0.txt\", \"backend\": \"/cpu/self/xsmm/blocked\", \"backend_memtype\": \"host\", \"hostname\": \"noether\", \"test\": \"PETSc CEED Benchmark Problem 1 \", \"num_procs\": 64, \"num_procs_node\": 64, \"degree\": 1, \"quadrature_pts\": 3, \"code\": \"libCEED\", \"bp\": \"1\", \"case\": \"scalar\", \"num_unknowns\": 3343809, \"num_elem\": 3276800, \"dof_per_node\": 1, \"ksp_its\": 5, \"time_per_it\": 0.009054379999999999, \"cg_iteration_dps\": 369303000.0, \"FE_nodes_per_compute_node\": 3343809.0}, {\"file\": \"data/ceed/noether/petsc-bps-2020-07-01.0.txt\", \"backend\": \"/cpu/self/xsmm/blocked\", \"backend_memtype\": \"host\", \"hostname\": \"noether\", \"test\": \"PETSc CEED Benchmark Problem 2 \", \"num_procs\": 64, \"num_procs_node\": 64, \"degree\": 1, \"quadrature_pts\": 3, \"code\": \"libCEED\", \"bp\": \"2\", \"case\": \"vector\", \"num_unknowns\": 10031427, \"num_elem\": 3276800, \"dof_per_node\": 3, \"ksp_its\": 5, \"time_per_it\": 0.01817384, \"cg_iteration_dps\": 551971000.0, \"FE_nodes_per_compute_node\": 3343809.0}, {\"file\": \"data/ceed/noether/petsc-bps-2020-07-01.0.txt\", \"backend\": \"/cpu/self/xsmm/blocked\", \"backend_memtype\": \"host\", \"hostname\": \"noether\", \"test\": \"PETSc CEED Benchmark Problem 3 \", \"num_procs\": 64, \"num_procs_node\": 64, \"degree\": 1, \"quadrature_pts\": 3, \"code\": \"libCEED\", \"bp\": \"3\", \"case\": \"scalar\", \"num_unknowns\": 3210687, \"num_elem\": 3276800, \"dof_per_node\": 1, \"ksp_its\": 1, \"time_per_it\": 0.0211196, \"cg_iteration_dps\": 152024000.0, \"FE_nodes_per_compute_node\": 3210687.0}, {\"file\": \"data/ceed/noether/petsc-bps-2020-07-01.0.txt\", \"backend\": \"/cpu/self/xsmm/blocked\", \"backend_memtype\": \"host\", \"hostname\": \"noether\", \"test\": \"PETSc CEED Benchmark Problem 4 \", \"num_procs\": 64, \"num_procs_node\": 64, \"degree\": 1, \"quadrature_pts\": 3, \"code\": \"libCEED\", \"bp\": \"4\", \"case\": \"vector\", \"num_unknowns\": 9632061, \"num_elem\": 3276800, \"dof_per_node\": 3, \"ksp_its\": 1, \"time_per_it\": 0.0360825, \"cg_iteration_dps\": 266945000.0, \"FE_nodes_per_compute_node\": 3210687.0}, {\"file\": \"data/ceed/noether/petsc-bps-2020-07-01.0.txt\", \"backend\": \"/cpu/self/xsmm/blocked\", \"backend_memtype\": \"host\", \"hostname\": \"noether\", \"test\": \"PETSc CEED Benchmark Problem 1 \", \"num_procs\": 64, \"num_procs_node\": 64, \"degree\": 1, \"quadrature_pts\": 3, \"code\": \"libCEED\", \"bp\": \"1\", \"case\": \"scalar\", \"num_unknowns\": 6663753, \"num_elem\": 6506752, \"dof_per_node\": 1, \"ksp_its\": 5, \"time_per_it\": 0.0187849, \"cg_iteration_dps\": 354740000.0, \"FE_nodes_per_compute_node\": 6663753.0}, {\"file\": \"data/ceed/noether/petsc-bps-2020-07-01.0.txt\", \"backend\": \"/cpu/self/xsmm/blocked\", \"backend_memtype\": \"host\", \"hostname\": \"noether\", \"test\": \"PETSc CEED Benchmark Problem 2 \", \"num_procs\": 64, \"num_procs_node\": 64, \"degree\": 1, \"quadrature_pts\": 3, \"code\": \"libCEED\", \"bp\": \"2\", \"case\": \"vector\", \"num_unknowns\": 19991259, \"num_elem\": 6506752, \"dof_per_node\": 3, \"ksp_its\": 5, \"time_per_it\": 0.042803, \"cg_iteration_dps\": 467053000.0, \"FE_nodes_per_compute_node\": 6663753.0}, {\"file\": \"data/ceed/noether/petsc-bps-2020-07-01.0.txt\", \"backend\": \"/cpu/self/xsmm/blocked\", \"backend_memtype\": \"host\", \"hostname\": \"noether\", \"test\": \"PETSc CEED Benchmark Problem 3 \", \"num_procs\": 64, \"num_procs_node\": 64, \"degree\": 1, \"quadrature_pts\": 3, \"code\": \"libCEED\", \"bp\": \"3\", \"case\": \"scalar\", \"num_unknowns\": 6444615, \"num_elem\": 6506752, \"dof_per_node\": 1, \"ksp_its\": 1, \"time_per_it\": 0.0443032, \"cg_iteration_dps\": 145466000.0, \"FE_nodes_per_compute_node\": 6444615.0}, {\"file\": \"data/ceed/noether/petsc-bps-2020-07-01.0.txt\", \"backend\": \"/cpu/self/xsmm/blocked\", \"backend_memtype\": \"host\", \"hostname\": \"noether\", \"test\": \"PETSc CEED Benchmark Problem 4 \", \"num_procs\": 64, \"num_procs_node\": 64, \"degree\": 1, \"quadrature_pts\": 3, \"code\": \"libCEED\", \"bp\": \"4\", \"case\": \"vector\", \"num_unknowns\": 19333845, \"num_elem\": 6506752, \"dof_per_node\": 3, \"ksp_its\": 1, \"time_per_it\": 0.0796072, \"cg_iteration_dps\": 242865000.0, \"FE_nodes_per_compute_node\": 6444615.0}, {\"file\": \"data/ceed/noether/petsc-bps-2020-07-01.0.txt\", \"backend\": \"/cpu/self/xsmm/blocked\", \"backend_memtype\": \"host\", \"hostname\": \"noether\", \"test\": \"PETSc CEED Benchmark Problem 1 \", \"num_procs\": 64, \"num_procs_node\": 64, \"degree\": 2, \"quadrature_pts\": 4, \"code\": \"libCEED\", \"bp\": \"1\", \"case\": \"scalar\", \"num_unknowns\": 55473, \"num_elem\": 6144, \"dof_per_node\": 1, \"ksp_its\": 18, \"time_per_it\": 6.135277777777778e-05, \"cg_iteration_dps\": 904160000.0, \"FE_nodes_per_compute_node\": 55473.0}, {\"file\": \"data/ceed/noether/petsc-bps-2020-07-01.0.txt\", \"backend\": \"/cpu/self/xsmm/blocked\", \"backend_memtype\": \"host\", \"hostname\": \"noether\", \"test\": \"PETSc CEED Benchmark Problem 2 \", \"num_procs\": 64, \"num_procs_node\": 64, \"degree\": 2, \"quadrature_pts\": 4, \"code\": \"libCEED\", \"bp\": \"2\", \"case\": \"vector\", \"num_unknowns\": 166419, \"num_elem\": 6144, \"dof_per_node\": 3, \"ksp_its\": 18, \"time_per_it\": 0.00011007, \"cg_iteration_dps\": 1511940000.0, \"FE_nodes_per_compute_node\": 55473.0}, {\"file\": \"data/ceed/noether/petsc-bps-2020-07-01.0.txt\", \"backend\": \"/cpu/self/xsmm/blocked\", \"backend_memtype\": \"host\", \"hostname\": \"noether\", \"test\": \"PETSc CEED Benchmark Problem 3 \", \"num_procs\": 64, \"num_procs_node\": 64, \"degree\": 2, \"quadrature_pts\": 4, \"code\": \"libCEED\", \"bp\": \"3\", \"case\": \"scalar\", \"num_unknowns\": 47151, \"num_elem\": 6144, \"dof_per_node\": 1, \"ksp_its\": 8, \"time_per_it\": 9.4085875e-05, \"cg_iteration_dps\": 501148000.0, \"FE_nodes_per_compute_node\": 47151.0}, {\"file\": \"data/ceed/noether/petsc-bps-2020-07-01.0.txt\", \"backend\": \"/cpu/self/xsmm/blocked\", \"backend_memtype\": \"host\", \"hostname\": \"noether\", \"test\": \"PETSc CEED Benchmark Problem 4 \", \"num_procs\": 64, \"num_procs_node\": 64, \"degree\": 2, \"quadrature_pts\": 4, \"code\": \"libCEED\", \"bp\": \"4\", \"case\": \"vector\", \"num_unknowns\": 141453, \"num_elem\": 6144, \"dof_per_node\": 3, \"ksp_its\": 8, \"time_per_it\": 0.00033104375, \"cg_iteration_dps\": 427293000.0, \"FE_nodes_per_compute_node\": 47151.0}, {\"file\": \"data/ceed/noether/petsc-bps-2020-07-01.0.txt\", \"backend\": \"/cpu/self/xsmm/blocked\", \"backend_memtype\": \"host\", \"hostname\": \"noether\", \"test\": \"PETSc CEED Benchmark Problem 1 \", \"num_procs\": 64, \"num_procs_node\": 64, \"degree\": 2, \"quadrature_pts\": 4, \"code\": \"libCEED\", \"bp\": \"1\", \"case\": \"scalar\", \"num_unknowns\": 109395, \"num_elem\": 13440, \"dof_per_node\": 1, \"ksp_its\": 16, \"time_per_it\": 9.15525e-05, \"cg_iteration_dps\": 1194890000.0, \"FE_nodes_per_compute_node\": 109395.0}, {\"file\": \"data/ceed/noether/petsc-bps-2020-07-01.0.txt\", \"backend\": \"/cpu/self/xsmm/blocked\", \"backend_memtype\": \"host\", \"hostname\": \"noether\", \"test\": \"PETSc CEED Benchmark Problem 2 \", \"num_procs\": 64, \"num_procs_node\": 64, \"degree\": 2, \"quadrature_pts\": 4, \"code\": \"libCEED\", \"bp\": \"2\", \"case\": \"vector\", \"num_unknowns\": 328185, \"num_elem\": 13440, \"dof_per_node\": 3, \"ksp_its\": 16, \"time_per_it\": 0.000190466875, \"cg_iteration_dps\": 1723060000.0, \"FE_nodes_per_compute_node\": 109395.0}, {\"file\": \"data/ceed/noether/petsc-bps-2020-07-01.0.txt\", \"backend\": \"/cpu/self/xsmm/blocked\", \"backend_memtype\": \"host\", \"hostname\": \"noether\", \"test\": \"PETSc CEED Benchmark Problem 3 \", \"num_procs\": 64, \"num_procs_node\": 64, \"degree\": 2, \"quadrature_pts\": 4, \"code\": \"libCEED\", \"bp\": \"3\", \"case\": \"scalar\", \"num_unknowns\": 95697, \"num_elem\": 13440, \"dof_per_node\": 1, \"ksp_its\": 9, \"time_per_it\": 0.0001685088888888889, \"cg_iteration_dps\": 567905000.0, \"FE_nodes_per_compute_node\": 95697.0}, {\"file\": \"data/ceed/noether/petsc-bps-2020-07-01.0.txt\", \"backend\": \"/cpu/self/xsmm/blocked\", \"backend_memtype\": \"host\", \"hostname\": \"noether\", \"test\": \"PETSc CEED Benchmark Problem 4 \", \"num_procs\": 64, \"num_procs_node\": 64, \"degree\": 2, \"quadrature_pts\": 4, \"code\": \"libCEED\", \"bp\": \"4\", \"case\": \"vector\", \"num_unknowns\": 287091, \"num_elem\": 13440, \"dof_per_node\": 3, \"ksp_its\": 9, \"time_per_it\": 0.0005957555555555556, \"cg_iteration_dps\": 481894000.0, \"FE_nodes_per_compute_node\": 95697.0}, {\"file\": \"data/ceed/noether/petsc-bps-2020-07-01.0.txt\", \"backend\": \"/cpu/self/xsmm/blocked\", \"backend_memtype\": \"host\", \"hostname\": \"noether\", \"test\": \"PETSc CEED Benchmark Problem 1 \", \"num_procs\": 64, \"num_procs_node\": 64, \"degree\": 2, \"quadrature_pts\": 4, \"code\": \"libCEED\", \"bp\": \"1\", \"case\": \"scalar\", \"num_unknowns\": 215475, \"num_elem\": 24320, \"dof_per_node\": 1, \"ksp_its\": 16, \"time_per_it\": 0.000153035, \"cg_iteration_dps\": 1408010000.0, \"FE_nodes_per_compute_node\": 215475.0}, {\"file\": \"data/ceed/noether/petsc-bps-2020-07-01.0.txt\", \"backend\": \"/cpu/self/xsmm/blocked\", \"backend_memtype\": \"host\", \"hostname\": \"noether\", \"test\": \"PETSc CEED Benchmark Problem 2 \", \"num_procs\": 64, \"num_procs_node\": 64, \"degree\": 2, \"quadrature_pts\": 4, \"code\": \"libCEED\", \"bp\": \"2\", \"case\": \"vector\", \"num_unknowns\": 646425, \"num_elem\": 24320, \"dof_per_node\": 3, \"ksp_its\": 16, \"time_per_it\": 0.00034244375, \"cg_iteration_dps\": 1887680000.0, \"FE_nodes_per_compute_node\": 215475.0}, {\"file\": \"data/ceed/noether/petsc-bps-2020-07-01.0.txt\", \"backend\": \"/cpu/self/xsmm/blocked\", \"backend_memtype\": \"host\", \"hostname\": \"noether\", \"test\": \"PETSc CEED Benchmark Problem 3 \", \"num_procs\": 64, \"num_procs_node\": 64, \"degree\": 2, \"quadrature_pts\": 4, \"code\": \"libCEED\", \"bp\": \"3\", \"case\": \"scalar\", \"num_unknowns\": 194481, \"num_elem\": 24320, \"dof_per_node\": 1, \"ksp_its\": 8, \"time_per_it\": 0.00030067625, \"cg_iteration_dps\": 646813000.0, \"FE_nodes_per_compute_node\": 194481.0}, {\"file\": \"data/ceed/noether/petsc-bps-2020-07-01.0.txt\", \"backend\": \"/cpu/self/xsmm/blocked\", \"backend_memtype\": \"host\", \"hostname\": \"noether\", \"test\": \"PETSc CEED Benchmark Problem 4 \", \"num_procs\": 64, \"num_procs_node\": 64, \"degree\": 2, \"quadrature_pts\": 4, \"code\": \"libCEED\", \"bp\": \"4\", \"case\": \"vector\", \"num_unknowns\": 583443, \"num_elem\": 24320, \"dof_per_node\": 3, \"ksp_its\": 8, \"time_per_it\": 0.00116446625, \"cg_iteration_dps\": 501039000.0, \"FE_nodes_per_compute_node\": 194481.0}, {\"file\": \"data/ceed/noether/petsc-bps-2020-07-01.0.txt\", \"backend\": \"/cpu/self/xsmm/blocked\", \"backend_memtype\": \"host\", \"hostname\": \"noether\", \"test\": \"PETSc CEED Benchmark Problem 1 \", \"num_procs\": 64, \"num_procs_node\": 64, \"degree\": 2, \"quadrature_pts\": 4, \"code\": \"libCEED\", \"bp\": \"1\", \"case\": \"scalar\", \"num_unknowns\": 426465, \"num_elem\": 51712, \"dof_per_node\": 1, \"ksp_its\": 15, \"time_per_it\": 0.000283448, \"cg_iteration_dps\": 1504560000.0, \"FE_nodes_per_compute_node\": 426465.0}, {\"file\": \"data/ceed/noether/petsc-bps-2020-07-01.0.txt\", \"backend\": \"/cpu/self/xsmm/blocked\", \"backend_memtype\": \"host\", \"hostname\": \"noether\", \"test\": \"PETSc CEED Benchmark Problem 2 \", \"num_procs\": 64, \"num_procs_node\": 64, \"degree\": 2, \"quadrature_pts\": 4, \"code\": \"libCEED\", \"bp\": \"2\", \"case\": \"vector\", \"num_unknowns\": 1279395, \"num_elem\": 51712, \"dof_per_node\": 3, \"ksp_its\": 15, \"time_per_it\": 0.000663344, \"cg_iteration_dps\": 1928700000.0, \"FE_nodes_per_compute_node\": 426465.0}, {\"file\": \"data/ceed/noether/petsc-bps-2020-07-01.0.txt\", \"backend\": \"/cpu/self/xsmm/blocked\", \"backend_memtype\": \"host\", \"hostname\": \"noether\", \"test\": \"PETSc CEED Benchmark Problem 3 \", \"num_procs\": 64, \"num_procs_node\": 64, \"degree\": 2, \"quadrature_pts\": 4, \"code\": \"libCEED\", \"bp\": \"3\", \"case\": \"scalar\", \"num_unknowns\": 393183, \"num_elem\": 51712, \"dof_per_node\": 1, \"ksp_its\": 8, \"time_per_it\": 0.0006193225, \"cg_iteration_dps\": 634860000.0, \"FE_nodes_per_compute_node\": 393183.0}, {\"file\": \"data/ceed/noether/petsc-bps-2020-07-01.0.txt\", \"backend\": \"/cpu/self/xsmm/blocked\", \"backend_memtype\": \"host\", \"hostname\": \"noether\", \"test\": \"PETSc CEED Benchmark Problem 4 \", \"num_procs\": 64, \"num_procs_node\": 64, \"degree\": 2, \"quadrature_pts\": 4, \"code\": \"libCEED\", \"bp\": \"4\", \"case\": \"vector\", \"num_unknowns\": 1179549, \"num_elem\": 51712, \"dof_per_node\": 3, \"ksp_its\": 8, \"time_per_it\": 0.0021564125, \"cg_iteration_dps\": 546997000.0, \"FE_nodes_per_compute_node\": 393183.0}, {\"file\": \"data/ceed/noether/petsc-bps-2020-07-01.0.txt\", \"backend\": \"/cpu/self/xsmm/blocked\", \"backend_memtype\": \"host\", \"hostname\": \"noether\", \"test\": \"PETSc CEED Benchmark Problem 1 \", \"num_procs\": 64, \"num_procs_node\": 64, \"degree\": 2, \"quadrature_pts\": 4, \"code\": \"libCEED\", \"bp\": \"1\", \"case\": \"scalar\", \"num_unknowns\": 846885, \"num_elem\": 100800, \"dof_per_node\": 1, \"ksp_its\": 14, \"time_per_it\": 0.0005513771428571429, \"cg_iteration_dps\": 1535950000.0, \"FE_nodes_per_compute_node\": 846885.0}, {\"file\": \"data/ceed/noether/petsc-bps-2020-07-01.0.txt\", \"backend\": \"/cpu/self/xsmm/blocked\", \"backend_memtype\": \"host\", \"hostname\": \"noether\", \"test\": \"PETSc CEED Benchmark Problem 2 \", \"num_procs\": 64, \"num_procs_node\": 64, \"degree\": 2, \"quadrature_pts\": 4, \"code\": \"libCEED\", \"bp\": \"2\", \"case\": \"vector\", \"num_unknowns\": 2540655, \"num_elem\": 100800, \"dof_per_node\": 3, \"ksp_its\": 14, \"time_per_it\": 0.0013769714285714284, \"cg_iteration_dps\": 1845110000.0, \"FE_nodes_per_compute_node\": 846885.0}, {\"file\": \"data/ceed/noether/petsc-bps-2020-07-01.0.txt\", \"backend\": \"/cpu/self/xsmm/blocked\", \"backend_memtype\": \"host\", \"hostname\": \"noether\", \"test\": \"PETSc CEED Benchmark Problem 3 \", \"num_procs\": 64, \"num_procs_node\": 64, \"degree\": 2, \"quadrature_pts\": 4, \"code\": \"libCEED\", \"bp\": \"3\", \"case\": \"scalar\", \"num_unknowns\": 792099, \"num_elem\": 100800, \"dof_per_node\": 1, \"ksp_its\": 9, \"time_per_it\": 0.0015029111111111112, \"cg_iteration_dps\": 527043000.0, \"FE_nodes_per_compute_node\": 792099.0}, {\"file\": \"data/ceed/noether/petsc-bps-2020-07-01.0.txt\", \"backend\": \"/cpu/self/xsmm/blocked\", \"backend_memtype\": \"host\", \"hostname\": \"noether\", \"test\": \"PETSc CEED Benchmark Problem 4 \", \"num_procs\": 64, \"num_procs_node\": 64, \"degree\": 2, \"quadrature_pts\": 4, \"code\": \"libCEED\", \"bp\": \"4\", \"case\": \"vector\", \"num_unknowns\": 2376297, \"num_elem\": 100800, \"dof_per_node\": 3, \"ksp_its\": 9, \"time_per_it\": 0.004567911111111111, \"cg_iteration_dps\": 520215000.00000006, \"FE_nodes_per_compute_node\": 792099.0}, {\"file\": \"data/ceed/noether/petsc-bps-2020-07-01.0.txt\", \"backend\": \"/cpu/self/xsmm/blocked\", \"backend_memtype\": \"host\", \"hostname\": \"noether\", \"test\": \"PETSc CEED Benchmark Problem 1 \", \"num_procs\": 64, \"num_procs_node\": 64, \"degree\": 2, \"quadrature_pts\": 4, \"code\": \"libCEED\", \"bp\": \"1\", \"case\": \"scalar\", \"num_unknowns\": 1680741, \"num_elem\": 204800, \"dof_per_node\": 1, \"ksp_its\": 13, \"time_per_it\": 0.001139, \"cg_iteration_dps\": 1475630000.0, \"FE_nodes_per_compute_node\": 1680741.0}, {\"file\": \"data/ceed/noether/petsc-bps-2020-07-01.0.txt\", \"backend\": \"/cpu/self/xsmm/blocked\", \"backend_memtype\": \"host\", \"hostname\": \"noether\", \"test\": \"PETSc CEED Benchmark Problem 2 \", \"num_procs\": 64, \"num_procs_node\": 64, \"degree\": 2, \"quadrature_pts\": 4, \"code\": \"libCEED\", \"bp\": \"2\", \"case\": \"vector\", \"num_unknowns\": 5042223, \"num_elem\": 204800, \"dof_per_node\": 3, \"ksp_its\": 13, \"time_per_it\": 0.0038745, \"cg_iteration_dps\": 1301390000.0, \"FE_nodes_per_compute_node\": 1680741.0}, {\"file\": \"data/ceed/noether/petsc-bps-2020-07-01.0.txt\", \"backend\": \"/cpu/self/xsmm/blocked\", \"backend_memtype\": \"host\", \"hostname\": \"noether\", \"test\": \"PETSc CEED Benchmark Problem 3 \", \"num_procs\": 64, \"num_procs_node\": 64, \"degree\": 2, \"quadrature_pts\": 4, \"code\": \"libCEED\", \"bp\": \"3\", \"case\": \"scalar\", \"num_unknowns\": 1596771, \"num_elem\": 204800, \"dof_per_node\": 1, \"ksp_its\": 9, \"time_per_it\": 0.0034599555555555554, \"cg_iteration_dps\": 461500000.0, \"FE_nodes_per_compute_node\": 1596771.0}, {\"file\": \"data/ceed/noether/petsc-bps-2020-07-01.0.txt\", \"backend\": \"/cpu/self/xsmm/blocked\", \"backend_memtype\": \"host\", \"hostname\": \"noether\", \"test\": \"PETSc CEED Benchmark Problem 4 \", \"num_procs\": 64, \"num_procs_node\": 64, \"degree\": 2, \"quadrature_pts\": 4, \"code\": \"libCEED\", \"bp\": \"4\", \"case\": \"vector\", \"num_unknowns\": 4790313, \"num_elem\": 204800, \"dof_per_node\": 3, \"ksp_its\": 9, \"time_per_it\": 0.008573977777777778, \"cg_iteration_dps\": 558703000.0, \"FE_nodes_per_compute_node\": 1596771.0}, {\"file\": \"data/ceed/noether/petsc-bps-2020-07-01.0.txt\", \"backend\": \"/cpu/self/xsmm/blocked\", \"backend_memtype\": \"host\", \"hostname\": \"noether\", \"test\": \"PETSc CEED Benchmark Problem 1 \", \"num_procs\": 64, \"num_procs_node\": 64, \"degree\": 2, \"quadrature_pts\": 4, \"code\": \"libCEED\", \"bp\": \"1\", \"case\": \"scalar\", \"num_unknowns\": 3343809, \"num_elem\": 409088, \"dof_per_node\": 1, \"ksp_its\": 11, \"time_per_it\": 0.0029353909090909093, \"cg_iteration_dps\": 1139140000.0, \"FE_nodes_per_compute_node\": 3343809.0}, {\"file\": \"data/ceed/noether/petsc-bps-2020-07-01.0.txt\", \"backend\": \"/cpu/self/xsmm/blocked\", \"backend_memtype\": \"host\", \"hostname\": \"noether\", \"test\": \"PETSc CEED Benchmark Problem 2 \", \"num_procs\": 64, \"num_procs_node\": 64, \"degree\": 2, \"quadrature_pts\": 4, \"code\": \"libCEED\", \"bp\": \"2\", \"case\": \"vector\", \"num_unknowns\": 10031427, \"num_elem\": 409088, \"dof_per_node\": 3, \"ksp_its\": 5, \"time_per_it\": 0.00948072, \"cg_iteration_dps\": 1058089999.9999999, \"FE_nodes_per_compute_node\": 3343809.0}, {\"file\": \"data/ceed/noether/petsc-bps-2020-07-01.0.txt\", \"backend\": \"/cpu/self/xsmm/blocked\", \"backend_memtype\": \"host\", \"hostname\": \"noether\", \"test\": \"PETSc CEED Benchmark Problem 3 \", \"num_procs\": 64, \"num_procs_node\": 64, \"degree\": 2, \"quadrature_pts\": 4, \"code\": \"libCEED\", \"bp\": \"3\", \"case\": \"scalar\", \"num_unknowns\": 3210687, \"num_elem\": 409088, \"dof_per_node\": 1, \"ksp_its\": 5, \"time_per_it\": 0.00699034, \"cg_iteration_dps\": 459304000.0, \"FE_nodes_per_compute_node\": 3210687.0}, {\"file\": \"data/ceed/noether/petsc-bps-2020-07-01.0.txt\", \"backend\": \"/cpu/self/xsmm/blocked\", \"backend_memtype\": \"host\", \"hostname\": \"noether\", \"test\": \"PETSc CEED Benchmark Problem 4 \", \"num_procs\": 64, \"num_procs_node\": 64, \"degree\": 2, \"quadrature_pts\": 4, \"code\": \"libCEED\", \"bp\": \"4\", \"case\": \"vector\", \"num_unknowns\": 9632061, \"num_elem\": 409088, \"dof_per_node\": 3, \"ksp_its\": 5, \"time_per_it\": 0.0181509, \"cg_iteration_dps\": 530666000.00000006, \"FE_nodes_per_compute_node\": 3210687.0}, {\"file\": \"data/ceed/noether/petsc-bps-2020-07-01.0.txt\", \"backend\": \"/cpu/self/xsmm/blocked\", \"backend_memtype\": \"host\", \"hostname\": \"noether\", \"test\": \"PETSc CEED Benchmark Problem 1 \", \"num_procs\": 64, \"num_procs_node\": 64, \"degree\": 2, \"quadrature_pts\": 4, \"code\": \"libCEED\", \"bp\": \"1\", \"case\": \"scalar\", \"num_unknowns\": 6663753, \"num_elem\": 819008, \"dof_per_node\": 1, \"ksp_its\": 5, \"time_per_it\": 0.007036059999999999, \"cg_iteration_dps\": 947085000.0, \"FE_nodes_per_compute_node\": 6663753.0}, {\"file\": \"data/ceed/noether/petsc-bps-2020-07-01.0.txt\", \"backend\": \"/cpu/self/xsmm/blocked\", \"backend_memtype\": \"host\", \"hostname\": \"noether\", \"test\": \"PETSc CEED Benchmark Problem 2 \", \"num_procs\": 64, \"num_procs_node\": 64, \"degree\": 2, \"quadrature_pts\": 4, \"code\": \"libCEED\", \"bp\": \"2\", \"case\": \"vector\", \"num_unknowns\": 19991259, \"num_elem\": 819008, \"dof_per_node\": 3, \"ksp_its\": 5, \"time_per_it\": 0.025671199999999998, \"cg_iteration_dps\": 778740000.0, \"FE_nodes_per_compute_node\": 6663753.0}, {\"file\": \"data/ceed/noether/petsc-bps-2020-07-01.0.txt\", \"backend\": \"/cpu/self/xsmm/blocked\", \"backend_memtype\": \"host\", \"hostname\": \"noether\", \"test\": \"PETSc CEED Benchmark Problem 3 \", \"num_procs\": 64, \"num_procs_node\": 64, \"degree\": 2, \"quadrature_pts\": 4, \"code\": \"libCEED\", \"bp\": \"3\", \"case\": \"scalar\", \"num_unknowns\": 6444615, \"num_elem\": 819008, \"dof_per_node\": 1, \"ksp_its\": 5, \"time_per_it\": 0.01445074, \"cg_iteration_dps\": 445971000.0, \"FE_nodes_per_compute_node\": 6444615.0}, {\"file\": \"data/ceed/noether/petsc-bps-2020-07-01.0.txt\", \"backend\": \"/cpu/self/xsmm/blocked\", \"backend_memtype\": \"host\", \"hostname\": \"noether\", \"test\": \"PETSc CEED Benchmark Problem 4 \", \"num_procs\": 64, \"num_procs_node\": 64, \"degree\": 2, \"quadrature_pts\": 4, \"code\": \"libCEED\", \"bp\": \"4\", \"case\": \"vector\", \"num_unknowns\": 19333845, \"num_elem\": 819008, \"dof_per_node\": 3, \"ksp_its\": 5, \"time_per_it\": 0.0405182, \"cg_iteration_dps\": 477165000.0, \"FE_nodes_per_compute_node\": 6444615.0}, {\"file\": \"data/ceed/noether/petsc-bps-2020-07-01.0.txt\", \"backend\": \"/cpu/self/xsmm/blocked\", \"backend_memtype\": \"host\", \"hostname\": \"noether\", \"test\": \"PETSc CEED Benchmark Problem 1 \", \"num_procs\": 64, \"num_procs_node\": 64, \"degree\": 3, \"quadrature_pts\": 5, \"code\": \"libCEED\", \"bp\": \"1\", \"case\": \"scalar\", \"num_unknowns\": 55738, \"num_elem\": 1856, \"dof_per_node\": 1, \"ksp_its\": 14, \"time_per_it\": 4.6696e-05, \"cg_iteration_dps\": 1193640000.0, \"FE_nodes_per_compute_node\": 55738.0}, {\"file\": \"data/ceed/noether/petsc-bps-2020-07-01.0.txt\", \"backend\": \"/cpu/self/xsmm/blocked\", \"backend_memtype\": \"host\", \"hostname\": \"noether\", \"test\": \"PETSc CEED Benchmark Problem 2 \", \"num_procs\": 64, \"num_procs_node\": 64, \"degree\": 3, \"quadrature_pts\": 5, \"code\": \"libCEED\", \"bp\": \"2\", \"case\": \"vector\", \"num_unknowns\": 167214, \"num_elem\": 1856, \"dof_per_node\": 3, \"ksp_its\": 14, \"time_per_it\": 8.988357142857143e-05, \"cg_iteration_dps\": 1860340000.0, \"FE_nodes_per_compute_node\": 55738.0}, {\"file\": \"data/ceed/noether/petsc-bps-2020-07-01.0.txt\", \"backend\": \"/cpu/self/xsmm/blocked\", \"backend_memtype\": \"host\", \"hostname\": \"noether\", \"test\": \"PETSc CEED Benchmark Problem 3 \", \"num_procs\": 64, \"num_procs_node\": 64, \"degree\": 3, \"quadrature_pts\": 5, \"code\": \"libCEED\", \"bp\": \"3\", \"case\": \"scalar\", \"num_unknowns\": 47096, \"num_elem\": 1856, \"dof_per_node\": 1, \"ksp_its\": 20, \"time_per_it\": 6.71745e-05, \"cg_iteration_dps\": 701100000.0, \"FE_nodes_per_compute_node\": 47096.0}, {\"file\": \"data/ceed/noether/petsc-bps-2020-07-01.0.txt\", \"backend\": \"/cpu/self/xsmm/blocked\", \"backend_memtype\": \"host\", \"hostname\": \"noether\", \"test\": \"PETSc CEED Benchmark Problem 4 \", \"num_procs\": 64, \"num_procs_node\": 64, \"degree\": 3, \"quadrature_pts\": 5, \"code\": \"libCEED\", \"bp\": \"4\", \"case\": \"vector\", \"num_unknowns\": 141288, \"num_elem\": 1856, \"dof_per_node\": 3, \"ksp_its\": 20, \"time_per_it\": 0.000125551, \"cg_iteration_dps\": 1125340000.0, \"FE_nodes_per_compute_node\": 47096.0}, {\"file\": \"data/ceed/noether/petsc-bps-2020-07-01.0.txt\", \"backend\": \"/cpu/self/xsmm/blocked\", \"backend_memtype\": \"host\", \"hostname\": \"noether\", \"test\": \"PETSc CEED Benchmark Problem 1 \", \"num_procs\": 64, \"num_procs_node\": 64, \"degree\": 3, \"quadrature_pts\": 5, \"code\": \"libCEED\", \"bp\": \"1\", \"case\": \"scalar\", \"num_unknowns\": 109480, \"num_elem\": 3712, \"dof_per_node\": 1, \"ksp_its\": 13, \"time_per_it\": 6.772923076923077e-05, \"cg_iteration_dps\": 1616440000.0, \"FE_nodes_per_compute_node\": 109480.0}, {\"file\": \"data/ceed/noether/petsc-bps-2020-07-01.0.txt\", \"backend\": \"/cpu/self/xsmm/blocked\", \"backend_memtype\": \"host\", \"hostname\": \"noether\", \"test\": \"PETSc CEED Benchmark Problem 2 \", \"num_procs\": 64, \"num_procs_node\": 64, \"degree\": 3, \"quadrature_pts\": 5, \"code\": \"libCEED\", \"bp\": \"2\", \"case\": \"vector\", \"num_unknowns\": 328440, \"num_elem\": 3712, \"dof_per_node\": 3, \"ksp_its\": 13, \"time_per_it\": 0.00014440846153846153, \"cg_iteration_dps\": 2274380000.0, \"FE_nodes_per_compute_node\": 109480.0}, {\"file\": \"data/ceed/noether/petsc-bps-2020-07-01.0.txt\", \"backend\": \"/cpu/self/xsmm/blocked\", \"backend_memtype\": \"host\", \"hostname\": \"noether\", \"test\": \"PETSc CEED Benchmark Problem 3 \", \"num_procs\": 64, \"num_procs_node\": 64, \"degree\": 3, \"quadrature_pts\": 5, \"code\": \"libCEED\", \"bp\": \"3\", \"case\": \"scalar\", \"num_unknowns\": 95744, \"num_elem\": 3712, \"dof_per_node\": 1, \"ksp_its\": 20, \"time_per_it\": 0.00010327100000000001, \"cg_iteration_dps\": 927114000.0, \"FE_nodes_per_compute_node\": 95744.0}, {\"file\": \"data/ceed/noether/petsc-bps-2020-07-01.0.txt\", \"backend\": \"/cpu/self/xsmm/blocked\", \"backend_memtype\": \"host\", \"hostname\": \"noether\", \"test\": \"PETSc CEED Benchmark Problem 4 \", \"num_procs\": 64, \"num_procs_node\": 64, \"degree\": 3, \"quadrature_pts\": 5, \"code\": \"libCEED\", \"bp\": \"4\", \"case\": \"vector\", \"num_unknowns\": 287232, \"num_elem\": 3712, \"dof_per_node\": 3, \"ksp_its\": 20, \"time_per_it\": 0.0002130865, \"cg_iteration_dps\": 1347960000.0, \"FE_nodes_per_compute_node\": 95744.0}, {\"file\": \"data/ceed/noether/petsc-bps-2020-07-01.0.txt\", \"backend\": \"/cpu/self/xsmm/blocked\", \"backend_memtype\": \"host\", \"hostname\": \"noether\", \"test\": \"PETSc CEED Benchmark Problem 1 \", \"num_procs\": 64, \"num_procs_node\": 64, \"degree\": 3, \"quadrature_pts\": 5, \"code\": \"libCEED\", \"bp\": \"1\", \"case\": \"scalar\", \"num_unknowns\": 215740, \"num_elem\": 7936, \"dof_per_node\": 1, \"ksp_its\": 12, \"time_per_it\": 0.00011201666666666667, \"cg_iteration_dps\": 1925960000.0, \"FE_nodes_per_compute_node\": 215740.0}, {\"file\": \"data/ceed/noether/petsc-bps-2020-07-01.0.txt\", \"backend\": \"/cpu/self/xsmm/blocked\", \"backend_memtype\": \"host\", \"hostname\": \"noether\", \"test\": \"PETSc CEED Benchmark Problem 2 \", \"num_procs\": 64, \"num_procs_node\": 64, \"degree\": 3, \"quadrature_pts\": 5, \"code\": \"libCEED\", \"bp\": \"2\", \"case\": \"vector\", \"num_unknowns\": 647220, \"num_elem\": 7936, \"dof_per_node\": 3, \"ksp_its\": 12, \"time_per_it\": 0.00025061749999999997, \"cg_iteration_dps\": 2582500000.0, \"FE_nodes_per_compute_node\": 215740.0}, {\"file\": \"data/ceed/noether/petsc-bps-2020-07-01.0.txt\", \"backend\": \"/cpu/self/xsmm/blocked\", \"backend_memtype\": \"host\", \"hostname\": \"noether\", \"test\": \"PETSc CEED Benchmark Problem 3 \", \"num_procs\": 64, \"num_procs_node\": 64, \"degree\": 3, \"quadrature_pts\": 5, \"code\": \"libCEED\", \"bp\": \"3\", \"case\": \"scalar\", \"num_unknowns\": 194480, \"num_elem\": 7936, \"dof_per_node\": 1, \"ksp_its\": 20, \"time_per_it\": 0.000168884, \"cg_iteration_dps\": 1151560000.0, \"FE_nodes_per_compute_node\": 194480.0}, {\"file\": \"data/ceed/noether/petsc-bps-2020-07-01.0.txt\", \"backend\": \"/cpu/self/xsmm/blocked\", \"backend_memtype\": \"host\", \"hostname\": \"noether\", \"test\": \"PETSc CEED Benchmark Problem 4 \", \"num_procs\": 64, \"num_procs_node\": 64, \"degree\": 3, \"quadrature_pts\": 5, \"code\": \"libCEED\", \"bp\": \"4\", \"case\": \"vector\", \"num_unknowns\": 583440, \"num_elem\": 7936, \"dof_per_node\": 3, \"ksp_its\": 20, \"time_per_it\": 0.00040880450000000003, \"cg_iteration_dps\": 1427190000.0, \"FE_nodes_per_compute_node\": 194480.0}, {\"file\": \"data/ceed/noether/petsc-bps-2020-07-01.0.txt\", \"backend\": \"/cpu/self/xsmm/blocked\", \"backend_memtype\": \"host\", \"hostname\": \"noether\", \"test\": \"PETSc CEED Benchmark Problem 1 \", \"num_procs\": 64, \"num_procs_node\": 64, \"degree\": 3, \"quadrature_pts\": 5, \"code\": \"libCEED\", \"bp\": \"1\", \"case\": \"scalar\", \"num_unknowns\": 426790, \"num_elem\": 14848, \"dof_per_node\": 1, \"ksp_its\": 12, \"time_per_it\": 0.00018610583333333332, \"cg_iteration_dps\": 2293270000.0, \"FE_nodes_per_compute_node\": 426790.0}, {\"file\": \"data/ceed/noether/petsc-bps-2020-07-01.0.txt\", \"backend\": \"/cpu/self/xsmm/blocked\", \"backend_memtype\": \"host\", \"hostname\": \"noether\", \"test\": \"PETSc CEED Benchmark Problem 2 \", \"num_procs\": 64, \"num_procs_node\": 64, \"degree\": 3, \"quadrature_pts\": 5, \"code\": \"libCEED\", \"bp\": \"2\", \"case\": \"vector\", \"num_unknowns\": 1280370, \"num_elem\": 14848, \"dof_per_node\": 3, \"ksp_its\": 12, \"time_per_it\": 0.0004730225, \"cg_iteration_dps\": 2706780000.0, \"FE_nodes_per_compute_node\": 426790.0}, {\"file\": \"data/ceed/noether/petsc-bps-2020-07-01.0.txt\", \"backend\": \"/cpu/self/xsmm/blocked\", \"backend_memtype\": \"host\", \"hostname\": \"noether\", \"test\": \"PETSc CEED Benchmark Problem 3 \", \"num_procs\": 64, \"num_procs_node\": 64, \"degree\": 3, \"quadrature_pts\": 5, \"code\": \"libCEED\", \"bp\": \"3\", \"case\": \"scalar\", \"num_unknowns\": 393380, \"num_elem\": 14848, \"dof_per_node\": 1, \"ksp_its\": 20, \"time_per_it\": 0.0002995135, \"cg_iteration_dps\": 1313400000.0, \"FE_nodes_per_compute_node\": 393380.0}, {\"file\": \"data/ceed/noether/petsc-bps-2020-07-01.0.txt\", \"backend\": \"/cpu/self/xsmm/blocked\", \"backend_memtype\": \"host\", \"hostname\": \"noether\", \"test\": \"PETSc CEED Benchmark Problem 4 \", \"num_procs\": 64, \"num_procs_node\": 64, \"degree\": 3, \"quadrature_pts\": 5, \"code\": \"libCEED\", \"bp\": \"4\", \"case\": \"vector\", \"num_unknowns\": 1180140, \"num_elem\": 14848, \"dof_per_node\": 3, \"ksp_its\": 20, \"time_per_it\": 0.0008059749999999999, \"cg_iteration_dps\": 1464240000.0, \"FE_nodes_per_compute_node\": 393380.0}, {\"file\": \"data/ceed/noether/petsc-bps-2020-07-01.0.txt\", \"backend\": \"/cpu/self/xsmm/blocked\", \"backend_memtype\": \"host\", \"hostname\": \"noether\", \"test\": \"PETSc CEED Benchmark Problem 1 \", \"num_procs\": 64, \"num_procs_node\": 64, \"degree\": 3, \"quadrature_pts\": 5, \"code\": \"libCEED\", \"bp\": \"1\", \"case\": \"scalar\", \"num_unknowns\": 847168, \"num_elem\": 30080, \"dof_per_node\": 1, \"ksp_its\": 10, \"time_per_it\": 0.00033609899999999997, \"cg_iteration_dps\": 2520590000.0, \"FE_nodes_per_compute_node\": 847168.0}, {\"file\": \"data/ceed/noether/petsc-bps-2020-07-01.0.txt\", \"backend\": \"/cpu/self/xsmm/blocked\", \"backend_memtype\": \"host\", \"hostname\": \"noether\", \"test\": \"PETSc CEED Benchmark Problem 2 \", \"num_procs\": 64, \"num_procs_node\": 64, \"degree\": 3, \"quadrature_pts\": 5, \"code\": \"libCEED\", \"bp\": \"2\", \"case\": \"vector\", \"num_unknowns\": 2541504, \"num_elem\": 30080, \"dof_per_node\": 3, \"ksp_its\": 10, \"time_per_it\": 0.000985503, \"cg_iteration_dps\": 2578890000.0, \"FE_nodes_per_compute_node\": 847168.0}, {\"file\": \"data/ceed/noether/petsc-bps-2020-07-01.0.txt\", \"backend\": \"/cpu/self/xsmm/blocked\", \"backend_memtype\": \"host\", \"hostname\": \"noether\", \"test\": \"PETSc CEED Benchmark Problem 3 \", \"num_procs\": 64, \"num_procs_node\": 64, \"degree\": 3, \"quadrature_pts\": 5, \"code\": \"libCEED\", \"bp\": \"3\", \"case\": \"scalar\", \"num_unknowns\": 791780, \"num_elem\": 30080, \"dof_per_node\": 1, \"ksp_its\": 20, \"time_per_it\": 0.000633075, \"cg_iteration_dps\": 1250690000.0, \"FE_nodes_per_compute_node\": 791780.0}, {\"file\": \"data/ceed/noether/petsc-bps-2020-07-01.0.txt\", \"backend\": \"/cpu/self/xsmm/blocked\", \"backend_memtype\": \"host\", \"hostname\": \"noether\", \"test\": \"PETSc CEED Benchmark Problem 4 \", \"num_procs\": 64, \"num_procs_node\": 64, \"degree\": 3, \"quadrature_pts\": 5, \"code\": \"libCEED\", \"bp\": \"4\", \"case\": \"vector\", \"num_unknowns\": 2375340, \"num_elem\": 30080, \"dof_per_node\": 3, \"ksp_its\": 20, \"time_per_it\": 0.00184864, \"cg_iteration_dps\": 1284910000.0, \"FE_nodes_per_compute_node\": 791780.0}, {\"file\": \"data/ceed/noether/petsc-bps-2020-07-01.0.txt\", \"backend\": \"/cpu/self/xsmm/blocked\", \"backend_memtype\": \"host\", \"hostname\": \"noether\", \"test\": \"PETSc CEED Benchmark Problem 1 \", \"num_procs\": 64, \"num_procs_node\": 64, \"degree\": 3, \"quadrature_pts\": 5, \"code\": \"libCEED\", \"bp\": \"1\", \"case\": \"scalar\", \"num_unknowns\": 1686016, \"num_elem\": 61952, \"dof_per_node\": 1, \"ksp_its\": 9, \"time_per_it\": 0.00068548, \"cg_iteration_dps\": 2459610000.0, \"FE_nodes_per_compute_node\": 1686016.0}, {\"file\": \"data/ceed/noether/petsc-bps-2020-07-01.0.txt\", \"backend\": \"/cpu/self/xsmm/blocked\", \"backend_memtype\": \"host\", \"hostname\": \"noether\", \"test\": \"PETSc CEED Benchmark Problem 2 \", \"num_procs\": 64, \"num_procs_node\": 64, \"degree\": 3, \"quadrature_pts\": 5, \"code\": \"libCEED\", \"bp\": \"2\", \"case\": \"vector\", \"num_unknowns\": 5058048, \"num_elem\": 61952, \"dof_per_node\": 3, \"ksp_its\": 9, \"time_per_it\": 0.0030622444444444443, \"cg_iteration_dps\": 1651740000.0, \"FE_nodes_per_compute_node\": 1686016.0}, {\"file\": \"data/ceed/noether/petsc-bps-2020-07-01.0.txt\", \"backend\": \"/cpu/self/xsmm/blocked\", \"backend_memtype\": \"host\", \"hostname\": \"noether\", \"test\": \"PETSc CEED Benchmark Problem 3 \", \"num_procs\": 64, \"num_procs_node\": 64, \"degree\": 3, \"quadrature_pts\": 5, \"code\": \"libCEED\", \"bp\": \"3\", \"case\": \"scalar\", \"num_unknowns\": 1593152, \"num_elem\": 61952, \"dof_per_node\": 1, \"ksp_its\": 20, \"time_per_it\": 0.0022040000000000002, \"cg_iteration_dps\": 722845000.0, \"FE_nodes_per_compute_node\": 1593152.0}, {\"file\": \"data/ceed/noether/petsc-bps-2020-07-01.0.txt\", \"backend\": \"/cpu/self/xsmm/blocked\", \"backend_memtype\": \"host\", \"hostname\": \"noether\", \"test\": \"PETSc CEED Benchmark Problem 4 \", \"num_procs\": 64, \"num_procs_node\": 64, \"degree\": 3, \"quadrature_pts\": 5, \"code\": \"libCEED\", \"bp\": \"4\", \"case\": \"vector\", \"num_unknowns\": 4779456, \"num_elem\": 61952, \"dof_per_node\": 3, \"ksp_its\": 20, \"time_per_it\": 0.00457865, \"cg_iteration_dps\": 1043859999.9999999, \"FE_nodes_per_compute_node\": 1593152.0}, {\"file\": \"data/ceed/noether/petsc-bps-2020-07-01.0.txt\", \"backend\": \"/cpu/self/xsmm/blocked\", \"backend_memtype\": \"host\", \"hostname\": \"noether\", \"test\": \"PETSc CEED Benchmark Problem 1 \", \"num_procs\": 64, \"num_procs_node\": 64, \"degree\": 3, \"quadrature_pts\": 5, \"code\": \"libCEED\", \"bp\": \"1\", \"case\": \"scalar\", \"num_unknowns\": 3349408, \"num_elem\": 120384, \"dof_per_node\": 1, \"ksp_its\": 8, \"time_per_it\": 0.001930325, \"cg_iteration_dps\": 1735150000.0, \"FE_nodes_per_compute_node\": 3349408.0}, {\"file\": \"data/ceed/noether/petsc-bps-2020-07-01.0.txt\", \"backend\": \"/cpu/self/xsmm/blocked\", \"backend_memtype\": \"host\", \"hostname\": \"noether\", \"test\": \"PETSc CEED Benchmark Problem 2 \", \"num_procs\": 64, \"num_procs_node\": 64, \"degree\": 3, \"quadrature_pts\": 5, \"code\": \"libCEED\", \"bp\": \"2\", \"case\": \"vector\", \"num_unknowns\": 10048224, \"num_elem\": 120384, \"dof_per_node\": 3, \"ksp_its\": 5, \"time_per_it\": 0.00823712, \"cg_iteration_dps\": 1219870000.0, \"FE_nodes_per_compute_node\": 3349408.0}, {\"file\": \"data/ceed/noether/petsc-bps-2020-07-01.0.txt\", \"backend\": \"/cpu/self/xsmm/blocked\", \"backend_memtype\": \"host\", \"hostname\": \"noether\", \"test\": \"PETSc CEED Benchmark Problem 3 \", \"num_procs\": 64, \"num_procs_node\": 64, \"degree\": 3, \"quadrature_pts\": 5, \"code\": \"libCEED\", \"bp\": \"3\", \"case\": \"scalar\", \"num_unknowns\": 3205280, \"num_elem\": 120384, \"dof_per_node\": 1, \"ksp_its\": 20, \"time_per_it\": 0.004733144999999999, \"cg_iteration_dps\": 677199000.0, \"FE_nodes_per_compute_node\": 3205280.0}, {\"file\": \"data/ceed/noether/petsc-bps-2020-07-01.0.txt\", \"backend\": \"/cpu/self/xsmm/blocked\", \"backend_memtype\": \"host\", \"hostname\": \"noether\", \"test\": \"PETSc CEED Benchmark Problem 4 \", \"num_procs\": 64, \"num_procs_node\": 64, \"degree\": 3, \"quadrature_pts\": 5, \"code\": \"libCEED\", \"bp\": \"4\", \"case\": \"vector\", \"num_unknowns\": 9615840, \"num_elem\": 120384, \"dof_per_node\": 3, \"ksp_its\": 5, \"time_per_it\": 0.010361239999999999, \"cg_iteration_dps\": 928059000.0, \"FE_nodes_per_compute_node\": 3205280.0}, {\"file\": \"data/ceed/noether/petsc-bps-2020-07-01.0.txt\", \"backend\": \"/cpu/self/xsmm/blocked\", \"backend_memtype\": \"host\", \"hostname\": \"noether\", \"test\": \"PETSc CEED Benchmark Problem 1 \", \"num_procs\": 64, \"num_procs_node\": 64, \"degree\": 3, \"quadrature_pts\": 5, \"code\": \"libCEED\", \"bp\": \"1\", \"case\": \"scalar\", \"num_unknowns\": 6669520, \"num_elem\": 242496, \"dof_per_node\": 1, \"ksp_its\": 8, \"time_per_it\": 0.0053485375, \"cg_iteration_dps\": 1246980000.0, \"FE_nodes_per_compute_node\": 6669520.0}, {\"file\": \"data/ceed/noether/petsc-bps-2020-07-01.0.txt\", \"backend\": \"/cpu/self/xsmm/blocked\", \"backend_memtype\": \"host\", \"hostname\": \"noether\", \"test\": \"PETSc CEED Benchmark Problem 2 \", \"num_procs\": 64, \"num_procs_node\": 64, \"degree\": 3, \"quadrature_pts\": 5, \"code\": \"libCEED\", \"bp\": \"2\", \"case\": \"vector\", \"num_unknowns\": 20008560, \"num_elem\": 242496, \"dof_per_node\": 3, \"ksp_its\": 5, \"time_per_it\": 0.0229468, \"cg_iteration_dps\": 871951000.0, \"FE_nodes_per_compute_node\": 6669520.0}, {\"file\": \"data/ceed/noether/petsc-bps-2020-07-01.0.txt\", \"backend\": \"/cpu/self/xsmm/blocked\", \"backend_memtype\": \"host\", \"hostname\": \"noether\", \"test\": \"PETSc CEED Benchmark Problem 3 \", \"num_procs\": 64, \"num_procs_node\": 64, \"degree\": 3, \"quadrature_pts\": 5, \"code\": \"libCEED\", \"bp\": \"3\", \"case\": \"scalar\", \"num_unknowns\": 6438848, \"num_elem\": 242496, \"dof_per_node\": 1, \"ksp_its\": 5, \"time_per_it\": 0.00998674, \"cg_iteration_dps\": 644740000.0, \"FE_nodes_per_compute_node\": 6438848.0}, {\"file\": \"data/ceed/noether/petsc-bps-2020-07-01.0.txt\", \"backend\": \"/cpu/self/xsmm/blocked\", \"backend_memtype\": \"host\", \"hostname\": \"noether\", \"test\": \"PETSc CEED Benchmark Problem 4 \", \"num_procs\": 64, \"num_procs_node\": 64, \"degree\": 3, \"quadrature_pts\": 5, \"code\": \"libCEED\", \"bp\": \"4\", \"case\": \"vector\", \"num_unknowns\": 19316544, \"num_elem\": 242496, \"dof_per_node\": 3, \"ksp_its\": 5, \"time_per_it\": 0.025612600000000003, \"cg_iteration_dps\": 754179000.0, \"FE_nodes_per_compute_node\": 6438848.0}, {\"file\": \"data/ceed/noether/petsc-bps-2020-07-01.0.txt\", \"backend\": \"/cpu/self/xsmm/blocked\", \"backend_memtype\": \"host\", \"hostname\": \"noether\", \"test\": \"PETSc CEED Benchmark Problem 1 \", \"num_procs\": 64, \"num_procs_node\": 64, \"degree\": 4, \"quadrature_pts\": 6, \"code\": \"libCEED\", \"bp\": \"1\", \"case\": \"scalar\", \"num_unknowns\": 55473, \"num_elem\": 768, \"dof_per_node\": 1, \"ksp_its\": 12, \"time_per_it\": 4.9213583333333336e-05, \"cg_iteration_dps\": 1127190000.0, \"FE_nodes_per_compute_node\": 55473.0}, {\"file\": \"data/ceed/noether/petsc-bps-2020-07-01.0.txt\", \"backend\": \"/cpu/self/xsmm/blocked\", \"backend_memtype\": \"host\", \"hostname\": \"noether\", \"test\": \"PETSc CEED Benchmark Problem 2 \", \"num_procs\": 64, \"num_procs_node\": 64, \"degree\": 4, \"quadrature_pts\": 6, \"code\": \"libCEED\", \"bp\": \"2\", \"case\": \"vector\", \"num_unknowns\": 166419, \"num_elem\": 768, \"dof_per_node\": 3, \"ksp_its\": 12, \"time_per_it\": 8.722166666666667e-05, \"cg_iteration_dps\": 1908010000.0, \"FE_nodes_per_compute_node\": 55473.0}, {\"file\": \"data/ceed/noether/petsc-bps-2020-07-01.0.txt\", \"backend\": \"/cpu/self/xsmm/blocked\", \"backend_memtype\": \"host\", \"hostname\": \"noether\", \"test\": \"PETSc CEED Benchmark Problem 3 \", \"num_procs\": 64, \"num_procs_node\": 64, \"degree\": 4, \"quadrature_pts\": 6, \"code\": \"libCEED\", \"bp\": \"3\", \"case\": \"scalar\", \"num_unknowns\": 47151, \"num_elem\": 768, \"dof_per_node\": 1, \"ksp_its\": 20, \"time_per_it\": 6.7413e-05, \"cg_iteration_dps\": 699436000.0, \"FE_nodes_per_compute_node\": 47151.0}, {\"file\": \"data/ceed/noether/petsc-bps-2020-07-01.0.txt\", \"backend\": \"/cpu/self/xsmm/blocked\", \"backend_memtype\": \"host\", \"hostname\": \"noether\", \"test\": \"PETSc CEED Benchmark Problem 4 \", \"num_procs\": 64, \"num_procs_node\": 64, \"degree\": 4, \"quadrature_pts\": 6, \"code\": \"libCEED\", \"bp\": \"4\", \"case\": \"vector\", \"num_unknowns\": 141453, \"num_elem\": 768, \"dof_per_node\": 3, \"ksp_its\": 20, \"time_per_it\": 0.0001211045, \"cg_iteration_dps\": 1168020000.0, \"FE_nodes_per_compute_node\": 47151.0}, {\"file\": \"data/ceed/noether/petsc-bps-2020-07-01.0.txt\", \"backend\": \"/cpu/self/xsmm/blocked\", \"backend_memtype\": \"host\", \"hostname\": \"noether\", \"test\": \"PETSc CEED Benchmark Problem 1 \", \"num_procs\": 64, \"num_procs_node\": 64, \"degree\": 4, \"quadrature_pts\": 6, \"code\": \"libCEED\", \"bp\": \"1\", \"case\": \"scalar\", \"num_unknowns\": 109265, \"num_elem\": 1664, \"dof_per_node\": 1, \"ksp_its\": 11, \"time_per_it\": 6.623700000000001e-05, \"cg_iteration_dps\": 1649610000.0, \"FE_nodes_per_compute_node\": 109265.0}, {\"file\": \"data/ceed/noether/petsc-bps-2020-07-01.0.txt\", \"backend\": \"/cpu/self/xsmm/blocked\", \"backend_memtype\": \"host\", \"hostname\": \"noether\", \"test\": \"PETSc CEED Benchmark Problem 2 \", \"num_procs\": 64, \"num_procs_node\": 64, \"degree\": 4, \"quadrature_pts\": 6, \"code\": \"libCEED\", \"bp\": \"2\", \"case\": \"vector\", \"num_unknowns\": 327795, \"num_elem\": 1664, \"dof_per_node\": 3, \"ksp_its\": 11, \"time_per_it\": 0.0001367872727272727, \"cg_iteration_dps\": 2396390000.0, \"FE_nodes_per_compute_node\": 109265.0}, {\"file\": \"data/ceed/noether/petsc-bps-2020-07-01.0.txt\", \"backend\": \"/cpu/self/xsmm/blocked\", \"backend_memtype\": \"host\", \"hostname\": \"noether\", \"test\": \"PETSc CEED Benchmark Problem 3 \", \"num_procs\": 64, \"num_procs_node\": 64, \"degree\": 4, \"quadrature_pts\": 6, \"code\": \"libCEED\", \"bp\": \"3\", \"case\": \"scalar\", \"num_unknowns\": 95823, \"num_elem\": 1664, \"dof_per_node\": 1, \"ksp_its\": 20, \"time_per_it\": 9.24585e-05, \"cg_iteration_dps\": 1036390000.0000001, \"FE_nodes_per_compute_node\": 95823.0}, {\"file\": \"data/ceed/noether/petsc-bps-2020-07-01.0.txt\", \"backend\": \"/cpu/self/xsmm/blocked\", \"backend_memtype\": \"host\", \"hostname\": \"noether\", \"test\": \"PETSc CEED Benchmark Problem 4 \", \"num_procs\": 64, \"num_procs_node\": 64, \"degree\": 4, \"quadrature_pts\": 6, \"code\": \"libCEED\", \"bp\": \"4\", \"case\": \"vector\", \"num_unknowns\": 287469, \"num_elem\": 1664, \"dof_per_node\": 3, \"ksp_its\": 20, \"time_per_it\": 0.00020242950000000002, \"cg_iteration_dps\": 1420100000.0, \"FE_nodes_per_compute_node\": 95823.0}, {\"file\": \"data/ceed/noether/petsc-bps-2020-07-01.0.txt\", \"backend\": \"/cpu/self/xsmm/blocked\", \"backend_memtype\": \"host\", \"hostname\": \"noether\", \"test\": \"PETSc CEED Benchmark Problem 1 \", \"num_procs\": 64, \"num_procs_node\": 64, \"degree\": 4, \"quadrature_pts\": 6, \"code\": \"libCEED\", \"bp\": \"1\", \"case\": \"scalar\", \"num_unknowns\": 215865, \"num_elem\": 3072, \"dof_per_node\": 1, \"ksp_its\": 10, \"time_per_it\": 0.00010254400000000001, \"cg_iteration_dps\": 2105100000.0, \"FE_nodes_per_compute_node\": 215865.0}, {\"file\": \"data/ceed/noether/petsc-bps-2020-07-01.0.txt\", \"backend\": \"/cpu/self/xsmm/blocked\", \"backend_memtype\": \"host\", \"hostname\": \"noether\", \"test\": \"PETSc CEED Benchmark Problem 2 \", \"num_procs\": 64, \"num_procs_node\": 64, \"degree\": 4, \"quadrature_pts\": 6, \"code\": \"libCEED\", \"bp\": \"2\", \"case\": \"vector\", \"num_unknowns\": 647595, \"num_elem\": 3072, \"dof_per_node\": 3, \"ksp_its\": 10, \"time_per_it\": 0.00022783299999999999, \"cg_iteration_dps\": 2842410000.0, \"FE_nodes_per_compute_node\": 215865.0}, {\"file\": \"data/ceed/noether/petsc-bps-2020-07-01.0.txt\", \"backend\": \"/cpu/self/xsmm/blocked\", \"backend_memtype\": \"host\", \"hostname\": \"noether\", \"test\": \"PETSc CEED Benchmark Problem 3 \", \"num_procs\": 64, \"num_procs_node\": 64, \"degree\": 4, \"quadrature_pts\": 6, \"code\": \"libCEED\", \"bp\": \"3\", \"case\": \"scalar\", \"num_unknowns\": 194103, \"num_elem\": 3072, \"dof_per_node\": 1, \"ksp_its\": 20, \"time_per_it\": 0.000141227, \"cg_iteration_dps\": 1374400000.0, \"FE_nodes_per_compute_node\": 194103.0}, {\"file\": \"data/ceed/noether/petsc-bps-2020-07-01.0.txt\", \"backend\": \"/cpu/self/xsmm/blocked\", \"backend_memtype\": \"host\", \"hostname\": \"noether\", \"test\": \"PETSc CEED Benchmark Problem 4 \", \"num_procs\": 64, \"num_procs_node\": 64, \"degree\": 4, \"quadrature_pts\": 6, \"code\": \"libCEED\", \"bp\": \"4\", \"case\": \"vector\", \"num_unknowns\": 582309, \"num_elem\": 3072, \"dof_per_node\": 3, \"ksp_its\": 20, \"time_per_it\": 0.00033757700000000004, \"cg_iteration_dps\": 1724970000.0, \"FE_nodes_per_compute_node\": 194103.0}, {\"file\": \"data/ceed/noether/petsc-bps-2020-07-01.0.txt\", \"backend\": \"/cpu/self/xsmm/blocked\", \"backend_memtype\": \"host\", \"hostname\": \"noether\", \"test\": \"PETSc CEED Benchmark Problem 1 \", \"num_procs\": 64, \"num_procs_node\": 64, \"degree\": 4, \"quadrature_pts\": 6, \"code\": \"libCEED\", \"bp\": \"1\", \"case\": \"scalar\", \"num_unknowns\": 426465, \"num_elem\": 6144, \"dof_per_node\": 1, \"ksp_its\": 9, \"time_per_it\": 0.00016734333333333335, \"cg_iteration_dps\": 2548440000.0, \"FE_nodes_per_compute_node\": 426465.0}, {\"file\": \"data/ceed/noether/petsc-bps-2020-07-01.0.txt\", \"backend\": \"/cpu/self/xsmm/blocked\", \"backend_memtype\": \"host\", \"hostname\": \"noether\", \"test\": \"PETSc CEED Benchmark Problem 2 \", \"num_procs\": 64, \"num_procs_node\": 64, \"degree\": 4, \"quadrature_pts\": 6, \"code\": \"libCEED\", \"bp\": \"2\", \"case\": \"vector\", \"num_unknowns\": 1279395, \"num_elem\": 6144, \"dof_per_node\": 3, \"ksp_its\": 9, \"time_per_it\": 0.00042473, \"cg_iteration_dps\": 3012260000.0, \"FE_nodes_per_compute_node\": 426465.0}, {\"file\": \"data/ceed/noether/petsc-bps-2020-07-01.0.txt\", \"backend\": \"/cpu/self/xsmm/blocked\", \"backend_memtype\": \"host\", \"hostname\": \"noether\", \"test\": \"PETSc CEED Benchmark Problem 3 \", \"num_procs\": 64, \"num_procs_node\": 64, \"degree\": 4, \"quadrature_pts\": 6, \"code\": \"libCEED\", \"bp\": \"3\", \"case\": \"scalar\", \"num_unknowns\": 393183, \"num_elem\": 6144, \"dof_per_node\": 1, \"ksp_its\": 20, \"time_per_it\": 0.00025079249999999996, \"cg_iteration_dps\": 1567760000.0, \"FE_nodes_per_compute_node\": 393183.0}, {\"file\": \"data/ceed/noether/petsc-bps-2020-07-01.0.txt\", \"backend\": \"/cpu/self/xsmm/blocked\", \"backend_memtype\": \"host\", \"hostname\": \"noether\", \"test\": \"PETSc CEED Benchmark Problem 4 \", \"num_procs\": 64, \"num_procs_node\": 64, \"degree\": 4, \"quadrature_pts\": 6, \"code\": \"libCEED\", \"bp\": \"4\", \"case\": \"vector\", \"num_unknowns\": 1179549, \"num_elem\": 6144, \"dof_per_node\": 3, \"ksp_its\": 20, \"time_per_it\": 0.000661455, \"cg_iteration_dps\": 1783260000.0, \"FE_nodes_per_compute_node\": 393183.0}, {\"file\": \"data/ceed/noether/petsc-bps-2020-07-01.0.txt\", \"backend\": \"/cpu/self/xsmm/blocked\", \"backend_memtype\": \"host\", \"hostname\": \"noether\", \"test\": \"PETSc CEED Benchmark Problem 1 \", \"num_procs\": 64, \"num_procs_node\": 64, \"degree\": 4, \"quadrature_pts\": 6, \"code\": \"libCEED\", \"bp\": \"1\", \"case\": \"scalar\", \"num_unknowns\": 846885, \"num_elem\": 13440, \"dof_per_node\": 1, \"ksp_its\": 9, \"time_per_it\": 0.00028446, \"cg_iteration_dps\": 2977170000.0, \"FE_nodes_per_compute_node\": 846885.0}, {\"file\": \"data/ceed/noether/petsc-bps-2020-07-01.0.txt\", \"backend\": \"/cpu/self/xsmm/blocked\", \"backend_memtype\": \"host\", \"hostname\": \"noether\", \"test\": \"PETSc CEED Benchmark Problem 2 \", \"num_procs\": 64, \"num_procs_node\": 64, \"degree\": 4, \"quadrature_pts\": 6, \"code\": \"libCEED\", \"bp\": \"2\", \"case\": \"vector\", \"num_unknowns\": 2540655, \"num_elem\": 13440, \"dof_per_node\": 3, \"ksp_its\": 9, \"time_per_it\": 0.0008489555555555555, \"cg_iteration_dps\": 2992680000.0, \"FE_nodes_per_compute_node\": 846885.0}, {\"file\": \"data/ceed/noether/petsc-bps-2020-07-01.0.txt\", \"backend\": \"/cpu/self/xsmm/blocked\", \"backend_memtype\": \"host\", \"hostname\": \"noether\", \"test\": \"PETSc CEED Benchmark Problem 3 \", \"num_procs\": 64, \"num_procs_node\": 64, \"degree\": 4, \"quadrature_pts\": 6, \"code\": \"libCEED\", \"bp\": \"3\", \"case\": \"scalar\", \"num_unknowns\": 792099, \"num_elem\": 13440, \"dof_per_node\": 1, \"ksp_its\": 20, \"time_per_it\": 0.000487983, \"cg_iteration_dps\": 1623210000.0, \"FE_nodes_per_compute_node\": 792099.0}, {\"file\": \"data/ceed/noether/petsc-bps-2020-07-01.0.txt\", \"backend\": \"/cpu/self/xsmm/blocked\", \"backend_memtype\": \"host\", \"hostname\": \"noether\", \"test\": \"PETSc CEED Benchmark Problem 4 \", \"num_procs\": 64, \"num_procs_node\": 64, \"degree\": 4, \"quadrature_pts\": 6, \"code\": \"libCEED\", \"bp\": \"4\", \"case\": \"vector\", \"num_unknowns\": 2376297, \"num_elem\": 13440, \"dof_per_node\": 3, \"ksp_its\": 20, \"time_per_it\": 0.00157336, \"cg_iteration_dps\": 1510330000.0, \"FE_nodes_per_compute_node\": 792099.0}, {\"file\": \"data/ceed/noether/petsc-bps-2020-07-01.0.txt\", \"backend\": \"/cpu/self/xsmm/blocked\", \"backend_memtype\": \"host\", \"hostname\": \"noether\", \"test\": \"PETSc CEED Benchmark Problem 1 \", \"num_procs\": 64, \"num_procs_node\": 64, \"degree\": 4, \"quadrature_pts\": 6, \"code\": \"libCEED\", \"bp\": \"1\", \"case\": \"scalar\", \"num_unknowns\": 1680741, \"num_elem\": 24320, \"dof_per_node\": 1, \"ksp_its\": 8, \"time_per_it\": 0.00057044625, \"cg_iteration_dps\": 2946360000.0, \"FE_nodes_per_compute_node\": 1680741.0}, {\"file\": \"data/ceed/noether/petsc-bps-2020-07-01.0.txt\", \"backend\": \"/cpu/self/xsmm/blocked\", \"backend_memtype\": \"host\", \"hostname\": \"noether\", \"test\": \"PETSc CEED Benchmark Problem 2 \", \"num_procs\": 64, \"num_procs_node\": 64, \"degree\": 4, \"quadrature_pts\": 6, \"code\": \"libCEED\", \"bp\": \"2\", \"case\": \"vector\", \"num_unknowns\": 5042223, \"num_elem\": 24320, \"dof_per_node\": 3, \"ksp_its\": 8, \"time_per_it\": 0.003777025, \"cg_iteration_dps\": 1334970000.0, \"FE_nodes_per_compute_node\": 1680741.0}, {\"file\": \"data/ceed/noether/petsc-bps-2020-07-01.0.txt\", \"backend\": \"/cpu/self/xsmm/blocked\", \"backend_memtype\": \"host\", \"hostname\": \"noether\", \"test\": \"PETSc CEED Benchmark Problem 3 \", \"num_procs\": 64, \"num_procs_node\": 64, \"degree\": 4, \"quadrature_pts\": 6, \"code\": \"libCEED\", \"bp\": \"3\", \"case\": \"scalar\", \"num_unknowns\": 1596771, \"num_elem\": 24320, \"dof_per_node\": 1, \"ksp_its\": 20, \"time_per_it\": 0.001584565, \"cg_iteration_dps\": 1007700000.0, \"FE_nodes_per_compute_node\": 1596771.0}, {\"file\": \"data/ceed/noether/petsc-bps-2020-07-01.0.txt\", \"backend\": \"/cpu/self/xsmm/blocked\", \"backend_memtype\": \"host\", \"hostname\": \"noether\", \"test\": \"PETSc CEED Benchmark Problem 4 \", \"num_procs\": 64, \"num_procs_node\": 64, \"degree\": 4, \"quadrature_pts\": 6, \"code\": \"libCEED\", \"bp\": \"4\", \"case\": \"vector\", \"num_unknowns\": 4790313, \"num_elem\": 24320, \"dof_per_node\": 3, \"ksp_its\": 20, \"time_per_it\": 0.004348135, \"cg_iteration_dps\": 1101690000.0, \"FE_nodes_per_compute_node\": 1596771.0}, {\"file\": \"data/ceed/noether/petsc-bps-2020-07-01.0.txt\", \"backend\": \"/cpu/self/xsmm/blocked\", \"backend_memtype\": \"host\", \"hostname\": \"noether\", \"test\": \"PETSc CEED Benchmark Problem 1 \", \"num_procs\": 64, \"num_procs_node\": 64, \"degree\": 4, \"quadrature_pts\": 6, \"code\": \"libCEED\", \"bp\": \"1\", \"case\": \"scalar\", \"num_unknowns\": 3343809, \"num_elem\": 51712, \"dof_per_node\": 1, \"ksp_its\": 7, \"time_per_it\": 0.001582142857142857, \"cg_iteration_dps\": 2113460000.0, \"FE_nodes_per_compute_node\": 3343809.0}, {\"file\": \"data/ceed/noether/petsc-bps-2020-07-01.0.txt\", \"backend\": \"/cpu/self/xsmm/blocked\", \"backend_memtype\": \"host\", \"hostname\": \"noether\", \"test\": \"PETSc CEED Benchmark Problem 2 \", \"num_procs\": 64, \"num_procs_node\": 64, \"degree\": 4, \"quadrature_pts\": 6, \"code\": \"libCEED\", \"bp\": \"2\", \"case\": \"vector\", \"num_unknowns\": 10031427, \"num_elem\": 51712, \"dof_per_node\": 3, \"ksp_its\": 7, \"time_per_it\": 0.007756614285714286, \"cg_iteration_dps\": 1293270000.0, \"FE_nodes_per_compute_node\": 3343809.0}, {\"file\": \"data/ceed/noether/petsc-bps-2020-07-01.0.txt\", \"backend\": \"/cpu/self/xsmm/blocked\", \"backend_memtype\": \"host\", \"hostname\": \"noether\", \"test\": \"PETSc CEED Benchmark Problem 3 \", \"num_procs\": 64, \"num_procs_node\": 64, \"degree\": 4, \"quadrature_pts\": 6, \"code\": \"libCEED\", \"bp\": \"3\", \"case\": \"scalar\", \"num_unknowns\": 3210687, \"num_elem\": 51712, \"dof_per_node\": 1, \"ksp_its\": 20, \"time_per_it\": 0.00398134, \"cg_iteration_dps\": 806434000.0, \"FE_nodes_per_compute_node\": 3210687.0}, {\"file\": \"data/ceed/noether/petsc-bps-2020-07-01.0.txt\", \"backend\": \"/cpu/self/xsmm/blocked\", \"backend_memtype\": \"host\", \"hostname\": \"noether\", \"test\": \"PETSc CEED Benchmark Problem 4 \", \"num_procs\": 64, \"num_procs_node\": 64, \"degree\": 4, \"quadrature_pts\": 6, \"code\": \"libCEED\", \"bp\": \"4\", \"case\": \"vector\", \"num_unknowns\": 9632061, \"num_elem\": 51712, \"dof_per_node\": 3, \"ksp_its\": 20, \"time_per_it\": 0.00941595, \"cg_iteration_dps\": 1022950000.0, \"FE_nodes_per_compute_node\": 3210687.0}, {\"file\": \"data/ceed/noether/petsc-bps-2020-07-01.0.txt\", \"backend\": \"/cpu/self/xsmm/blocked\", \"backend_memtype\": \"host\", \"hostname\": \"noether\", \"test\": \"PETSc CEED Benchmark Problem 1 \", \"num_procs\": 64, \"num_procs_node\": 64, \"degree\": 4, \"quadrature_pts\": 6, \"code\": \"libCEED\", \"bp\": \"1\", \"case\": \"scalar\", \"num_unknowns\": 6663753, \"num_elem\": 100800, \"dof_per_node\": 1, \"ksp_its\": 6, \"time_per_it\": 0.00494755, \"cg_iteration_dps\": 1346880000.0, \"FE_nodes_per_compute_node\": 6663753.0}, {\"file\": \"data/ceed/noether/petsc-bps-2020-07-01.0.txt\", \"backend\": \"/cpu/self/xsmm/blocked\", \"backend_memtype\": \"host\", \"hostname\": \"noether\", \"test\": \"PETSc CEED Benchmark Problem 2 \", \"num_procs\": 64, \"num_procs_node\": 64, \"degree\": 4, \"quadrature_pts\": 6, \"code\": \"libCEED\", \"bp\": \"2\", \"case\": \"vector\", \"num_unknowns\": 19991259, \"num_elem\": 100800, \"dof_per_node\": 3, \"ksp_its\": 5, \"time_per_it\": 0.022084200000000002, \"cg_iteration_dps\": 905228000.0, \"FE_nodes_per_compute_node\": 6663753.0}, {\"file\": \"data/ceed/noether/petsc-bps-2020-07-01.0.txt\", \"backend\": \"/cpu/self/xsmm/blocked\", \"backend_memtype\": \"host\", \"hostname\": \"noether\", \"test\": \"PETSc CEED Benchmark Problem 3 \", \"num_procs\": 64, \"num_procs_node\": 64, \"degree\": 4, \"quadrature_pts\": 6, \"code\": \"libCEED\", \"bp\": \"3\", \"case\": \"scalar\", \"num_unknowns\": 6444615, \"num_elem\": 100800, \"dof_per_node\": 1, \"ksp_its\": 5, \"time_per_it\": 0.00846114, \"cg_iteration_dps\": 761672000.0, \"FE_nodes_per_compute_node\": 6444615.0}, {\"file\": \"data/ceed/noether/petsc-bps-2020-07-01.0.txt\", \"backend\": \"/cpu/self/xsmm/blocked\", \"backend_memtype\": \"host\", \"hostname\": \"noether\", \"test\": \"PETSc CEED Benchmark Problem 4 \", \"num_procs\": 64, \"num_procs_node\": 64, \"degree\": 4, \"quadrature_pts\": 6, \"code\": \"libCEED\", \"bp\": \"4\", \"case\": \"vector\", \"num_unknowns\": 19333845, \"num_elem\": 100800, \"dof_per_node\": 3, \"ksp_its\": 5, \"time_per_it\": 0.0234736, \"cg_iteration_dps\": 823639000.0, \"FE_nodes_per_compute_node\": 6444615.0}, {\"file\": \"data/ceed/noether/petsc-bps-2020-07-01.0.txt\", \"backend\": \"/cpu/self/xsmm/blocked\", \"backend_memtype\": \"host\", \"hostname\": \"noether\", \"test\": \"PETSc CEED Benchmark Problem 1 \", \"num_procs\": 64, \"num_procs_node\": 64, \"degree\": 5, \"quadrature_pts\": 7, \"code\": \"libCEED\", \"bp\": \"1\", \"case\": \"scalar\", \"num_unknowns\": 56916, \"num_elem\": 384, \"dof_per_node\": 1, \"ksp_its\": 10, \"time_per_it\": 6.26564e-05, \"cg_iteration_dps\": 908383000.0, \"FE_nodes_per_compute_node\": 56916.0}, {\"file\": \"data/ceed/noether/petsc-bps-2020-07-01.0.txt\", \"backend\": \"/cpu/self/xsmm/blocked\", \"backend_memtype\": \"host\", \"hostname\": \"noether\", \"test\": \"PETSc CEED Benchmark Problem 2 \", \"num_procs\": 64, \"num_procs_node\": 64, \"degree\": 5, \"quadrature_pts\": 7, \"code\": \"libCEED\", \"bp\": \"2\", \"case\": \"vector\", \"num_unknowns\": 170748, \"num_elem\": 384, \"dof_per_node\": 3, \"ksp_its\": 10, \"time_per_it\": 0.00010569100000000002, \"cg_iteration_dps\": 1615540000.0, \"FE_nodes_per_compute_node\": 56916.0}, {\"file\": \"data/ceed/noether/petsc-bps-2020-07-01.0.txt\", \"backend\": \"/cpu/self/xsmm/blocked\", \"backend_memtype\": \"host\", \"hostname\": \"noether\", \"test\": \"PETSc CEED Benchmark Problem 3 \", \"num_procs\": 64, \"num_procs_node\": 64, \"degree\": 5, \"quadrature_pts\": 7, \"code\": \"libCEED\", \"bp\": \"3\", \"case\": \"scalar\", \"num_unknowns\": 48314, \"num_elem\": 384, \"dof_per_node\": 1, \"ksp_its\": 20, \"time_per_it\": 7.26105e-05, \"cg_iteration_dps\": 665387000.0, \"FE_nodes_per_compute_node\": 48314.0}, {\"file\": \"data/ceed/noether/petsc-bps-2020-07-01.0.txt\", \"backend\": \"/cpu/self/xsmm/blocked\", \"backend_memtype\": \"host\", \"hostname\": \"noether\", \"test\": \"PETSc CEED Benchmark Problem 4 \", \"num_procs\": 64, \"num_procs_node\": 64, \"degree\": 5, \"quadrature_pts\": 7, \"code\": \"libCEED\", \"bp\": \"4\", \"case\": \"vector\", \"num_unknowns\": 144942, \"num_elem\": 384, \"dof_per_node\": 3, \"ksp_its\": 20, \"time_per_it\": 0.0001398565, \"cg_iteration_dps\": 1036359999.9999999, \"FE_nodes_per_compute_node\": 48314.0}, {\"file\": \"data/ceed/noether/petsc-bps-2020-07-01.0.txt\", \"backend\": \"/cpu/self/xsmm/blocked\", \"backend_memtype\": \"host\", \"hostname\": \"noether\", \"test\": \"PETSc CEED Benchmark Problem 1 \", \"num_procs\": 64, \"num_procs_node\": 64, \"degree\": 5, \"quadrature_pts\": 7, \"code\": \"libCEED\", \"bp\": \"1\", \"case\": \"scalar\", \"num_unknowns\": 109296, \"num_elem\": 832, \"dof_per_node\": 1, \"ksp_its\": 9, \"time_per_it\": 7.237333333333334e-05, \"cg_iteration_dps\": 1510170000.0, \"FE_nodes_per_compute_node\": 109296.0}, {\"file\": \"data/ceed/noether/petsc-bps-2020-07-01.0.txt\", \"backend\": \"/cpu/self/xsmm/blocked\", \"backend_memtype\": \"host\", \"hostname\": \"noether\", \"test\": \"PETSc CEED Benchmark Problem 2 \", \"num_procs\": 64, \"num_procs_node\": 64, \"degree\": 5, \"quadrature_pts\": 7, \"code\": \"libCEED\", \"bp\": \"2\", \"case\": \"vector\", \"num_unknowns\": 327888, \"num_elem\": 832, \"dof_per_node\": 3, \"ksp_its\": 9, \"time_per_it\": 0.00013767333333333332, \"cg_iteration_dps\": 2381640000.0, \"FE_nodes_per_compute_node\": 109296.0}, {\"file\": \"data/ceed/noether/petsc-bps-2020-07-01.0.txt\", \"backend\": \"/cpu/self/xsmm/blocked\", \"backend_memtype\": \"host\", \"hostname\": \"noether\", \"test\": \"PETSc CEED Benchmark Problem 3 \", \"num_procs\": 64, \"num_procs_node\": 64, \"degree\": 5, \"quadrature_pts\": 7, \"code\": \"libCEED\", \"bp\": \"3\", \"case\": \"scalar\", \"num_unknowns\": 95744, \"num_elem\": 832, \"dof_per_node\": 1, \"ksp_its\": 20, \"time_per_it\": 9.53795e-05, \"cg_iteration_dps\": 1003820000.0, \"FE_nodes_per_compute_node\": 95744.0}, {\"file\": \"data/ceed/noether/petsc-bps-2020-07-01.0.txt\", \"backend\": \"/cpu/self/xsmm/blocked\", \"backend_memtype\": \"host\", \"hostname\": \"noether\", \"test\": \"PETSc CEED Benchmark Problem 4 \", \"num_procs\": 64, \"num_procs_node\": 64, \"degree\": 5, \"quadrature_pts\": 7, \"code\": \"libCEED\", \"bp\": \"4\", \"case\": \"vector\", \"num_unknowns\": 287232, \"num_elem\": 832, \"dof_per_node\": 3, \"ksp_its\": 20, \"time_per_it\": 0.000202775, \"cg_iteration_dps\": 1416510000.0, \"FE_nodes_per_compute_node\": 95744.0}, {\"file\": \"data/ceed/noether/petsc-bps-2020-07-01.0.txt\", \"backend\": \"/cpu/self/xsmm/blocked\", \"backend_memtype\": \"host\", \"hostname\": \"noether\", \"test\": \"PETSc CEED Benchmark Problem 1 \", \"num_procs\": 64, \"num_procs_node\": 64, \"degree\": 5, \"quadrature_pts\": 7, \"code\": \"libCEED\", \"bp\": \"1\", \"case\": \"scalar\", \"num_unknowns\": 215556, \"num_elem\": 1536, \"dof_per_node\": 1, \"ksp_its\": 9, \"time_per_it\": 9.735422222222222e-05, \"cg_iteration_dps\": 2214140000.0, \"FE_nodes_per_compute_node\": 215556.0}, {\"file\": \"data/ceed/noether/petsc-bps-2020-07-01.0.txt\", \"backend\": \"/cpu/self/xsmm/blocked\", \"backend_memtype\": \"host\", \"hostname\": \"noether\", \"test\": \"PETSc CEED Benchmark Problem 2 \", \"num_procs\": 64, \"num_procs_node\": 64, \"degree\": 5, \"quadrature_pts\": 7, \"code\": \"libCEED\", \"bp\": \"2\", \"case\": \"vector\", \"num_unknowns\": 646668, \"num_elem\": 1536, \"dof_per_node\": 3, \"ksp_its\": 9, \"time_per_it\": 0.00022453777777777775, \"cg_iteration_dps\": 2880000000.0, \"FE_nodes_per_compute_node\": 215556.0}, {\"file\": \"data/ceed/noether/petsc-bps-2020-07-01.0.txt\", \"backend\": \"/cpu/self/xsmm/blocked\", \"backend_memtype\": \"host\", \"hostname\": \"noether\", \"test\": \"PETSc CEED Benchmark Problem 3 \", \"num_procs\": 64, \"num_procs_node\": 64, \"degree\": 5, \"quadrature_pts\": 7, \"code\": \"libCEED\", \"bp\": \"3\", \"case\": \"scalar\", \"num_unknowns\": 194304, \"num_elem\": 1536, \"dof_per_node\": 1, \"ksp_its\": 20, \"time_per_it\": 0.00013914100000000002, \"cg_iteration_dps\": 1396450000.0, \"FE_nodes_per_compute_node\": 194304.0}, {\"file\": \"data/ceed/noether/petsc-bps-2020-07-01.0.txt\", \"backend\": \"/cpu/self/xsmm/blocked\", \"backend_memtype\": \"host\", \"hostname\": \"noether\", \"test\": \"PETSc CEED Benchmark Problem 4 \", \"num_procs\": 64, \"num_procs_node\": 64, \"degree\": 5, \"quadrature_pts\": 7, \"code\": \"libCEED\", \"bp\": \"4\", \"case\": \"vector\", \"num_unknowns\": 582912, \"num_elem\": 1536, \"dof_per_node\": 3, \"ksp_its\": 20, \"time_per_it\": 0.0003590225, \"cg_iteration_dps\": 1623610000.0, \"FE_nodes_per_compute_node\": 194304.0}, {\"file\": \"data/ceed/noether/petsc-bps-2020-07-01.0.txt\", \"backend\": \"/cpu/self/xsmm/blocked\", \"backend_memtype\": \"host\", \"hostname\": \"noether\", \"test\": \"PETSc CEED Benchmark Problem 1 \", \"num_procs\": 64, \"num_procs_node\": 64, \"degree\": 5, \"quadrature_pts\": 7, \"code\": \"libCEED\", \"bp\": \"1\", \"case\": \"scalar\", \"num_unknowns\": 426426, \"num_elem\": 3328, \"dof_per_node\": 1, \"ksp_its\": 8, \"time_per_it\": 0.00014671625, \"cg_iteration_dps\": 2906460000.0, \"FE_nodes_per_compute_node\": 426426.0}, {\"file\": \"data/ceed/noether/petsc-bps-2020-07-01.0.txt\", \"backend\": \"/cpu/self/xsmm/blocked\", \"backend_memtype\": \"host\", \"hostname\": \"noether\", \"test\": \"PETSc CEED Benchmark Problem 2 \", \"num_procs\": 64, \"num_procs_node\": 64, \"degree\": 5, \"quadrature_pts\": 7, \"code\": \"libCEED\", \"bp\": \"2\", \"case\": \"vector\", \"num_unknowns\": 1279278, \"num_elem\": 3328, \"dof_per_node\": 3, \"ksp_its\": 8, \"time_per_it\": 0.00038507625, \"cg_iteration_dps\": 3322150000.0, \"FE_nodes_per_compute_node\": 426426.0}, {\"file\": \"data/ceed/noether/petsc-bps-2020-07-01.0.txt\", \"backend\": \"/cpu/self/xsmm/blocked\", \"backend_memtype\": \"host\", \"hostname\": \"noether\", \"test\": \"PETSc CEED Benchmark Problem 3 \", \"num_procs\": 64, \"num_procs_node\": 64, \"degree\": 5, \"quadrature_pts\": 7, \"code\": \"libCEED\", \"bp\": \"3\", \"case\": \"scalar\", \"num_unknowns\": 393024, \"num_elem\": 3328, \"dof_per_node\": 1, \"ksp_its\": 20, \"time_per_it\": 0.0002266765, \"cg_iteration_dps\": 1733850000.0, \"FE_nodes_per_compute_node\": 393024.0}, {\"file\": \"data/ceed/noether/petsc-bps-2020-07-01.0.txt\", \"backend\": \"/cpu/self/xsmm/blocked\", \"backend_memtype\": \"host\", \"hostname\": \"noether\", \"test\": \"PETSc CEED Benchmark Problem 4 \", \"num_procs\": 64, \"num_procs_node\": 64, \"degree\": 5, \"quadrature_pts\": 7, \"code\": \"libCEED\", \"bp\": \"4\", \"case\": \"vector\", \"num_unknowns\": 1179072, \"num_elem\": 3328, \"dof_per_node\": 3, \"ksp_its\": 20, \"time_per_it\": 0.000629675, \"cg_iteration_dps\": 1872510000.0, \"FE_nodes_per_compute_node\": 393024.0}, {\"file\": \"data/ceed/noether/petsc-bps-2020-07-01.0.txt\", \"backend\": \"/cpu/self/xsmm/blocked\", \"backend_memtype\": \"host\", \"hostname\": \"noether\", \"test\": \"PETSc CEED Benchmark Problem 1 \", \"num_procs\": 64, \"num_procs_node\": 64, \"degree\": 5, \"quadrature_pts\": 7, \"code\": \"libCEED\", \"bp\": \"1\", \"case\": \"scalar\", \"num_unknowns\": 846336, \"num_elem\": 6400, \"dof_per_node\": 1, \"ksp_its\": 8, \"time_per_it\": 0.00025799875, \"cg_iteration_dps\": 3280390000.0, \"FE_nodes_per_compute_node\": 846336.0}, {\"file\": \"data/ceed/noether/petsc-bps-2020-07-01.0.txt\", \"backend\": \"/cpu/self/xsmm/blocked\", \"backend_memtype\": \"host\", \"hostname\": \"noether\", \"test\": \"PETSc CEED Benchmark Problem 2 \", \"num_procs\": 64, \"num_procs_node\": 64, \"degree\": 5, \"quadrature_pts\": 7, \"code\": \"libCEED\", \"bp\": \"2\", \"case\": \"vector\", \"num_unknowns\": 2539008, \"num_elem\": 6400, \"dof_per_node\": 3, \"ksp_its\": 8, \"time_per_it\": 0.00081956375, \"cg_iteration_dps\": 3098000000.0, \"FE_nodes_per_compute_node\": 846336.0}, {\"file\": \"data/ceed/noether/petsc-bps-2020-07-01.0.txt\", \"backend\": \"/cpu/self/xsmm/blocked\", \"backend_memtype\": \"host\", \"hostname\": \"noether\", \"test\": \"PETSc CEED Benchmark Problem 3 \", \"num_procs\": 64, \"num_procs_node\": 64, \"degree\": 5, \"quadrature_pts\": 7, \"code\": \"libCEED\", \"bp\": \"3\", \"case\": \"scalar\", \"num_unknowns\": 792984, \"num_elem\": 6400, \"dof_per_node\": 1, \"ksp_its\": 20, \"time_per_it\": 0.00044500850000000005, \"cg_iteration_dps\": 1781950000.0, \"FE_nodes_per_compute_node\": 792984.0}, {\"file\": \"data/ceed/noether/petsc-bps-2020-07-01.0.txt\", \"backend\": \"/cpu/self/xsmm/blocked\", \"backend_memtype\": \"host\", \"hostname\": \"noether\", \"test\": \"PETSc CEED Benchmark Problem 4 \", \"num_procs\": 64, \"num_procs_node\": 64, \"degree\": 5, \"quadrature_pts\": 7, \"code\": \"libCEED\", \"bp\": \"4\", \"case\": \"vector\", \"num_unknowns\": 2378952, \"num_elem\": 6400, \"dof_per_node\": 3, \"ksp_its\": 20, \"time_per_it\": 0.00148295, \"cg_iteration_dps\": 1604200000.0, \"FE_nodes_per_compute_node\": 792984.0}, {\"file\": \"data/ceed/noether/petsc-bps-2020-07-01.0.txt\", \"backend\": \"/cpu/self/xsmm/blocked\", \"backend_memtype\": \"host\", \"hostname\": \"noether\", \"test\": \"PETSc CEED Benchmark Problem 1 \", \"num_procs\": 64, \"num_procs_node\": 64, \"degree\": 5, \"quadrature_pts\": 7, \"code\": \"libCEED\", \"bp\": \"1\", \"case\": \"scalar\", \"num_unknowns\": 1681536, \"num_elem\": 13696, \"dof_per_node\": 1, \"ksp_its\": 7, \"time_per_it\": 0.00050136, \"cg_iteration_dps\": 3353950000.0, \"FE_nodes_per_compute_node\": 1681536.0}, {\"file\": \"data/ceed/noether/petsc-bps-2020-07-01.0.txt\", \"backend\": \"/cpu/self/xsmm/blocked\", \"backend_memtype\": \"host\", \"hostname\": \"noether\", \"test\": \"PETSc CEED Benchmark Problem 2 \", \"num_procs\": 64, \"num_procs_node\": 64, \"degree\": 5, \"quadrature_pts\": 7, \"code\": \"libCEED\", \"bp\": \"2\", \"case\": \"vector\", \"num_unknowns\": 5044608, \"num_elem\": 13696, \"dof_per_node\": 3, \"ksp_its\": 7, \"time_per_it\": 0.0028548571428571425, \"cg_iteration_dps\": 1767030000.0, \"FE_nodes_per_compute_node\": 1681536.0}, {\"file\": \"data/ceed/noether/petsc-bps-2020-07-01.0.txt\", \"backend\": \"/cpu/self/xsmm/blocked\", \"backend_memtype\": \"host\", \"hostname\": \"noether\", \"test\": \"PETSc CEED Benchmark Problem 3 \", \"num_procs\": 64, \"num_procs_node\": 64, \"degree\": 5, \"quadrature_pts\": 7, \"code\": \"libCEED\", \"bp\": \"3\", \"case\": \"scalar\", \"num_unknowns\": 1596684, \"num_elem\": 13696, \"dof_per_node\": 1, \"ksp_its\": 20, \"time_per_it\": 0.0012747400000000001, \"cg_iteration_dps\": 1252560000.0, \"FE_nodes_per_compute_node\": 1596684.0}, {\"file\": \"data/ceed/noether/petsc-bps-2020-07-01.0.txt\", \"backend\": \"/cpu/self/xsmm/blocked\", \"backend_memtype\": \"host\", \"hostname\": \"noether\", \"test\": \"PETSc CEED Benchmark Problem 4 \", \"num_procs\": 64, \"num_procs_node\": 64, \"degree\": 5, \"quadrature_pts\": 7, \"code\": \"libCEED\", \"bp\": \"4\", \"case\": \"vector\", \"num_unknowns\": 4790052, \"num_elem\": 13696, \"dof_per_node\": 3, \"ksp_its\": 20, \"time_per_it\": 0.00400661, \"cg_iteration_dps\": 1195540000.0, \"FE_nodes_per_compute_node\": 1596684.0}, {\"file\": \"data/ceed/noether/petsc-bps-2020-07-01.0.txt\", \"backend\": \"/cpu/self/xsmm/blocked\", \"backend_memtype\": \"host\", \"hostname\": \"noether\", \"test\": \"PETSc CEED Benchmark Problem 1 \", \"num_procs\": 64, \"num_procs_node\": 64, \"degree\": 5, \"quadrature_pts\": 7, \"code\": \"libCEED\", \"bp\": \"1\", \"case\": \"scalar\", \"num_unknowns\": 3345556, \"num_elem\": 25664, \"dof_per_node\": 1, \"ksp_its\": 6, \"time_per_it\": 0.001428525, \"cg_iteration_dps\": 2341970000.0, \"FE_nodes_per_compute_node\": 3345556.0}, {\"file\": \"data/ceed/noether/petsc-bps-2020-07-01.0.txt\", \"backend\": \"/cpu/self/xsmm/blocked\", \"backend_memtype\": \"host\", \"hostname\": \"noether\", \"test\": \"PETSc CEED Benchmark Problem 2 \", \"num_procs\": 64, \"num_procs_node\": 64, \"degree\": 5, \"quadrature_pts\": 7, \"code\": \"libCEED\", \"bp\": \"2\", \"case\": \"vector\", \"num_unknowns\": 10036668, \"num_elem\": 25664, \"dof_per_node\": 3, \"ksp_its\": 6, \"time_per_it\": 0.007886533333333333, \"cg_iteration_dps\": 1272630000.0, \"FE_nodes_per_compute_node\": 3345556.0}, {\"file\": \"data/ceed/noether/petsc-bps-2020-07-01.0.txt\", \"backend\": \"/cpu/self/xsmm/blocked\", \"backend_memtype\": \"host\", \"hostname\": \"noether\", \"test\": \"PETSc CEED Benchmark Problem 3 \", \"num_procs\": 64, \"num_procs_node\": 64, \"degree\": 5, \"quadrature_pts\": 7, \"code\": \"libCEED\", \"bp\": \"3\", \"case\": \"scalar\", \"num_unknowns\": 3210354, \"num_elem\": 25664, \"dof_per_node\": 1, \"ksp_its\": 20, \"time_per_it\": 0.003497075, \"cg_iteration_dps\": 918011000.0, \"FE_nodes_per_compute_node\": 3210354.0}, {\"file\": \"data/ceed/noether/petsc-bps-2020-07-01.0.txt\", \"backend\": \"/cpu/self/xsmm/blocked\", \"backend_memtype\": \"host\", \"hostname\": \"noether\", \"test\": \"PETSc CEED Benchmark Problem 4 \", \"num_procs\": 64, \"num_procs_node\": 64, \"degree\": 5, \"quadrature_pts\": 7, \"code\": \"libCEED\", \"bp\": \"4\", \"case\": \"vector\", \"num_unknowns\": 9631062, \"num_elem\": 25664, \"dof_per_node\": 3, \"ksp_its\": 20, \"time_per_it\": 0.009216249999999999, \"cg_iteration_dps\": 1045010000.0, \"FE_nodes_per_compute_node\": 3210354.0}, {\"file\": \"data/ceed/noether/petsc-bps-2020-07-01.0.txt\", \"backend\": \"/cpu/self/xsmm/blocked\", \"backend_memtype\": \"host\", \"hostname\": \"noether\", \"test\": \"PETSc CEED Benchmark Problem 1 \", \"num_procs\": 64, \"num_procs_node\": 64, \"degree\": 5, \"quadrature_pts\": 7, \"code\": \"libCEED\", \"bp\": \"1\", \"case\": \"scalar\", \"num_unknowns\": 6662271, \"num_elem\": 52224, \"dof_per_node\": 1, \"ksp_its\": 5, \"time_per_it\": 0.004862679999999999, \"cg_iteration_dps\": 1370080000.0, \"FE_nodes_per_compute_node\": 6662271.0}, {\"file\": \"data/ceed/noether/petsc-bps-2020-07-01.0.txt\", \"backend\": \"/cpu/self/xsmm/blocked\", \"backend_memtype\": \"host\", \"hostname\": \"noether\", \"test\": \"PETSc CEED Benchmark Problem 2 \", \"num_procs\": 64, \"num_procs_node\": 64, \"degree\": 5, \"quadrature_pts\": 7, \"code\": \"libCEED\", \"bp\": \"2\", \"case\": \"vector\", \"num_unknowns\": 19986813, \"num_elem\": 52224, \"dof_per_node\": 3, \"ksp_its\": 5, \"time_per_it\": 0.021859, \"cg_iteration_dps\": 914349000.0, \"FE_nodes_per_compute_node\": 6662271.0}, {\"file\": \"data/ceed/noether/petsc-bps-2020-07-01.0.txt\", \"backend\": \"/cpu/self/xsmm/blocked\", \"backend_memtype\": \"host\", \"hostname\": \"noether\", \"test\": \"PETSc CEED Benchmark Problem 3 \", \"num_procs\": 64, \"num_procs_node\": 64, \"degree\": 5, \"quadrature_pts\": 7, \"code\": \"libCEED\", \"bp\": \"3\", \"case\": \"scalar\", \"num_unknowns\": 6448869, \"num_elem\": 52224, \"dof_per_node\": 1, \"ksp_its\": 5, \"time_per_it\": 0.00777292, \"cg_iteration_dps\": 829658000.0, \"FE_nodes_per_compute_node\": 6448869.0}, {\"file\": \"data/ceed/noether/petsc-bps-2020-07-01.0.txt\", \"backend\": \"/cpu/self/xsmm/blocked\", \"backend_memtype\": \"host\", \"hostname\": \"noether\", \"test\": \"PETSc CEED Benchmark Problem 4 \", \"num_procs\": 64, \"num_procs_node\": 64, \"degree\": 5, \"quadrature_pts\": 7, \"code\": \"libCEED\", \"bp\": \"4\", \"case\": \"vector\", \"num_unknowns\": 19346607, \"num_elem\": 52224, \"dof_per_node\": 3, \"ksp_its\": 5, \"time_per_it\": 0.0229976, \"cg_iteration_dps\": 841246000.0, \"FE_nodes_per_compute_node\": 6448869.0}, {\"file\": \"data/ceed/noether/petsc-bps-2020-07-01.0.txt\", \"backend\": \"/cpu/self/xsmm/blocked\", \"backend_memtype\": \"host\", \"hostname\": \"noether\", \"test\": \"PETSc CEED Benchmark Problem 1 \", \"num_procs\": 64, \"num_procs_node\": 64, \"degree\": 6, \"quadrature_pts\": 8, \"code\": \"libCEED\", \"bp\": \"1\", \"case\": \"scalar\", \"num_unknowns\": 56203, \"num_elem\": 256, \"dof_per_node\": 1, \"ksp_its\": 9, \"time_per_it\": 6.580355555555556e-05, \"cg_iteration_dps\": 854103000.0, \"FE_nodes_per_compute_node\": 56203.0}, {\"file\": \"data/ceed/noether/petsc-bps-2020-07-01.0.txt\", \"backend\": \"/cpu/self/xsmm/blocked\", \"backend_memtype\": \"host\", \"hostname\": \"noether\", \"test\": \"PETSc CEED Benchmark Problem 2 \", \"num_procs\": 64, \"num_procs_node\": 64, \"degree\": 6, \"quadrature_pts\": 8, \"code\": \"libCEED\", \"bp\": \"2\", \"case\": \"vector\", \"num_unknowns\": 168609, \"num_elem\": 256, \"dof_per_node\": 3, \"ksp_its\": 9, \"time_per_it\": 0.00011764666666666667, \"cg_iteration_dps\": 1433190000.0, \"FE_nodes_per_compute_node\": 56203.0}, {\"file\": \"data/ceed/noether/petsc-bps-2020-07-01.0.txt\", \"backend\": \"/cpu/self/xsmm/blocked\", \"backend_memtype\": \"host\", \"hostname\": \"noether\", \"test\": \"PETSc CEED Benchmark Problem 3 \", \"num_procs\": 64, \"num_procs_node\": 64, \"degree\": 6, \"quadrature_pts\": 8, \"code\": \"libCEED\", \"bp\": \"3\", \"case\": \"scalar\", \"num_unknowns\": 47705, \"num_elem\": 256, \"dof_per_node\": 1, \"ksp_its\": 20, \"time_per_it\": 8.6105e-05, \"cg_iteration_dps\": 554034000.0, \"FE_nodes_per_compute_node\": 47705.0}, {\"file\": \"data/ceed/noether/petsc-bps-2020-07-01.0.txt\", \"backend\": \"/cpu/self/xsmm/blocked\", \"backend_memtype\": \"host\", \"hostname\": \"noether\", \"test\": \"PETSc CEED Benchmark Problem 4 \", \"num_procs\": 64, \"num_procs_node\": 64, \"degree\": 6, \"quadrature_pts\": 8, \"code\": \"libCEED\", \"bp\": \"4\", \"case\": \"vector\", \"num_unknowns\": 143115, \"num_elem\": 256, \"dof_per_node\": 3, \"ksp_its\": 20, \"time_per_it\": 0.00037088400000000004, \"cg_iteration_dps\": 385875000.0, \"FE_nodes_per_compute_node\": 47705.0}, {\"file\": \"data/ceed/noether/petsc-bps-2020-07-01.0.txt\", \"backend\": \"/cpu/self/xsmm/blocked\", \"backend_memtype\": \"host\", \"hostname\": \"noether\", \"test\": \"PETSc CEED Benchmark Problem 1 \", \"num_procs\": 64, \"num_procs_node\": 64, \"degree\": 6, \"quadrature_pts\": 8, \"code\": \"libCEED\", \"bp\": \"1\", \"case\": \"scalar\", \"num_unknowns\": 110593, \"num_elem\": 448, \"dof_per_node\": 1, \"ksp_its\": 8, \"time_per_it\": 7.1853375e-05, \"cg_iteration_dps\": 1539150000.0, \"FE_nodes_per_compute_node\": 110593.0}, {\"file\": \"data/ceed/noether/petsc-bps-2020-07-01.0.txt\", \"backend\": \"/cpu/self/xsmm/blocked\", \"backend_memtype\": \"host\", \"hostname\": \"noether\", \"test\": \"PETSc CEED Benchmark Problem 2 \", \"num_procs\": 64, \"num_procs_node\": 64, \"degree\": 6, \"quadrature_pts\": 8, \"code\": \"libCEED\", \"bp\": \"2\", \"case\": \"vector\", \"num_unknowns\": 331779, \"num_elem\": 448, \"dof_per_node\": 3, \"ksp_its\": 8, \"time_per_it\": 0.000149995, \"cg_iteration_dps\": 2211930000.0, \"FE_nodes_per_compute_node\": 110593.0}, {\"file\": \"data/ceed/noether/petsc-bps-2020-07-01.0.txt\", \"backend\": \"/cpu/self/xsmm/blocked\", \"backend_memtype\": \"host\", \"hostname\": \"noether\", \"test\": \"PETSc CEED Benchmark Problem 3 \", \"num_procs\": 64, \"num_procs_node\": 64, \"degree\": 6, \"quadrature_pts\": 8, \"code\": \"libCEED\", \"bp\": \"3\", \"case\": \"scalar\", \"num_unknowns\": 97055, \"num_elem\": 448, \"dof_per_node\": 1, \"ksp_its\": 20, \"time_per_it\": 9.28045e-05, \"cg_iteration_dps\": 1045800000.0, \"FE_nodes_per_compute_node\": 97055.0}, {\"file\": \"data/ceed/noether/petsc-bps-2020-07-01.0.txt\", \"backend\": \"/cpu/self/xsmm/blocked\", \"backend_memtype\": \"host\", \"hostname\": \"noether\", \"test\": \"PETSc CEED Benchmark Problem 4 \", \"num_procs\": 64, \"num_procs_node\": 64, \"degree\": 6, \"quadrature_pts\": 8, \"code\": \"libCEED\", \"bp\": \"4\", \"case\": \"vector\", \"num_unknowns\": 291165, \"num_elem\": 448, \"dof_per_node\": 3, \"ksp_its\": 20, \"time_per_it\": 0.0003712415, \"cg_iteration_dps\": 784301000.0, \"FE_nodes_per_compute_node\": 97055.0}, {\"file\": \"data/ceed/noether/petsc-bps-2020-07-01.0.txt\", \"backend\": \"/cpu/self/xsmm/blocked\", \"backend_memtype\": \"host\", \"hostname\": \"noether\", \"test\": \"PETSc CEED Benchmark Problem 1 \", \"num_procs\": 64, \"num_procs_node\": 64, \"degree\": 6, \"quadrature_pts\": 8, \"code\": \"libCEED\", \"bp\": \"1\", \"case\": \"scalar\", \"num_unknowns\": 218197, \"num_elem\": 960, \"dof_per_node\": 1, \"ksp_its\": 8, \"time_per_it\": 9.2417e-05, \"cg_iteration_dps\": 2361000000.0, \"FE_nodes_per_compute_node\": 218197.0}, {\"file\": \"data/ceed/noether/petsc-bps-2020-07-01.0.txt\", \"backend\": \"/cpu/self/xsmm/blocked\", \"backend_memtype\": \"host\", \"hostname\": \"noether\", \"test\": \"PETSc CEED Benchmark Problem 2 \", \"num_procs\": 64, \"num_procs_node\": 64, \"degree\": 6, \"quadrature_pts\": 8, \"code\": \"libCEED\", \"bp\": \"2\", \"case\": \"vector\", \"num_unknowns\": 654591, \"num_elem\": 960, \"dof_per_node\": 3, \"ksp_its\": 8, \"time_per_it\": 0.0002296275, \"cg_iteration_dps\": 2850670000.0, \"FE_nodes_per_compute_node\": 218197.0}, {\"file\": \"data/ceed/noether/petsc-bps-2020-07-01.0.txt\", \"backend\": \"/cpu/self/xsmm/blocked\", \"backend_memtype\": \"host\", \"hostname\": \"noether\", \"test\": \"PETSc CEED Benchmark Problem 3 \", \"num_procs\": 64, \"num_procs_node\": 64, \"degree\": 6, \"quadrature_pts\": 8, \"code\": \"libCEED\", \"bp\": \"3\", \"case\": \"scalar\", \"num_unknowns\": 196883, \"num_elem\": 960, \"dof_per_node\": 1, \"ksp_its\": 20, \"time_per_it\": 0.000133896, \"cg_iteration_dps\": 1470420000.0, \"FE_nodes_per_compute_node\": 196883.0}, {\"file\": \"data/ceed/noether/petsc-bps-2020-07-01.0.txt\", \"backend\": \"/cpu/self/xsmm/blocked\", \"backend_memtype\": \"host\", \"hostname\": \"noether\", \"test\": \"PETSc CEED Benchmark Problem 4 \", \"num_procs\": 64, \"num_procs_node\": 64, \"degree\": 6, \"quadrature_pts\": 8, \"code\": \"libCEED\", \"bp\": \"4\", \"case\": \"vector\", \"num_unknowns\": 590649, \"num_elem\": 960, \"dof_per_node\": 3, \"ksp_its\": 20, \"time_per_it\": 0.0007727999999999999, \"cg_iteration_dps\": 764299000.0, \"FE_nodes_per_compute_node\": 196883.0}, {\"file\": \"data/ceed/noether/petsc-bps-2020-07-01.0.txt\", \"backend\": \"/cpu/self/xsmm/blocked\", \"backend_memtype\": \"host\", \"hostname\": \"noether\", \"test\": \"PETSc CEED Benchmark Problem 1 \", \"num_procs\": 64, \"num_procs_node\": 64, \"degree\": 6, \"quadrature_pts\": 8, \"code\": \"libCEED\", \"bp\": \"1\", \"case\": \"scalar\", \"num_unknowns\": 427915, \"num_elem\": 1856, \"dof_per_node\": 1, \"ksp_its\": 7, \"time_per_it\": 0.00014294857142857143, \"cg_iteration_dps\": 2993480000.0, \"FE_nodes_per_compute_node\": 427915.0}, {\"file\": \"data/ceed/noether/petsc-bps-2020-07-01.0.txt\", \"backend\": \"/cpu/self/xsmm/blocked\", \"backend_memtype\": \"host\", \"hostname\": \"noether\", \"test\": \"PETSc CEED Benchmark Problem 2 \", \"num_procs\": 64, \"num_procs_node\": 64, \"degree\": 6, \"quadrature_pts\": 8, \"code\": \"libCEED\", \"bp\": \"2\", \"case\": \"vector\", \"num_unknowns\": 1283745, \"num_elem\": 1856, \"dof_per_node\": 3, \"ksp_its\": 7, \"time_per_it\": 0.0003788471428571428, \"cg_iteration_dps\": 3388560000.0, \"FE_nodes_per_compute_node\": 427915.0}, {\"file\": \"data/ceed/noether/petsc-bps-2020-07-01.0.txt\", \"backend\": \"/cpu/self/xsmm/blocked\", \"backend_memtype\": \"host\", \"hostname\": \"noether\", \"test\": \"PETSc CEED Benchmark Problem 3 \", \"num_procs\": 64, \"num_procs_node\": 64, \"degree\": 6, \"quadrature_pts\": 8, \"code\": \"libCEED\", \"bp\": \"3\", \"case\": \"scalar\", \"num_unknowns\": 393353, \"num_elem\": 1856, \"dof_per_node\": 1, \"ksp_its\": 20, \"time_per_it\": 0.000257945, \"cg_iteration_dps\": 1524950000.0, \"FE_nodes_per_compute_node\": 393353.0}, {\"file\": \"data/ceed/noether/petsc-bps-2020-07-01.0.txt\", \"backend\": \"/cpu/self/xsmm/blocked\", \"backend_memtype\": \"host\", \"hostname\": \"noether\", \"test\": \"PETSc CEED Benchmark Problem 4 \", \"num_procs\": 64, \"num_procs_node\": 64, \"degree\": 6, \"quadrature_pts\": 8, \"code\": \"libCEED\", \"bp\": \"4\", \"case\": \"vector\", \"num_unknowns\": 1180059, \"num_elem\": 1856, \"dof_per_node\": 3, \"ksp_its\": 20, \"time_per_it\": 0.00152352, \"cg_iteration_dps\": 774562000.0, \"FE_nodes_per_compute_node\": 393353.0}, {\"file\": \"data/ceed/noether/petsc-bps-2020-07-01.0.txt\", \"backend\": \"/cpu/self/xsmm/blocked\", \"backend_memtype\": \"host\", \"hostname\": \"noether\", \"test\": \"PETSc CEED Benchmark Problem 1 \", \"num_procs\": 64, \"num_procs_node\": 64, \"degree\": 6, \"quadrature_pts\": 8, \"code\": \"libCEED\", \"bp\": \"1\", \"case\": \"scalar\", \"num_unknowns\": 847483, \"num_elem\": 3712, \"dof_per_node\": 1, \"ksp_its\": 6, \"time_per_it\": 0.0002551083333333333, \"cg_iteration_dps\": 3322060000.0, \"FE_nodes_per_compute_node\": 847483.0}, {\"file\": \"data/ceed/noether/petsc-bps-2020-07-01.0.txt\", \"backend\": \"/cpu/self/xsmm/blocked\", \"backend_memtype\": \"host\", \"hostname\": \"noether\", \"test\": \"PETSc CEED Benchmark Problem 2 \", \"num_procs\": 64, \"num_procs_node\": 64, \"degree\": 6, \"quadrature_pts\": 8, \"code\": \"libCEED\", \"bp\": \"2\", \"case\": \"vector\", \"num_unknowns\": 2542449, \"num_elem\": 3712, \"dof_per_node\": 3, \"ksp_its\": 6, \"time_per_it\": 0.0008339083333333334, \"cg_iteration_dps\": 3048830000.0, \"FE_nodes_per_compute_node\": 847483.0}, {\"file\": \"data/ceed/noether/petsc-bps-2020-07-01.0.txt\", \"backend\": \"/cpu/self/xsmm/blocked\", \"backend_memtype\": \"host\", \"hostname\": \"noether\", \"test\": \"PETSc CEED Benchmark Problem 3 \", \"num_procs\": 64, \"num_procs_node\": 64, \"degree\": 6, \"quadrature_pts\": 8, \"code\": \"libCEED\", \"bp\": \"3\", \"case\": \"scalar\", \"num_unknowns\": 792545, \"num_elem\": 3712, \"dof_per_node\": 1, \"ksp_its\": 20, \"time_per_it\": 0.00048718449999999994, \"cg_iteration_dps\": 1626790000.0, \"FE_nodes_per_compute_node\": 792545.0}, {\"file\": \"data/ceed/noether/petsc-bps-2020-07-01.0.txt\", \"backend\": \"/cpu/self/xsmm/blocked\", \"backend_memtype\": \"host\", \"hostname\": \"noether\", \"test\": \"PETSc CEED Benchmark Problem 4 \", \"num_procs\": 64, \"num_procs_node\": 64, \"degree\": 6, \"quadrature_pts\": 8, \"code\": \"libCEED\", \"bp\": \"4\", \"case\": \"vector\", \"num_unknowns\": 2377635, \"num_elem\": 3712, \"dof_per_node\": 3, \"ksp_its\": 20, \"time_per_it\": 0.0033868450000000003, \"cg_iteration_dps\": 702021000.0, \"FE_nodes_per_compute_node\": 792545.0}, {\"file\": \"data/ceed/noether/petsc-bps-2020-07-01.0.txt\", \"backend\": \"/cpu/self/xsmm/blocked\", \"backend_memtype\": \"host\", \"hostname\": \"noether\", \"test\": \"PETSc CEED Benchmark Problem 1 \", \"num_procs\": 64, \"num_procs_node\": 64, \"degree\": 6, \"quadrature_pts\": 8, \"code\": \"libCEED\", \"bp\": \"1\", \"case\": \"scalar\", \"num_unknowns\": 1682317, \"num_elem\": 7936, \"dof_per_node\": 1, \"ksp_its\": 6, \"time_per_it\": 0.0004909833333333333, \"cg_iteration_dps\": 3426420000.0, \"FE_nodes_per_compute_node\": 1682317.0}, {\"file\": \"data/ceed/noether/petsc-bps-2020-07-01.0.txt\", \"backend\": \"/cpu/self/xsmm/blocked\", \"backend_memtype\": \"host\", \"hostname\": \"noether\", \"test\": \"PETSc CEED Benchmark Problem 2 \", \"num_procs\": 64, \"num_procs_node\": 64, \"degree\": 6, \"quadrature_pts\": 8, \"code\": \"libCEED\", \"bp\": \"2\", \"case\": \"vector\", \"num_unknowns\": 5046951, \"num_elem\": 7936, \"dof_per_node\": 3, \"ksp_its\": 6, \"time_per_it\": 0.0029469, \"cg_iteration_dps\": 1712630000.0, \"FE_nodes_per_compute_node\": 1682317.0}, {\"file\": \"data/ceed/noether/petsc-bps-2020-07-01.0.txt\", \"backend\": \"/cpu/self/xsmm/blocked\", \"backend_memtype\": \"host\", \"hostname\": \"noether\", \"test\": \"PETSc CEED Benchmark Problem 3 \", \"num_procs\": 64, \"num_procs_node\": 64, \"degree\": 6, \"quadrature_pts\": 8, \"code\": \"libCEED\", \"bp\": \"3\", \"case\": \"scalar\", \"num_unknowns\": 1597283, \"num_elem\": 7936, \"dof_per_node\": 1, \"ksp_its\": 20, \"time_per_it\": 0.0011780850000000002, \"cg_iteration_dps\": 1355830000.0, \"FE_nodes_per_compute_node\": 1597283.0}, {\"file\": \"data/ceed/noether/petsc-bps-2020-07-01.0.txt\", \"backend\": \"/cpu/self/xsmm/blocked\", \"backend_memtype\": \"host\", \"hostname\": \"noether\", \"test\": \"PETSc CEED Benchmark Problem 4 \", \"num_procs\": 64, \"num_procs_node\": 64, \"degree\": 6, \"quadrature_pts\": 8, \"code\": \"libCEED\", \"bp\": \"4\", \"case\": \"vector\", \"num_unknowns\": 4791849, \"num_elem\": 7936, \"dof_per_node\": 3, \"ksp_its\": 20, \"time_per_it\": 0.0057421, \"cg_iteration_dps\": 834512000.0, \"FE_nodes_per_compute_node\": 1597283.0}, {\"file\": \"data/ceed/noether/petsc-bps-2020-07-01.0.txt\", \"backend\": \"/cpu/self/xsmm/blocked\", \"backend_memtype\": \"host\", \"hostname\": \"noether\", \"test\": \"PETSc CEED Benchmark Problem 1 \", \"num_procs\": 64, \"num_procs_node\": 64, \"degree\": 6, \"quadrature_pts\": 8, \"code\": \"libCEED\", \"bp\": \"1\", \"case\": \"scalar\", \"num_unknowns\": 3346147, \"num_elem\": 14848, \"dof_per_node\": 1, \"ksp_its\": 5, \"time_per_it\": 0.001387882, \"cg_iteration_dps\": 2410970000.0, \"FE_nodes_per_compute_node\": 3346147.0}, {\"file\": \"data/ceed/noether/petsc-bps-2020-07-01.0.txt\", \"backend\": \"/cpu/self/xsmm/blocked\", \"backend_memtype\": \"host\", \"hostname\": \"noether\", \"test\": \"PETSc CEED Benchmark Problem 2 \", \"num_procs\": 64, \"num_procs_node\": 64, \"degree\": 6, \"quadrature_pts\": 8, \"code\": \"libCEED\", \"bp\": \"2\", \"case\": \"vector\", \"num_unknowns\": 10038441, \"num_elem\": 14848, \"dof_per_node\": 3, \"ksp_its\": 5, \"time_per_it\": 0.007790179999999999, \"cg_iteration_dps\": 1288600000.0, \"FE_nodes_per_compute_node\": 3346147.0}, {\"file\": \"data/ceed/noether/petsc-bps-2020-07-01.0.txt\", \"backend\": \"/cpu/self/xsmm/blocked\", \"backend_memtype\": \"host\", \"hostname\": \"noether\", \"test\": \"PETSc CEED Benchmark Problem 3 \", \"num_procs\": 64, \"num_procs_node\": 64, \"degree\": 6, \"quadrature_pts\": 8, \"code\": \"libCEED\", \"bp\": \"3\", \"case\": \"scalar\", \"num_unknowns\": 3212513, \"num_elem\": 14848, \"dof_per_node\": 1, \"ksp_its\": 20, \"time_per_it\": 0.0033660750000000005, \"cg_iteration_dps\": 954379000.0, \"FE_nodes_per_compute_node\": 3212513.0}, {\"file\": \"data/ceed/noether/petsc-bps-2020-07-01.0.txt\", \"backend\": \"/cpu/self/xsmm/blocked\", \"backend_memtype\": \"host\", \"hostname\": \"noether\", \"test\": \"PETSc CEED Benchmark Problem 4 \", \"num_procs\": 64, \"num_procs_node\": 64, \"degree\": 6, \"quadrature_pts\": 8, \"code\": \"libCEED\", \"bp\": \"4\", \"case\": \"vector\", \"num_unknowns\": 9637539, \"num_elem\": 14848, \"dof_per_node\": 3, \"ksp_its\": 20, \"time_per_it\": 0.01202225, \"cg_iteration_dps\": 801642000.0, \"FE_nodes_per_compute_node\": 3212513.0}, {\"file\": \"data/ceed/noether/petsc-bps-2020-07-01.0.txt\", \"backend\": \"/cpu/self/xsmm/blocked\", \"backend_memtype\": \"host\", \"hostname\": \"noether\", \"test\": \"PETSc CEED Benchmark Problem 1 \", \"num_procs\": 64, \"num_procs_node\": 64, \"degree\": 6, \"quadrature_pts\": 8, \"code\": \"libCEED\", \"bp\": \"1\", \"case\": \"scalar\", \"num_unknowns\": 6664801, \"num_elem\": 30080, \"dof_per_node\": 1, \"ksp_its\": 5, \"time_per_it\": 0.004686839999999999, \"cg_iteration_dps\": 1422030000.0, \"FE_nodes_per_compute_node\": 6664801.0}, {\"file\": \"data/ceed/noether/petsc-bps-2020-07-01.0.txt\", \"backend\": \"/cpu/self/xsmm/blocked\", \"backend_memtype\": \"host\", \"hostname\": \"noether\", \"test\": \"PETSc CEED Benchmark Problem 2 \", \"num_procs\": 64, \"num_procs_node\": 64, \"degree\": 6, \"quadrature_pts\": 8, \"code\": \"libCEED\", \"bp\": \"2\", \"case\": \"vector\", \"num_unknowns\": 19994403, \"num_elem\": 30080, \"dof_per_node\": 3, \"ksp_its\": 5, \"time_per_it\": 0.022215199999999997, \"cg_iteration_dps\": 900034000.0, \"FE_nodes_per_compute_node\": 6664801.0}, {\"file\": \"data/ceed/noether/petsc-bps-2020-07-01.0.txt\", \"backend\": \"/cpu/self/xsmm/blocked\", \"backend_memtype\": \"host\", \"hostname\": \"noether\", \"test\": \"PETSc CEED Benchmark Problem 3 \", \"num_procs\": 64, \"num_procs_node\": 64, \"degree\": 6, \"quadrature_pts\": 8, \"code\": \"libCEED\", \"bp\": \"3\", \"case\": \"scalar\", \"num_unknowns\": 6443255, \"num_elem\": 30080, \"dof_per_node\": 1, \"ksp_its\": 20, \"time_per_it\": 0.007403949999999999, \"cg_iteration_dps\": 870245000.0, \"FE_nodes_per_compute_node\": 6443255.0}, {\"file\": \"data/ceed/noether/petsc-bps-2020-07-01.0.txt\", \"backend\": \"/cpu/self/xsmm/blocked\", \"backend_memtype\": \"host\", \"hostname\": \"noether\", \"test\": \"PETSc CEED Benchmark Problem 4 \", \"num_procs\": 64, \"num_procs_node\": 64, \"degree\": 6, \"quadrature_pts\": 8, \"code\": \"libCEED\", \"bp\": \"4\", \"case\": \"vector\", \"num_unknowns\": 19329765, \"num_elem\": 30080, \"dof_per_node\": 3, \"ksp_its\": 5, \"time_per_it\": 0.0255106, \"cg_iteration_dps\": 757714000.0, \"FE_nodes_per_compute_node\": 6443255.0}, {\"file\": \"data/ceed/noether/petsc-bps-2020-07-01.0.txt\", \"backend\": \"/cpu/self/xsmm/blocked\", \"backend_memtype\": \"host\", \"hostname\": \"noether\", \"test\": \"PETSc CEED Benchmark Problem 1 \", \"num_procs\": 64, \"num_procs_node\": 64, \"degree\": 7, \"quadrature_pts\": 9, \"code\": \"libCEED\", \"bp\": \"1\", \"case\": \"scalar\", \"num_unknowns\": 55728, \"num_elem\": 192, \"dof_per_node\": 1, \"ksp_its\": 8, \"time_per_it\": 6.7681125e-05, \"cg_iteration_dps\": 823391000.0, \"FE_nodes_per_compute_node\": 55728.0}, {\"file\": \"data/ceed/noether/petsc-bps-2020-07-01.0.txt\", \"backend\": \"/cpu/self/xsmm/blocked\", \"backend_memtype\": \"host\", \"hostname\": \"noether\", \"test\": \"PETSc CEED Benchmark Problem 2 \", \"num_procs\": 64, \"num_procs_node\": 64, \"degree\": 7, \"quadrature_pts\": 9, \"code\": \"libCEED\", \"bp\": \"2\", \"case\": \"vector\", \"num_unknowns\": 167184, \"num_elem\": 192, \"dof_per_node\": 3, \"ksp_its\": 8, \"time_per_it\": 0.0001383425, \"cg_iteration_dps\": 1208480000.0, \"FE_nodes_per_compute_node\": 55728.0}, {\"file\": \"data/ceed/noether/petsc-bps-2020-07-01.0.txt\", \"backend\": \"/cpu/self/xsmm/blocked\", \"backend_memtype\": \"host\", \"hostname\": \"noether\", \"test\": \"PETSc CEED Benchmark Problem 3 \", \"num_procs\": 64, \"num_procs_node\": 64, \"degree\": 7, \"quadrature_pts\": 9, \"code\": \"libCEED\", \"bp\": \"3\", \"case\": \"scalar\", \"num_unknowns\": 47396, \"num_elem\": 192, \"dof_per_node\": 1, \"ksp_its\": 20, \"time_per_it\": 0.00010567899999999999, \"cg_iteration_dps\": 448490000.0, \"FE_nodes_per_compute_node\": 47396.0}, {\"file\": \"data/ceed/noether/petsc-bps-2020-07-01.0.txt\", \"backend\": \"/cpu/self/xsmm/blocked\", \"backend_memtype\": \"host\", \"hostname\": \"noether\", \"test\": \"PETSc CEED Benchmark Problem 4 \", \"num_procs\": 64, \"num_procs_node\": 64, \"degree\": 7, \"quadrature_pts\": 9, \"code\": \"libCEED\", \"bp\": \"4\", \"case\": \"vector\", \"num_unknowns\": 142188, \"num_elem\": 192, \"dof_per_node\": 3, \"ksp_its\": 20, \"time_per_it\": 0.00022797600000000001, \"cg_iteration_dps\": 623698000.0, \"FE_nodes_per_compute_node\": 47396.0}, {\"file\": \"data/ceed/noether/petsc-bps-2020-07-01.0.txt\", \"backend\": \"/cpu/self/xsmm/blocked\", \"backend_memtype\": \"host\", \"hostname\": \"noether\", \"test\": \"PETSc CEED Benchmark Problem 1 \", \"num_procs\": 64, \"num_procs_node\": 64, \"degree\": 7, \"quadrature_pts\": 9, \"code\": \"libCEED\", \"bp\": \"1\", \"case\": \"scalar\", \"num_unknowns\": 109908, \"num_elem\": 256, \"dof_per_node\": 1, \"ksp_its\": 7, \"time_per_it\": 8.228842857142857e-05, \"cg_iteration_dps\": 1335640000.0, \"FE_nodes_per_compute_node\": 109908.0}, {\"file\": \"data/ceed/noether/petsc-bps-2020-07-01.0.txt\", \"backend\": \"/cpu/self/xsmm/blocked\", \"backend_memtype\": \"host\", \"hostname\": \"noether\", \"test\": \"PETSc CEED Benchmark Problem 2 \", \"num_procs\": 64, \"num_procs_node\": 64, \"degree\": 7, \"quadrature_pts\": 9, \"code\": \"libCEED\", \"bp\": \"2\", \"case\": \"vector\", \"num_unknowns\": 329724, \"num_elem\": 256, \"dof_per_node\": 3, \"ksp_its\": 7, \"time_per_it\": 0.00017288714285714285, \"cg_iteration_dps\": 1907160000.0, \"FE_nodes_per_compute_node\": 109908.0}, {\"file\": \"data/ceed/noether/petsc-bps-2020-07-01.0.txt\", \"backend\": \"/cpu/self/xsmm/blocked\", \"backend_memtype\": \"host\", \"hostname\": \"noether\", \"test\": \"PETSc CEED Benchmark Problem 3 \", \"num_procs\": 64, \"num_procs_node\": 64, \"degree\": 7, \"quadrature_pts\": 9, \"code\": \"libCEED\", \"bp\": \"3\", \"case\": \"scalar\", \"num_unknowns\": 96186, \"num_elem\": 256, \"dof_per_node\": 1, \"ksp_its\": 20, \"time_per_it\": 0.000114131, \"cg_iteration_dps\": 842769000.0, \"FE_nodes_per_compute_node\": 96186.0}, {\"file\": \"data/ceed/noether/petsc-bps-2020-07-01.0.txt\", \"backend\": \"/cpu/self/xsmm/blocked\", \"backend_memtype\": \"host\", \"hostname\": \"noether\", \"test\": \"PETSc CEED Benchmark Problem 4 \", \"num_procs\": 64, \"num_procs_node\": 64, \"degree\": 7, \"quadrature_pts\": 9, \"code\": \"libCEED\", \"bp\": \"4\", \"case\": \"vector\", \"num_unknowns\": 288558, \"num_elem\": 256, \"dof_per_node\": 3, \"ksp_its\": 20, \"time_per_it\": 0.00025701500000000003, \"cg_iteration_dps\": 1122730000.0, \"FE_nodes_per_compute_node\": 96186.0}, {\"file\": \"data/ceed/noether/petsc-bps-2020-07-01.0.txt\", \"backend\": \"/cpu/self/xsmm/blocked\", \"backend_memtype\": \"host\", \"hostname\": \"noether\", \"test\": \"PETSc CEED Benchmark Problem 1 \", \"num_procs\": 64, \"num_procs_node\": 64, \"degree\": 7, \"quadrature_pts\": 9, \"code\": \"libCEED\", \"bp\": \"1\", \"case\": \"scalar\", \"num_unknowns\": 216763, \"num_elem\": 576, \"dof_per_node\": 1, \"ksp_its\": 7, \"time_per_it\": 0.000127588, \"cg_iteration_dps\": 1698930000.0, \"FE_nodes_per_compute_node\": 216763.0}, {\"file\": \"data/ceed/noether/petsc-bps-2020-07-01.0.txt\", \"backend\": \"/cpu/self/xsmm/blocked\", \"backend_memtype\": \"host\", \"hostname\": \"noether\", \"test\": \"PETSc CEED Benchmark Problem 2 \", \"num_procs\": 64, \"num_procs_node\": 64, \"degree\": 7, \"quadrature_pts\": 9, \"code\": \"libCEED\", \"bp\": \"2\", \"case\": \"vector\", \"num_unknowns\": 650289, \"num_elem\": 576, \"dof_per_node\": 3, \"ksp_its\": 7, \"time_per_it\": 0.0003111028571428572, \"cg_iteration_dps\": 2090270000.0, \"FE_nodes_per_compute_node\": 216763.0}, {\"file\": \"data/ceed/noether/petsc-bps-2020-07-01.0.txt\", \"backend\": \"/cpu/self/xsmm/blocked\", \"backend_memtype\": \"host\", \"hostname\": \"noether\", \"test\": \"PETSc CEED Benchmark Problem 3 \", \"num_procs\": 64, \"num_procs_node\": 64, \"degree\": 7, \"quadrature_pts\": 9, \"code\": \"libCEED\", \"bp\": \"3\", \"case\": \"scalar\", \"num_unknowns\": 195201, \"num_elem\": 576, \"dof_per_node\": 1, \"ksp_its\": 20, \"time_per_it\": 0.0001874685, \"cg_iteration_dps\": 1041250000.0, \"FE_nodes_per_compute_node\": 195201.0}, {\"file\": \"data/ceed/noether/petsc-bps-2020-07-01.0.txt\", \"backend\": \"/cpu/self/xsmm/blocked\", \"backend_memtype\": \"host\", \"hostname\": \"noether\", \"test\": \"PETSc CEED Benchmark Problem 4 \", \"num_procs\": 64, \"num_procs_node\": 64, \"degree\": 7, \"quadrature_pts\": 9, \"code\": \"libCEED\", \"bp\": \"4\", \"case\": \"vector\", \"num_unknowns\": 585603, \"num_elem\": 576, \"dof_per_node\": 3, \"ksp_its\": 20, \"time_per_it\": 0.0004719735, \"cg_iteration_dps\": 1240750000.0, \"FE_nodes_per_compute_node\": 195201.0}, {\"file\": \"data/ceed/noether/petsc-bps-2020-07-01.0.txt\", \"backend\": \"/cpu/self/xsmm/blocked\", \"backend_memtype\": \"host\", \"hostname\": \"noether\", \"test\": \"PETSc CEED Benchmark Problem 1 \", \"num_procs\": 64, \"num_procs_node\": 64, \"degree\": 7, \"quadrature_pts\": 9, \"code\": \"libCEED\", \"bp\": \"1\", \"case\": \"scalar\", \"num_unknowns\": 428800, \"num_elem\": 1088, \"dof_per_node\": 1, \"ksp_its\": 6, \"time_per_it\": 0.0001576345, \"cg_iteration_dps\": 2720220000.0, \"FE_nodes_per_compute_node\": 428800.0}, {\"file\": \"data/ceed/noether/petsc-bps-2020-07-01.0.txt\", \"backend\": \"/cpu/self/xsmm/blocked\", \"backend_memtype\": \"host\", \"hostname\": \"noether\", \"test\": \"PETSc CEED Benchmark Problem 2 \", \"num_procs\": 64, \"num_procs_node\": 64, \"degree\": 7, \"quadrature_pts\": 9, \"code\": \"libCEED\", \"bp\": \"2\", \"case\": \"vector\", \"num_unknowns\": 1286400, \"num_elem\": 1088, \"dof_per_node\": 3, \"ksp_its\": 6, \"time_per_it\": 0.00042152333333333336, \"cg_iteration_dps\": 3051780000.0, \"FE_nodes_per_compute_node\": 428800.0}, {\"file\": \"data/ceed/noether/petsc-bps-2020-07-01.0.txt\", \"backend\": \"/cpu/self/xsmm/blocked\", \"backend_memtype\": \"host\", \"hostname\": \"noether\", \"test\": \"PETSc CEED Benchmark Problem 3 \", \"num_procs\": 64, \"num_procs_node\": 64, \"degree\": 7, \"quadrature_pts\": 9, \"code\": \"libCEED\", \"bp\": \"3\", \"case\": \"scalar\", \"num_unknowns\": 392832, \"num_elem\": 1088, \"dof_per_node\": 1, \"ksp_its\": 20, \"time_per_it\": 0.00024435500000000003, \"cg_iteration_dps\": 1607630000.0, \"FE_nodes_per_compute_node\": 392832.0}, {\"file\": \"data/ceed/noether/petsc-bps-2020-07-01.0.txt\", \"backend\": \"/cpu/self/xsmm/blocked\", \"backend_memtype\": \"host\", \"hostname\": \"noether\", \"test\": \"PETSc CEED Benchmark Problem 4 \", \"num_procs\": 64, \"num_procs_node\": 64, \"degree\": 7, \"quadrature_pts\": 9, \"code\": \"libCEED\", \"bp\": \"4\", \"case\": \"vector\", \"num_unknowns\": 1178496, \"num_elem\": 1088, \"dof_per_node\": 3, \"ksp_its\": 20, \"time_per_it\": 0.000751505, \"cg_iteration_dps\": 1568180000.0, \"FE_nodes_per_compute_node\": 392832.0}, {\"file\": \"data/ceed/noether/petsc-bps-2020-07-01.0.txt\", \"backend\": \"/cpu/self/xsmm/blocked\", \"backend_memtype\": \"host\", \"hostname\": \"noether\", \"test\": \"PETSc CEED Benchmark Problem 1 \", \"num_procs\": 64, \"num_procs_node\": 64, \"degree\": 7, \"quadrature_pts\": 9, \"code\": \"libCEED\", \"bp\": \"1\", \"case\": \"scalar\", \"num_unknowns\": 849528, \"num_elem\": 2496, \"dof_per_node\": 1, \"ksp_its\": 5, \"time_per_it\": 0.00025382, \"cg_iteration_dps\": 3346960000.0, \"FE_nodes_per_compute_node\": 849528.0}, {\"file\": \"data/ceed/noether/petsc-bps-2020-07-01.0.txt\", \"backend\": \"/cpu/self/xsmm/blocked\", \"backend_memtype\": \"host\", \"hostname\": \"noether\", \"test\": \"PETSc CEED Benchmark Problem 2 \", \"num_procs\": 64, \"num_procs_node\": 64, \"degree\": 7, \"quadrature_pts\": 9, \"code\": \"libCEED\", \"bp\": \"2\", \"case\": \"vector\", \"num_unknowns\": 2548584, \"num_elem\": 2496, \"dof_per_node\": 3, \"ksp_its\": 5, \"time_per_it\": 0.000835896, \"cg_iteration_dps\": 3048930000.0, \"FE_nodes_per_compute_node\": 849528.0}, {\"file\": \"data/ceed/noether/petsc-bps-2020-07-01.0.txt\", \"backend\": \"/cpu/self/xsmm/blocked\", \"backend_memtype\": \"host\", \"hostname\": \"noether\", \"test\": \"PETSc CEED Benchmark Problem 3 \", \"num_procs\": 64, \"num_procs_node\": 64, \"degree\": 7, \"quadrature_pts\": 9, \"code\": \"libCEED\", \"bp\": \"3\", \"case\": \"scalar\", \"num_unknowns\": 792000, \"num_elem\": 2496, \"dof_per_node\": 1, \"ksp_its\": 20, \"time_per_it\": 0.00039804, \"cg_iteration_dps\": 1989750000.0, \"FE_nodes_per_compute_node\": 792000.0}, {\"file\": \"data/ceed/noether/petsc-bps-2020-07-01.0.txt\", \"backend\": \"/cpu/self/xsmm/blocked\", \"backend_memtype\": \"host\", \"hostname\": \"noether\", \"test\": \"PETSc CEED Benchmark Problem 4 \", \"num_procs\": 64, \"num_procs_node\": 64, \"degree\": 7, \"quadrature_pts\": 9, \"code\": \"libCEED\", \"bp\": \"4\", \"case\": \"vector\", \"num_unknowns\": 2376000, \"num_elem\": 2496, \"dof_per_node\": 3, \"ksp_its\": 20, \"time_per_it\": 0.001642225, \"cg_iteration_dps\": 1446820000.0, \"FE_nodes_per_compute_node\": 792000.0}, {\"file\": \"data/ceed/noether/petsc-bps-2020-07-01.0.txt\", \"backend\": \"/cpu/self/xsmm/blocked\", \"backend_memtype\": \"host\", \"hostname\": \"noether\", \"test\": \"PETSc CEED Benchmark Problem 1 \", \"num_procs\": 64, \"num_procs_node\": 64, \"degree\": 7, \"quadrature_pts\": 9, \"code\": \"libCEED\", \"bp\": \"1\", \"case\": \"scalar\", \"num_unknowns\": 1684152, \"num_elem\": 4736, \"dof_per_node\": 1, \"ksp_its\": 5, \"time_per_it\": 0.000483656, \"cg_iteration_dps\": 3482130000.0, \"FE_nodes_per_compute_node\": 1684152.0}, {\"file\": \"data/ceed/noether/petsc-bps-2020-07-01.0.txt\", \"backend\": \"/cpu/self/xsmm/blocked\", \"backend_memtype\": \"host\", \"hostname\": \"noether\", \"test\": \"PETSc CEED Benchmark Problem 2 \", \"num_procs\": 64, \"num_procs_node\": 64, \"degree\": 7, \"quadrature_pts\": 9, \"code\": \"libCEED\", \"bp\": \"2\", \"case\": \"vector\", \"num_unknowns\": 5052456, \"num_elem\": 4736, \"dof_per_node\": 3, \"ksp_its\": 5, \"time_per_it\": 0.0031732999999999996, \"cg_iteration_dps\": 1592180000.0, \"FE_nodes_per_compute_node\": 1684152.0}, {\"file\": \"data/ceed/noether/petsc-bps-2020-07-01.0.txt\", \"backend\": \"/cpu/self/xsmm/blocked\", \"backend_memtype\": \"host\", \"hostname\": \"noether\", \"test\": \"PETSc CEED Benchmark Problem 3 \", \"num_procs\": 64, \"num_procs_node\": 64, \"degree\": 7, \"quadrature_pts\": 9, \"code\": \"libCEED\", \"bp\": \"3\", \"case\": \"scalar\", \"num_unknowns\": 1598400, \"num_elem\": 4736, \"dof_per_node\": 1, \"ksp_its\": 20, \"time_per_it\": 0.001111255, \"cg_iteration_dps\": 1438370000.0, \"FE_nodes_per_compute_node\": 1598400.0}, {\"file\": \"data/ceed/noether/petsc-bps-2020-07-01.0.txt\", \"backend\": \"/cpu/self/xsmm/blocked\", \"backend_memtype\": \"host\", \"hostname\": \"noether\", \"test\": \"PETSc CEED Benchmark Problem 4 \", \"num_procs\": 64, \"num_procs_node\": 64, \"degree\": 7, \"quadrature_pts\": 9, \"code\": \"libCEED\", \"bp\": \"4\", \"case\": \"vector\", \"num_unknowns\": 4795200, \"num_elem\": 4736, \"dof_per_node\": 3, \"ksp_its\": 20, \"time_per_it\": 0.00441638, \"cg_iteration_dps\": 1085780000.0, \"FE_nodes_per_compute_node\": 1598400.0}, {\"file\": \"data/ceed/noether/petsc-bps-2020-07-01.0.txt\", \"backend\": \"/cpu/self/xsmm/blocked\", \"backend_memtype\": \"host\", \"hostname\": \"noether\", \"test\": \"PETSc CEED Benchmark Problem 1 \", \"num_procs\": 64, \"num_procs_node\": 64, \"degree\": 7, \"quadrature_pts\": 9, \"code\": \"libCEED\", \"bp\": \"1\", \"case\": \"scalar\", \"num_unknowns\": 3349536, \"num_elem\": 9280, \"dof_per_node\": 1, \"ksp_its\": 5, \"time_per_it\": 0.001340866, \"cg_iteration_dps\": 2498040000.0, \"FE_nodes_per_compute_node\": 3349536.0}, {\"file\": \"data/ceed/noether/petsc-bps-2020-07-01.0.txt\", \"backend\": \"/cpu/self/xsmm/blocked\", \"backend_memtype\": \"host\", \"hostname\": \"noether\", \"test\": \"PETSc CEED Benchmark Problem 2 \", \"num_procs\": 64, \"num_procs_node\": 64, \"degree\": 7, \"quadrature_pts\": 9, \"code\": \"libCEED\", \"bp\": \"2\", \"case\": \"vector\", \"num_unknowns\": 10048608, \"num_elem\": 9280, \"dof_per_node\": 3, \"ksp_its\": 5, \"time_per_it\": 0.00783996, \"cg_iteration_dps\": 1281720000.0, \"FE_nodes_per_compute_node\": 3349536.0}, {\"file\": \"data/ceed/noether/petsc-bps-2020-07-01.0.txt\", \"backend\": \"/cpu/self/xsmm/blocked\", \"backend_memtype\": \"host\", \"hostname\": \"noether\", \"test\": \"PETSc CEED Benchmark Problem 3 \", \"num_procs\": 64, \"num_procs_node\": 64, \"degree\": 7, \"quadrature_pts\": 9, \"code\": \"libCEED\", \"bp\": \"3\", \"case\": \"scalar\", \"num_unknowns\": 3206160, \"num_elem\": 9280, \"dof_per_node\": 1, \"ksp_its\": 20, \"time_per_it\": 0.003172255, \"cg_iteration_dps\": 1010690000.0, \"FE_nodes_per_compute_node\": 3206160.0}, {\"file\": \"data/ceed/noether/petsc-bps-2020-07-01.0.txt\", \"backend\": \"/cpu/self/xsmm/blocked\", \"backend_memtype\": \"host\", \"hostname\": \"noether\", \"test\": \"PETSc CEED Benchmark Problem 4 \", \"num_procs\": 64, \"num_procs_node\": 64, \"degree\": 7, \"quadrature_pts\": 9, \"code\": \"libCEED\", \"bp\": \"4\", \"case\": \"vector\", \"num_unknowns\": 9618480, \"num_elem\": 9280, \"dof_per_node\": 3, \"ksp_its\": 20, \"time_per_it\": 0.00922965, \"cg_iteration_dps\": 1042130000.0000001, \"FE_nodes_per_compute_node\": 3206160.0}, {\"file\": \"data/ceed/noether/petsc-bps-2020-07-01.0.txt\", \"backend\": \"/cpu/self/xsmm/blocked\", \"backend_memtype\": \"host\", \"hostname\": \"noether\", \"test\": \"PETSc CEED Benchmark Problem 1 \", \"num_procs\": 64, \"num_procs_node\": 64, \"degree\": 7, \"quadrature_pts\": 9, \"code\": \"libCEED\", \"bp\": \"1\", \"case\": \"scalar\", \"num_unknowns\": 6673920, \"num_elem\": 19584, \"dof_per_node\": 1, \"ksp_its\": 4, \"time_per_it\": 0.004651425, \"cg_iteration_dps\": 1434810000.0, \"FE_nodes_per_compute_node\": 6673920.0}, {\"file\": \"data/ceed/noether/petsc-bps-2020-07-01.0.txt\", \"backend\": \"/cpu/self/xsmm/blocked\", \"backend_memtype\": \"host\", \"hostname\": \"noether\", \"test\": \"PETSc CEED Benchmark Problem 2 \", \"num_procs\": 64, \"num_procs_node\": 64, \"degree\": 7, \"quadrature_pts\": 9, \"code\": \"libCEED\", \"bp\": \"2\", \"case\": \"vector\", \"num_unknowns\": 20021760, \"num_elem\": 19584, \"dof_per_node\": 3, \"ksp_its\": 4, \"time_per_it\": 0.0224117, \"cg_iteration_dps\": 893362000.0, \"FE_nodes_per_compute_node\": 6673920.0}, {\"file\": \"data/ceed/noether/petsc-bps-2020-07-01.0.txt\", \"backend\": \"/cpu/self/xsmm/blocked\", \"backend_memtype\": \"host\", \"hostname\": \"noether\", \"test\": \"PETSc CEED Benchmark Problem 3 \", \"num_procs\": 64, \"num_procs_node\": 64, \"degree\": 7, \"quadrature_pts\": 9, \"code\": \"libCEED\", \"bp\": \"3\", \"case\": \"scalar\", \"num_unknowns\": 6447048, \"num_elem\": 19584, \"dof_per_node\": 1, \"ksp_its\": 20, \"time_per_it\": 0.00716405, \"cg_iteration_dps\": 899917000.0, \"FE_nodes_per_compute_node\": 6447048.0}, {\"file\": \"data/ceed/noether/petsc-bps-2020-07-01.0.txt\", \"backend\": \"/cpu/self/xsmm/blocked\", \"backend_memtype\": \"host\", \"hostname\": \"noether\", \"test\": \"PETSc CEED Benchmark Problem 4 \", \"num_procs\": 64, \"num_procs_node\": 64, \"degree\": 7, \"quadrature_pts\": 9, \"code\": \"libCEED\", \"bp\": \"4\", \"case\": \"vector\", \"num_unknowns\": 19341144, \"num_elem\": 19584, \"dof_per_node\": 3, \"ksp_its\": 5, \"time_per_it\": 0.0227504, \"cg_iteration_dps\": 850144000.0, \"FE_nodes_per_compute_node\": 6447048.0}]}}, {\"mode\": \"vega-lite\"});\n",
       "</script>"
      ],
      "text/plain": [
       "alt.HConcatChart(...)"
      ]
     },
     "execution_count": 2,
     "metadata": {},
     "output_type": "execute_result"
    }
   ],
   "source": [
    "from ceed_postprocess_base import read_logs\n",
    "import altair as alt\n",
    "from glob import glob\n",
    "\n",
    "runs = read_logs(glob('data/ceed/noether/petsc-bps-2020-*.txt'))\n",
    "runs['FE_nodes_per_compute_node'] = runs['num_unknowns'] / (runs['num_procs'] / runs['num_procs_node']) / runs['dof_per_node']\n",
    "highlight = alt.selection_single(\n",
    "    on='mouseover',\n",
    "    fields=['degree', 'time_per_it', 'backend'],\n",
    "    nearest=True,\n",
    "    empty='none',\n",
    ")\n",
    "\n",
    "bps_select = alt.selection_single(\n",
    "    fields=['bp'],\n",
    ")\n",
    "\n",
    "base = alt.Chart(runs).encode(\n",
    "    alt.Y('mdofs:Q', title='MDoF/s per CG iteration'),\n",
    "    alt.Color('degree:N'),\n",
    "    alt.Size('num_unknowns', scale=alt.Scale(type='log', domain=(1e3, 1e6))),\n",
    "    alt.Shape('bp:N'),\n",
    "    tooltip=('bp', 'num_procs', 'backend', 'num_elem', 'degree', 'num_unknowns', 'file'),\n",
    ").transform_filter(\n",
    "    bps_select,\n",
    ").transform_calculate(\n",
    "    mdofs='datum.cg_iteration_dps/1e6',\n",
    ")\n",
    "\n",
    "points = base.mark_point().encode(\n",
    "    opacity=alt.condition(highlight, alt.value(1), alt.value(.5)),\n",
    ").add_selection(\n",
    "    highlight,\n",
    ")\n",
    "\n",
    "lines = base.mark_line().encode(\n",
    "    size=alt.condition(alt.datum.degree - highlight.degree == 0, alt.value(2), alt.value(1))\n",
    ")\n",
    "\n",
    "pane = points + lines\n",
    "\n",
    "composite = (\n",
    "    pane.encode(\n",
    "        alt.X('time_per_it', scale=alt.Scale(type='log')),\n",
    "    ) |\n",
    "    pane.encode(\n",
    "        alt.X('FE_nodes_per_compute_node', scale=alt.Scale(type='log', domain=(3e4, 1e7), clamp=True)),\n",
    "    )\n",
    ")\n",
    "\n",
    "activator = alt.Chart(runs).mark_point().encode(\n",
    "    alt.Y('bp', title='BP'),\n",
    "    alt.Shape('bp')\n",
    ").add_selection(bps_select).properties(title='Selection')\n",
    "\n",
    "activator | composite.properties(title='Noether (2x EPYC 7452), gcc-10')"
   ]
  },
  {
   "cell_type": "markdown",
   "metadata": {
    "hideCode": true,
    "hidePrompt": true
   },
   "source": [
    "* Implementations improved by competition between MFEM, libCEED, libParanumal (Warburton et al), Deal.II (Kronbichler)"
   ]
  },
  {
   "cell_type": "markdown",
   "metadata": {
    "hideCode": true,
    "hidePrompt": true,
    "slideshow": {
     "slide_type": "slide"
    }
   },
   "source": [
    "<img src=\"figures/ceed/mfem-libceed-lassen.png\" width=60% />"
   ]
  },
  {
   "cell_type": "markdown",
   "metadata": {
    "hideCode": true,
    "hidePrompt": true,
    "slideshow": {
     "slide_type": "slide"
    }
   },
   "source": [
    "# Cloud and the grand un-distortion"
   ]
  },
  {
   "cell_type": "markdown",
   "metadata": {
    "cell_style": "split",
    "hideCode": true,
    "hidePrompt": true,
    "slideshow": {
     "slide_type": ""
    }
   },
   "source": [
    "* Funding agencies and facilities put their thumb on the scale\n",
    "  * Use this machine\n",
    "  * Use it at this scale\n",
    "* Incentives sometimes poorly aligned with science & engineering objectives\n",
    "* PIs have limited time to apply for allocations; easier to \"play the game\"\n",
    "* Expensive to port and tune\n",
    "\n",
    "### Cloud is all fungible\n",
    "* including human vs compute\n",
    "* ? cost to PI and program office"
   ]
  },
  {
   "cell_type": "markdown",
   "metadata": {
    "cell_style": "split",
    "hideCode": true,
    "hidePrompt": true
   },
   "source": [
    "![](figures/acme/acme-bundling-poster.png)\n",
    "\n",
    "![](figures/acme/acme-bundling-mira.png)\n",
    "\n",
    "Most apps don't have the human resources to go through these contortions."
   ]
  },
  {
   "cell_type": "markdown",
   "metadata": {
    "hideCode": true,
    "hidePrompt": true,
    "slideshow": {
     "slide_type": "slide"
    }
   },
   "source": [
    "# Outlook\n",
    "\n",
    "* libCEED\n",
    "  * BDDC preconditioning with sum factorization (no assembly)\n",
    "  * Backend optimization\n",
    "  * Rust interface\n",
    "  * Mixed precision\n",
    "  * Algorithmic differentiation using Enzyme (LLVM, William Moses)\n",
    "* PETSc\n",
    "  * Improved HIP and SYCL support; more fusion in Krylov\n",
    "  * Improved libCEED integration\n",
    "  * \"AMG\"/BDDC using libCEED representation (basis independent)\n",
    "* New solver BPs\n",
    "\n",
    "Thanks to DOE ECP for support."
   ]
  }
 ],
 "metadata": {
  "celltoolbar": "Slideshow",
  "hide_code_all_hidden": true,
  "kernelspec": {
   "display_name": "Python 3",
   "language": "python",
   "name": "python3"
  },
  "language_info": {
   "codemirror_mode": {
    "name": "ipython",
    "version": 3
   },
   "file_extension": ".py",
   "mimetype": "text/x-python",
   "name": "python",
   "nbconvert_exporter": "python",
   "pygments_lexer": "ipython3",
   "version": "3.8.5"
  },
  "rise": {
   "autolaunch": true,
   "controls": false,
   "enable_chalkboard": true,
   "progress": true,
   "slideNumber": false
  }
 },
 "nbformat": 4,
 "nbformat_minor": 4
}
